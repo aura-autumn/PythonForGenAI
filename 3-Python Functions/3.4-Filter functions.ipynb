{
 "cells": [
  {
   "cell_type": "markdown",
   "id": "4cc669ec",
   "metadata": {},
   "source": [
    "##### Filter Functions in Python"
   ]
  },
  {
   "cell_type": "code",
   "execution_count": 1,
   "id": "db161c9f",
   "metadata": {},
   "outputs": [
    {
     "data": {
      "text/plain": [
       "True"
      ]
     },
     "execution_count": 1,
     "metadata": {},
     "output_type": "execute_result"
    }
   ],
   "source": [
    "def even(num):\n",
    "    if num%2==0:\n",
    "        return True\n",
    "\n",
    "even(24)"
   ]
  },
  {
   "cell_type": "code",
   "execution_count": 2,
   "id": "87d5e06b",
   "metadata": {},
   "outputs": [
    {
     "data": {
      "text/plain": [
       "[2, 4, 6, 8, 10, 12, 14, 16]"
      ]
     },
     "execution_count": 2,
     "metadata": {},
     "output_type": "execute_result"
    }
   ],
   "source": [
    "lst=[1,2,3,4,5,6,7,8,9,10,11,12,13,14,15,16]\n",
    "\n",
    "list(filter(even, lst))"
   ]
  },
  {
   "cell_type": "code",
   "execution_count": 3,
   "id": "a114ba60",
   "metadata": {},
   "outputs": [
    {
     "data": {
      "text/plain": [
       "[6, 7, 8, 9]"
      ]
     },
     "execution_count": 3,
     "metadata": {},
     "output_type": "execute_result"
    }
   ],
   "source": [
    "## Filter with a lambda function:\n",
    "\n",
    "num=[1,2,3,4,5,6,7,8,9]\n",
    "\n",
    "list(filter(lambda x:x>5, num))"
   ]
  },
  {
   "cell_type": "code",
   "execution_count": 5,
   "id": "4876cab6",
   "metadata": {},
   "outputs": [
    {
     "data": {
      "text/plain": [
       "[6, 8]"
      ]
     },
     "execution_count": 5,
     "metadata": {},
     "output_type": "execute_result"
    }
   ],
   "source": [
    "## Filter with lambda function and multiple conditions:\n",
    "num=[1,2,3,4,5,6,7,8,9]\n",
    "\n",
    "##Checking even and greater than 5:\n",
    "\n",
    "list(filter(lambda x:x>5 and x%2==0, num))"
   ]
  },
  {
   "cell_type": "code",
   "execution_count": 8,
   "id": "fca0daab",
   "metadata": {},
   "outputs": [
    {
     "name": "stdout",
     "output_type": "stream",
     "text": [
      "[{'name': 'Ray', 'age': 25}, {'name': 'Vik', 'age': 27}, {'name': 'Itachi', 'age': 28}]\n"
     ]
    }
   ],
   "source": [
    "## Filter to check if age<30 in a list of dictionaries:\n",
    "\n",
    "person=[\n",
    "    {'name':'Ray', 'age':25},\n",
    "    {'name':'Vik', 'age':27},\n",
    "    {'name':'Itachi', 'age':28},\n",
    "    {'name':'Jiraiya', 'age':65}\n",
    "]\n",
    "\n",
    "people=list(filter(lambda p: p['age']<30, person))\n",
    "print(people)"
   ]
  }
 ],
 "metadata": {
  "kernelspec": {
   "display_name": "Python 3",
   "language": "python",
   "name": "python3"
  },
  "language_info": {
   "codemirror_mode": {
    "name": "ipython",
    "version": 3
   },
   "file_extension": ".py",
   "mimetype": "text/x-python",
   "name": "python",
   "nbconvert_exporter": "python",
   "pygments_lexer": "ipython3",
   "version": "3.12.0"
  }
 },
 "nbformat": 4,
 "nbformat_minor": 5
}
