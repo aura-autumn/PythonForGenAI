{
 "cells": [
  {
   "cell_type": "markdown",
   "id": "6974e9f7",
   "metadata": {},
   "source": [
    "##### FUNCTIONS IN PYTHON"
   ]
  },
  {
   "cell_type": "code",
   "execution_count": 1,
   "id": "2d8be0e0",
   "metadata": {},
   "outputs": [],
   "source": [
    "## Syntax:\n",
    "\n",
    "def function_name(parameters):\n",
    "    \"\"\"Docstring\"\"\"\n",
    "    ## Function body\n",
    "    return expression"
   ]
  },
  {
   "cell_type": "code",
   "execution_count": 4,
   "id": "399f0dd4",
   "metadata": {},
   "outputs": [],
   "source": [
    "## Odd/even function:\n",
    "def odd_even(num):\n",
    "    \"\"\"This code finds even or odd numbers.\"\"\"\n",
    "    if num%2==0:\n",
    "        print(\"The number is even.\")\n",
    "    else:\n",
    "        print(\"The number is odd.\")"
   ]
  },
  {
   "cell_type": "code",
   "execution_count": 5,
   "id": "01278081",
   "metadata": {},
   "outputs": [
    {
     "name": "stdout",
     "output_type": "stream",
     "text": [
      "The number is odd.\n"
     ]
    }
   ],
   "source": [
    "## Calling odd/even function:\n",
    "odd_even(1846537)"
   ]
  },
  {
   "cell_type": "code",
   "execution_count": 6,
   "id": "90ed813a",
   "metadata": {},
   "outputs": [],
   "source": [
    "## Function with multiple parameters:\n",
    "def add(a,b):\n",
    "    \"\"\"This function adds two numbers\"\"\"\n",
    "    ##c=a+b\n",
    "    return a+b"
   ]
  },
  {
   "cell_type": "code",
   "execution_count": 7,
   "id": "4f86138d",
   "metadata": {},
   "outputs": [
    {
     "data": {
      "text/plain": [
       "119202"
      ]
     },
     "execution_count": 7,
     "metadata": {},
     "output_type": "execute_result"
    }
   ],
   "source": [
    "add(34546,84656)"
   ]
  },
  {
   "cell_type": "code",
   "execution_count": 10,
   "id": "138726cc",
   "metadata": {},
   "outputs": [
    {
     "name": "stdout",
     "output_type": "stream",
     "text": [
      "Hello Ray\n",
      "Hello visitor\n"
     ]
    }
   ],
   "source": [
    "## Default parameters:\n",
    "def greet(name=\"visitor\"):\n",
    "    print(f\"Hello {name}\")\n",
    "\n",
    "greet('Ray')\n",
    "greet()"
   ]
  },
  {
   "cell_type": "code",
   "execution_count": 11,
   "id": "1cce8956",
   "metadata": {},
   "outputs": [],
   "source": [
    "## Variable length arguments:\n",
    "## positional and keyword arguments:\n",
    "\n",
    "def print_num(num1, num2, num3, num4, num5):\n",
    "    print(num1)\n",
    "    print(num2)\n",
    "    print(num3)\n",
    "    print(num4)\n",
    "    print(num5)"
   ]
  },
  {
   "cell_type": "code",
   "execution_count": null,
   "id": "0df00bc2",
   "metadata": {},
   "outputs": [
    {
     "name": "stdout",
     "output_type": "stream",
     "text": [
      "1\n",
      "2\n",
      "3\n",
      "4\n",
      "5\n",
      "6\n",
      "Rays\n"
     ]
    }
   ],
   "source": [
    "def print_num(*args): ## You can write *rays also. args is not necessary but a good practice.\n",
    "    for num in args:\n",
    "        print(num)\n",
    "print_num(1,2,3,4,5,6,\"Rays\") ## All these parameters are called positional arguments. They are passed as a tuple.\n",
    "## Positional arguments are values passed to a function in order, and they are assigned to parameters based on their position."
   ]
  },
  {
   "cell_type": "code",
   "execution_count": 16,
   "id": "d1e50f80",
   "metadata": {},
   "outputs": [
    {
     "name": "stdout",
     "output_type": "stream",
     "text": [
      "name-->Ray\n",
      "age-->25\n",
      "city-->Mordor\n"
     ]
    }
   ],
   "source": [
    "## Keyword arguments: All parameters are in the form of key-value pairs.\n",
    "## Keyword arguments are arguments passed to a function by explicitly naming the parameter.\n",
    "## This means you don’t rely on position — you specify which value goes to which parameter using param=value syntax.\n",
    "def print_details(**kwargs):\n",
    "    for key, value in kwargs.items():\n",
    "        print(f\"{key}-->{value}\")\n",
    "\n",
    "print_details(name=\"Ray\", age=25, city=\"Mordor\")"
   ]
  },
  {
   "cell_type": "code",
   "execution_count": 17,
   "id": "97cc7c08",
   "metadata": {},
   "outputs": [],
   "source": [
    "##Mixed arguments:\n",
    "\n",
    "def printing(*args, **kwargs):\n",
    "    for val in args:\n",
    "        print(val)\n",
    "\n",
    "    for key, val in kwargs.items():\n",
    "        print(f\"{key}:{val}\")\n",
    "        "
   ]
  },
  {
   "cell_type": "code",
   "execution_count": null,
   "id": "6191eda4",
   "metadata": {},
   "outputs": [
    {
     "name": "stdout",
     "output_type": "stream",
     "text": [
      "1\n",
      "2\n",
      "3\n",
      "Rays\n",
      "name:Rays\n"
     ]
    }
   ],
   "source": [
    "printing(1,2,3,\"Rays\", name=\"Rays\") ##Positional arguments first and then the keyword arguments"
   ]
  },
  {
   "cell_type": "code",
   "execution_count": null,
   "id": "26738de3",
   "metadata": {},
   "outputs": [
    {
     "data": {
      "text/plain": [
       "(3915, 45)"
      ]
     },
     "execution_count": 20,
     "metadata": {},
     "output_type": "execute_result"
    }
   ],
   "source": [
    "## Return statements: \n",
    "def multiply(a,b):\n",
    "    return a*b, a ##Return statement can return multiple parameters from a function\n",
    "multiply(45,87)"
   ]
  },
  {
   "cell_type": "code",
   "execution_count": 25,
   "id": "1df58a13",
   "metadata": {},
   "outputs": [
    {
     "name": "stdout",
     "output_type": "stream",
     "text": [
      "77.0\n",
      "25.0\n"
     ]
    }
   ],
   "source": [
    "## Temperature conversion function:\n",
    "def temp_conversion(temp, unit):\n",
    "    \"\"\"This function converts temperature between celsius and fahrenheit\"\"\"\n",
    "    if unit.upper()==\"C\":\n",
    "        return (temp * 9/5) +32 ##Converting Celsius to Fahrenheit\n",
    "    elif unit.upper()==\"F\":\n",
    "        return (temp-32) *5/9 ##Converting Fahrenheit to Celsius\n",
    "    else:\n",
    "        return None\n",
    "\n",
    "print(temp_conversion(25,\"c\"))\n",
    "print(temp_conversion(77,\"F\"))"
   ]
  },
  {
   "cell_type": "code",
   "execution_count": 30,
   "id": "ee6c6061",
   "metadata": {},
   "outputs": [
    {
     "name": "stdout",
     "output_type": "stream",
     "text": [
      "False\n",
      "False\n",
      "False\n",
      "False\n",
      "True\n"
     ]
    }
   ],
   "source": [
    "## Password strength checker function:\n",
    "def pass_check(password):\n",
    "    \"\"\"This function checks if the password is strong or not\"\"\"\n",
    "    if len(password)<8:\n",
    "        return False\n",
    "    if not any(char.isdigit() for char in password):\n",
    "        return False\n",
    "    if not any(char.islower() for char in password):\n",
    "        return False\n",
    "    if not any(char.isupper() for char in password):\n",
    "        return False\n",
    "    if not any(char in '!@#$%^&*()_+' for char in password):\n",
    "        return False\n",
    "    return True\n",
    "\n",
    "print(pass_check(\"RaYs\"))\n",
    "print(pass_check(\"R76dd\"))\n",
    "print(pass_check(\"aaaaaaa@\"))\n",
    "print(pass_check(\"Ray@02\"))   \n",
    "print(pass_check(\"Ray@02123\"))"
   ]
  },
  {
   "cell_type": "code",
   "execution_count": 33,
   "id": "256a8c6c",
   "metadata": {},
   "outputs": [
    {
     "data": {
      "text/plain": [
       "1160"
      ]
     },
     "execution_count": 33,
     "metadata": {},
     "output_type": "execute_result"
    }
   ],
   "source": [
    "## Calculating the total cost of items in shopping cart:\n",
    "def cartcost(cart):\n",
    "    cost=0\n",
    "    for item in cart:\n",
    "        cost+=item['price']*item['quantity']\n",
    "\n",
    "    return cost\n",
    "\n",
    "cart=[\n",
    "    {'name':'Apple', 'price': 40, 'quantity':5},\n",
    "    {'name':'Banana', 'price': 70, 'quantity':12},\n",
    "    {'name':'Watermelon', 'price': 60, 'quantity':2}\n",
    "]  ## List of dictionaries\n",
    "\n",
    "cartcost(cart)"
   ]
  },
  {
   "cell_type": "code",
   "execution_count": 35,
   "id": "9abf463e",
   "metadata": {},
   "outputs": [
    {
     "name": "stdout",
     "output_type": "stream",
     "text": [
      "False\n",
      "True\n"
     ]
    }
   ],
   "source": [
    "## Check if a string is palindrome:\n",
    "\n",
    "def ispalindrome(words):\n",
    "    words=words.lower().replace(\" \",\"\")\n",
    "    return words==words[::-1]\n",
    "\n",
    "print(ispalindrome(\"alaska\"))\n",
    "print(ispalindrome(\"hannah hannah\"))"
   ]
  },
  {
   "cell_type": "code",
   "execution_count": 37,
   "id": "703d8a87",
   "metadata": {},
   "outputs": [
    {
     "name": "stdout",
     "output_type": "stream",
     "text": [
      "362880\n",
      "120\n"
     ]
    }
   ],
   "source": [
    "##Factorial of a number using recursion:\n",
    "\n",
    "def factorial(num):\n",
    "    if num==0:\n",
    "        return 1\n",
    "    else:\n",
    "        return num* factorial(num-1)\n",
    "\n",
    "print(factorial(9))\n",
    "print(factorial(5))"
   ]
  },
  {
   "cell_type": "code",
   "execution_count": 44,
   "id": "f7a92246",
   "metadata": {},
   "outputs": [
    {
     "name": "stdout",
     "output_type": "stream",
     "text": [
      "{'ted': 1, 'chiang’s': 1, 'story': 2, 'of': 6, 'your': 1, 'life': 1, 'is': 2, 'a': 3, 'profound': 1, 'and': 6, 'emotionally': 1, 'resonant': 1, 'exploration': 1, 'language': 2, 'time': 1, 'human': 1, 'connection': 1, 'through': 1, 'the': 5, 'lens': 1, 'linguist': 1, 'decoding': 1, 'an': 1, 'alien': 1, 'chiang': 1, 'masterfully': 1, 'intertwines': 1, 'hard': 1, 'science': 2, 'with': 1, 'deeply': 1, 'personal': 1, 'storytelling': 1, 'nonlinear': 1, 'narrative': 1, 'challenges': 1, 'our': 2, 'perception': 1, 'causality': 1, 'making': 1, 'readers': 1, 'reconsider': 1, 'how': 1, 'memory': 1, 'choice': 1, 'destiny': 1, 'shape': 1, 'lives': 1, 'his': 1, 'prose': 1, 'elegant': 1, 'yet': 1, 'precise': 1, 'philosophical': 1, 'weight': 1, 'lingers': 1, 'long': 1, 'after': 1, 'final': 1, 'page': 1, 'it’s': 1, 'both': 1, 'intellectually': 1, 'stimulating': 1, 'heartbreakingly': 1, 'intimate—a': 1, 'rare': 1, 'blend': 1, 'fiction': 1, 'emotional': 1, 'depth': 1, 'modern': 1, 'classic': 1, 'that': 1, 'rewards': 1, 'thoughtful': 1, 'reading': 1}\n"
     ]
    }
   ],
   "source": [
    "## Function to read a file and count frequency of each word\n",
    "\n",
    "def countFrequency(file_path):\n",
    "    word_count={}\n",
    "    with open(file_path, 'r') as file:\n",
    "        for line in file:\n",
    "            words=line.split()\n",
    "            for word in words:\n",
    "                word=word.lower().strip('!@#$%^&*()_+~\"\\\":;>.<,?/|')\n",
    "                if word:\n",
    "                    word_count[word]=word_count.get(word,0)+1\n",
    "    return word_count\n",
    "\n",
    "filepath='Sample.txt'\n",
    "print(countFrequency(filepath))\n"
   ]
  },
  {
   "cell_type": "markdown",
   "id": "65c04f4f",
   "metadata": {},
   "source": [
    "Escape characters are special character sequences in strings that represent something non-literal — like a newline, tab, or quote.\n",
    "\n",
    "They start with a backslash \\\\, followed by a character that together form the escape sequence."
   ]
  },
  {
   "cell_type": "code",
   "execution_count": 47,
   "id": "34aba1bc",
   "metadata": {},
   "outputs": [
    {
     "name": "stdout",
     "output_type": "stream",
     "text": [
      "True\n",
      "False\n"
     ]
    }
   ],
   "source": [
    "## Validate email address using regex:\n",
    "\n",
    "import re\n",
    "\n",
    "def valid_email_check(email):\n",
    "    pattern=r'^[a-zA-Z0-9._-]+@[a-zA-Z0-9.-_]+\\.[a-zA-Z0-9]{2,}$'\n",
    "    return re.match(pattern, email) is not None\n",
    "\n",
    "print(valid_email_check('rays.anatomies-02@hola.co'))\n",
    "\n",
    "print(valid_email_check('uhoh'))"
   ]
  }
 ],
 "metadata": {
  "kernelspec": {
   "display_name": "Python 3",
   "language": "python",
   "name": "python3"
  },
  "language_info": {
   "codemirror_mode": {
    "name": "ipython",
    "version": 3
   },
   "file_extension": ".py",
   "mimetype": "text/x-python",
   "name": "python",
   "nbconvert_exporter": "python",
   "pygments_lexer": "ipython3",
   "version": "3.12.0"
  }
 },
 "nbformat": 4,
 "nbformat_minor": 5
}
