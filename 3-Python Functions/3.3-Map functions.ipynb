{
 "cells": [
  {
   "cell_type": "markdown",
   "id": "ebb9b1ff",
   "metadata": {},
   "source": [
    "##### Map functions in Python"
   ]
  },
  {
   "cell_type": "code",
   "execution_count": 2,
   "id": "9ce4a08d",
   "metadata": {},
   "outputs": [],
   "source": [
    "## Syntax\n",
    "## map(function,iterable)"
   ]
  },
  {
   "cell_type": "code",
   "execution_count": 3,
   "id": "c2709cdf",
   "metadata": {},
   "outputs": [
    {
     "data": {
      "text/plain": [
       "[1, 4, 9, 16, 25, 36, 49, 64, 81]"
      ]
     },
     "execution_count": 3,
     "metadata": {},
     "output_type": "execute_result"
    }
   ],
   "source": [
    "def square(n):\n",
    "    return n**2\n",
    "\n",
    "num=[1,2,3,4,5,6,7,8,9]\n",
    "list(map(square, num))"
   ]
  },
  {
   "cell_type": "code",
   "execution_count": 4,
   "id": "486eea57",
   "metadata": {},
   "outputs": [
    {
     "data": {
      "text/plain": [
       "[1, 4, 9, 16, 25, 36, 49, 64, 81]"
      ]
     },
     "execution_count": 4,
     "metadata": {},
     "output_type": "execute_result"
    }
   ],
   "source": [
    "## lambda function with map:\n",
    "\n",
    "num=[1,2,3,4,5,6,7,8,9]\n",
    "list(map(lambda x:x**2, num))"
   ]
  },
  {
   "cell_type": "code",
   "execution_count": 6,
   "id": "c92f6ebd",
   "metadata": {},
   "outputs": [
    {
     "name": "stdout",
     "output_type": "stream",
     "text": [
      "[6, 8, 10, 12]\n"
     ]
    }
   ],
   "source": [
    "## Mapping multiple iterables:\n",
    "\n",
    "num1=[1,2,3,4]\n",
    "num2=[5,6,7,8]\n",
    "\n",
    "add=list(map(lambda x,y:x+y , num1, num2))\n",
    "print(add)"
   ]
  },
  {
   "cell_type": "code",
   "execution_count": 8,
   "id": "0aa317d5",
   "metadata": {},
   "outputs": [
    {
     "data": {
      "text/plain": [
       "[1, 2, 3, 4, 5]"
      ]
     },
     "execution_count": 8,
     "metadata": {},
     "output_type": "execute_result"
    }
   ],
   "source": [
    "## Converting a list of strings to integers(Type-casting):\n",
    "\n",
    "num=['1','2','3','4','5']\n",
    "##list(map(lambda x:int(x), num))\n",
    "list(map(int,num))"
   ]
  },
  {
   "cell_type": "code",
   "execution_count": 9,
   "id": "47e7c706",
   "metadata": {},
   "outputs": [
    {
     "name": "stdout",
     "output_type": "stream",
     "text": [
      "['APPLE', 'BANANA', 'CHERRY']\n"
     ]
    }
   ],
   "source": [
    "words=['apple','banana','cherry']\n",
    "upper_words=list(map(str.upper,words))\n",
    "print(upper_words)"
   ]
  },
  {
   "cell_type": "code",
   "execution_count": 11,
   "id": "e2a4803e",
   "metadata": {},
   "outputs": [
    {
     "name": "stdout",
     "output_type": "stream",
     "text": [
      "['Ray', 'Vik']\n"
     ]
    }
   ],
   "source": [
    "##Applying map() to a dictionary:\n",
    "def get_name(person):\n",
    "    return person['name']\n",
    "\n",
    "people=[\n",
    "    {'name':'Ray', 'age':25},\n",
    "    {'name':'Vik', 'age':27}\n",
    "]\n",
    "\n",
    "print(list(map(get_name,people)))"
   ]
  }
 ],
 "metadata": {
  "kernelspec": {
   "display_name": "Python 3",
   "language": "python",
   "name": "python3"
  },
  "language_info": {
   "codemirror_mode": {
    "name": "ipython",
    "version": 3
   },
   "file_extension": ".py",
   "mimetype": "text/x-python",
   "name": "python",
   "nbconvert_exporter": "python",
   "pygments_lexer": "ipython3",
   "version": "3.12.0"
  }
 },
 "nbformat": 4,
 "nbformat_minor": 5
}
