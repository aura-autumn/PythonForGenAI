{
 "cells": [
  {
   "cell_type": "markdown",
   "id": "7cef397a",
   "metadata": {},
   "source": [
    "VARIABLES"
   ]
  },
  {
   "cell_type": "code",
   "execution_count": 1,
   "id": "66042e5e",
   "metadata": {},
   "outputs": [],
   "source": [
    "a=100"
   ]
  },
  {
   "cell_type": "code",
   "execution_count": 2,
   "id": "79813ada",
   "metadata": {},
   "outputs": [
    {
     "name": "stdout",
     "output_type": "stream",
     "text": [
      "age:  25\n",
      "height:  5.4\n",
      "name:  ray\n",
      "student:  True\n"
     ]
    }
   ],
   "source": [
    "## Declairing and assigning variables\n",
    "\n",
    "age=25\n",
    "height=5.4\n",
    "name='ray'\n",
    "is_student=True\n",
    "\n",
    "print(\"age: \",age)\n",
    "print(\"height: \",height)\n",
    "print(\"name: \",name)\n",
    "print(\"student: \",is_student)"
   ]
  },
  {
   "cell_type": "code",
   "execution_count": 6,
   "id": "e379b2cd",
   "metadata": {},
   "outputs": [],
   "source": [
    "##Naming conventions\n",
    "\n",
    "##Valid variable names:\n",
    "\n",
    "first_name='Ray'\n",
    "last_name='Dubey'\n",
    "_age_=25\n",
    "\n",
    "##Invalid variable names:\n",
    "\n",
    "##25age=25\n",
    "##first-name='ray'\n",
    "##@name='Ray'\n"
   ]
  },
  {
   "cell_type": "code",
   "execution_count": 7,
   "id": "27ae4bbc",
   "metadata": {},
   "outputs": [],
   "source": [
    "## Understanding variable types\n",
    "\n",
    "##Python is dynamically typed- Type of a variable is determined at run-time\n",
    "\n",
    "age=25 ##int\n",
    "height=5.4 ##float\n",
    "name='ray' ##string\n",
    "is_student=True #Boolean\n"
   ]
  },
  {
   "cell_type": "code",
   "execution_count": 8,
   "id": "cc4bd60f",
   "metadata": {},
   "outputs": [
    {
     "name": "stdout",
     "output_type": "stream",
     "text": [
      "<class 'int'>\n"
     ]
    }
   ],
   "source": [
    "## Type checking and conversion\n",
    "age=25\n",
    "print(type(age))"
   ]
  },
  {
   "cell_type": "code",
   "execution_count": 9,
   "id": "b407f307",
   "metadata": {},
   "outputs": [
    {
     "name": "stdout",
     "output_type": "stream",
     "text": [
      "25\n",
      "<class 'str'>\n"
     ]
    }
   ],
   "source": [
    "age_str=str(age)\n",
    "print(age_str)\n",
    "print(type(age_str))"
   ]
  },
  {
   "cell_type": "code",
   "execution_count": 10,
   "id": "57e0bade",
   "metadata": {},
   "outputs": [
    {
     "name": "stdout",
     "output_type": "stream",
     "text": [
      "<class 'str'>\n",
      "<class 'int'>\n"
     ]
    }
   ],
   "source": [
    "age='25'\n",
    "print(type(age))\n",
    "age_int=int(age)\n",
    "print(type(age_int))"
   ]
  },
  {
   "cell_type": "code",
   "execution_count": 11,
   "id": "6865120c",
   "metadata": {},
   "outputs": [],
   "source": [
    "##name='Ray' cannot turn into int(name)"
   ]
  },
  {
   "cell_type": "code",
   "execution_count": 12,
   "id": "2ca0c142",
   "metadata": {},
   "outputs": [
    {
     "data": {
      "text/plain": [
       "float"
      ]
     },
     "execution_count": 12,
     "metadata": {},
     "output_type": "execute_result"
    }
   ],
   "source": [
    "height=5.44\n",
    "type(height)"
   ]
  },
  {
   "cell_type": "code",
   "execution_count": 14,
   "id": "13a0a5b9",
   "metadata": {},
   "outputs": [
    {
     "data": {
      "text/plain": [
       "5"
      ]
     },
     "execution_count": 14,
     "metadata": {},
     "output_type": "execute_result"
    }
   ],
   "source": [
    "int(height)\n",
    "#float(int(height))"
   ]
  },
  {
   "cell_type": "code",
   "execution_count": 15,
   "id": "8bdda396",
   "metadata": {},
   "outputs": [
    {
     "name": "stdout",
     "output_type": "stream",
     "text": [
      "10 <class 'int'>\n",
      "ray <class 'str'>\n",
      "3.14 <class 'float'>\n"
     ]
    }
   ],
   "source": [
    "##Python allows the type of a variable to change as the program executes\n",
    "var=10\n",
    "print(var,type(var))\n",
    "var='ray'\n",
    "print(var,type(var))\n",
    "var=3.14\n",
    "print(var,type(var))"
   ]
  },
  {
   "cell_type": "code",
   "execution_count": null,
   "id": "582c78f2",
   "metadata": {},
   "outputs": [
    {
     "name": "stdout",
     "output_type": "stream",
     "text": [
      "25 <class 'int'>\n"
     ]
    }
   ],
   "source": [
    "##input\n",
    "## be default type is str for input\n",
    "age=int(input(\"What is the age? \"))\n",
    "print(age, type(age))"
   ]
  },
  {
   "cell_type": "markdown",
   "id": "71066ca4",
   "metadata": {},
   "source": [
    "Simple calculator"
   ]
  },
  {
   "cell_type": "code",
   "execution_count": 20,
   "id": "e9da5745",
   "metadata": {},
   "outputs": [
    {
     "name": "stdout",
     "output_type": "stream",
     "text": [
      "sum:  30.0\n",
      "difference:  20.0\n",
      "multiplication:  125.0\n",
      "division:  5.0\n"
     ]
    }
   ],
   "source": [
    "num1=float(input(\"Enter first number: \"))\n",
    "num2=float(input(\"Enter second number: \"))\n",
    "\n",
    "sum=num1+num2\n",
    "diff=num1-num2\n",
    "mult=num1*num2\n",
    "div=num1/num2\n",
    "\n",
    "print(\"sum: \",sum)\n",
    "print(\"difference: \", diff)\n",
    "print(\"multiplication: \",mult)\n",
    "print(\"division: \",div)"
   ]
  }
 ],
 "metadata": {
  "kernelspec": {
   "display_name": "Python 3",
   "language": "python",
   "name": "python3"
  },
  "language_info": {
   "codemirror_mode": {
    "name": "ipython",
    "version": 3
   },
   "file_extension": ".py",
   "mimetype": "text/x-python",
   "name": "python",
   "nbconvert_exporter": "python",
   "pygments_lexer": "ipython3",
   "version": "3.12.0"
  }
 },
 "nbformat": 4,
 "nbformat_minor": 5
}
