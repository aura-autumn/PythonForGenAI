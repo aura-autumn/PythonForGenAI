{
 "cells": [
  {
   "cell_type": "markdown",
   "id": "ebf933e6",
   "metadata": {},
   "source": [
    "OPERATORS"
   ]
  },
  {
   "cell_type": "code",
   "execution_count": null,
   "id": "a086ff2d",
   "metadata": {},
   "outputs": [
    {
     "name": "stdout",
     "output_type": "stream",
     "text": [
      "25\n",
      "-5\n",
      "150\n",
      "0.6666666666666666\n",
      "0\n",
      "10\n",
      "1000000000000000\n"
     ]
    }
   ],
   "source": [
    "##Arithmetic operations\n",
    "a=10\n",
    "b=15\n",
    "\n",
    "addresult=a+b ##Addition\n",
    "subresult=a-b ##Substraction\n",
    "multresult=a*b ##Multiplication\n",
    "divresult=a/b ##Division\n",
    "floor_div_result=a//b ##Floor division- Floor value of the division result\n",
    "mod_result=a%b ##Modulus operation-gives you the remainder\n",
    "exp_result=a**b ##Exponential operation\n",
    "\n",
    "print(addresult)\n",
    "print(subresult)\n",
    "print(multresult)\n",
    "print(divresult)\n",
    "print(floor_div_result)\n",
    "print(mod_result)\n",
    "print(exp_result)"
   ]
  },
  {
   "cell_type": "code",
   "execution_count": null,
   "id": "e94f1cef",
   "metadata": {},
   "outputs": [
    {
     "data": {
      "text/plain": [
       "False"
      ]
     },
     "execution_count": 4,
     "metadata": {},
     "output_type": "execute_result"
    }
   ],
   "source": [
    "##Comparison operators (comparison is also case sensitive)\n",
    "a=10\n",
    "b=10\n",
    "a==b ## Equal to operator\n",
    "n1='ray'\n",
    "n2='Ray'\n",
    "n1==n2"
   ]
  },
  {
   "cell_type": "code",
   "execution_count": 5,
   "id": "011a6b49",
   "metadata": {},
   "outputs": [
    {
     "data": {
      "text/plain": [
       "True"
      ]
     },
     "execution_count": 5,
     "metadata": {},
     "output_type": "execute_result"
    }
   ],
   "source": [
    "## Not equal to !=\n",
    "\n",
    "n1!=n2"
   ]
  },
  {
   "cell_type": "code",
   "execution_count": 6,
   "id": "8fa8af11",
   "metadata": {},
   "outputs": [
    {
     "data": {
      "text/plain": [
       "True"
      ]
     },
     "execution_count": 6,
     "metadata": {},
     "output_type": "execute_result"
    }
   ],
   "source": [
    "## Greater than >\n",
    "\n",
    "45>30"
   ]
  },
  {
   "cell_type": "code",
   "execution_count": 7,
   "id": "03ae464a",
   "metadata": {},
   "outputs": [
    {
     "data": {
      "text/plain": [
       "True"
      ]
     },
     "execution_count": 7,
     "metadata": {},
     "output_type": "execute_result"
    }
   ],
   "source": [
    "## Less than <\n",
    "\n",
    "a=7\n",
    "b=9\n",
    "a<b"
   ]
  },
  {
   "cell_type": "code",
   "execution_count": 8,
   "id": "94cb2ced",
   "metadata": {},
   "outputs": [
    {
     "data": {
      "text/plain": [
       "True"
      ]
     },
     "execution_count": 8,
     "metadata": {},
     "output_type": "execute_result"
    }
   ],
   "source": [
    "## Greater than or equal to\n",
    "\n",
    "a=78\n",
    "b=78\n",
    "a>=b"
   ]
  },
  {
   "cell_type": "code",
   "execution_count": 9,
   "id": "b47404fa",
   "metadata": {},
   "outputs": [
    {
     "data": {
      "text/plain": [
       "True"
      ]
     },
     "execution_count": 9,
     "metadata": {},
     "output_type": "execute_result"
    }
   ],
   "source": [
    "## Less than or equal to\n",
    "\n",
    "a=67\n",
    "b=89\n",
    "a<=b"
   ]
  },
  {
   "cell_type": "code",
   "execution_count": 10,
   "id": "ae4794ec",
   "metadata": {},
   "outputs": [
    {
     "data": {
      "text/plain": [
       "False"
      ]
     },
     "execution_count": 10,
     "metadata": {},
     "output_type": "execute_result"
    }
   ],
   "source": [
    "##Logical operators\n",
    "## AND, OR, NOT\n",
    "\n",
    "a=True\n",
    "b=False\n",
    "\n",
    "a and b"
   ]
  },
  {
   "cell_type": "code",
   "execution_count": 11,
   "id": "e22c164b",
   "metadata": {},
   "outputs": [
    {
     "data": {
      "text/plain": [
       "True"
      ]
     },
     "execution_count": 11,
     "metadata": {},
     "output_type": "execute_result"
    }
   ],
   "source": [
    "a or b"
   ]
  },
  {
   "cell_type": "code",
   "execution_count": 14,
   "id": "ed141280",
   "metadata": {},
   "outputs": [
    {
     "data": {
      "text/plain": [
       "False"
      ]
     },
     "execution_count": 14,
     "metadata": {},
     "output_type": "execute_result"
    }
   ],
   "source": [
    "x=True\n",
    "not x"
   ]
  }
 ],
 "metadata": {
  "kernelspec": {
   "display_name": "Python 3",
   "language": "python",
   "name": "python3"
  },
  "language_info": {
   "codemirror_mode": {
    "name": "ipython",
    "version": 3
   },
   "file_extension": ".py",
   "mimetype": "text/x-python",
   "name": "python",
   "nbconvert_exporter": "python",
   "pygments_lexer": "ipython3",
   "version": "3.12.0"
  }
 },
 "nbformat": 4,
 "nbformat_minor": 5
}
