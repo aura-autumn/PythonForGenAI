{
 "cells": [
  {
   "cell_type": "markdown",
   "id": "2d495213",
   "metadata": {},
   "source": [
    "CONDITIONAL STATEMENTS (IF, ELIF, ELSE)"
   ]
  },
  {
   "cell_type": "code",
   "execution_count": 1,
   "id": "99dc210f",
   "metadata": {},
   "outputs": [
    {
     "name": "stdout",
     "output_type": "stream",
     "text": [
      "Grown up!!\n"
     ]
    }
   ],
   "source": [
    "## if statement\n",
    "\n",
    "age=25\n",
    "\n",
    "if age>18:\n",
    "    print(\"Grown up!!\")"
   ]
  },
  {
   "cell_type": "code",
   "execution_count": 2,
   "id": "ad493920",
   "metadata": {},
   "outputs": [
    {
     "name": "stdout",
     "output_type": "stream",
     "text": [
      "Not eligible to vote :(\n"
     ]
    }
   ],
   "source": [
    "## else statement\n",
    "\n",
    "age=10\n",
    "if age>=18:\n",
    "    print(\"Eligible to vote!\")\n",
    "else:\n",
    "    print(\"Not eligible to vote :(\")"
   ]
  },
  {
   "cell_type": "code",
   "execution_count": 5,
   "id": "46525c60",
   "metadata": {},
   "outputs": [
    {
     "name": "stdout",
     "output_type": "stream",
     "text": [
      "Kid. Kid. Kid.\n"
     ]
    }
   ],
   "source": [
    "##elif statement\n",
    "\n",
    "age=3\n",
    "if age<13:\n",
    "    print(\"Kid. Kid. Kid.\")\n",
    "elif age>13 and age<18:\n",
    "    print(\"Teen menace.\")\n",
    "else:\n",
    "    print(\"Adulthood was never easy :(\")"
   ]
  },
  {
   "cell_type": "code",
   "execution_count": 9,
   "id": "9196e9f1",
   "metadata": {},
   "outputs": [
    {
     "name": "stdout",
     "output_type": "stream",
     "text": [
      "It's zero!\n"
     ]
    }
   ],
   "source": [
    "## Nested conditional statements\n",
    "## Problem- Given a number, determine whether it is even, odd, or negative:\n",
    "\n",
    "num=int(input(\"Enter a number: \"))\n",
    "if num>0:\n",
    "    print(\"The number is positive.\")\n",
    "    if num%2==0:\n",
    "        print(\"Even number.\")\n",
    "    else:\n",
    "        print(\"Odd number.\")\n",
    "elif num==0:\n",
    "    print(\"It's zero!\")\n",
    "else:\n",
    "    print(\"The number is negative.\")"
   ]
  },
  {
   "cell_type": "markdown",
   "id": "0ebe833e",
   "metadata": {},
   "source": [
    "Practical examples:"
   ]
  },
  {
   "cell_type": "code",
   "execution_count": 11,
   "id": "d0c88412",
   "metadata": {},
   "outputs": [
    {
     "name": "stdout",
     "output_type": "stream",
     "text": [
      "2000  is a leap year.\n"
     ]
    }
   ],
   "source": [
    "## Determine if a year is a leap year using nested conditional statements:\n",
    "\n",
    "year=int(input(\"Enter the year: \"))\n",
    "\n",
    "if year%4==0:\n",
    "    if year%100==0:\n",
    "        if year%400==0:\n",
    "            print(year, \" is a leap year.\")\n",
    "        else:\n",
    "            print(\"Not a leap year\")\n",
    "    else:\n",
    "        print(\"Leap year\")\n",
    "else:\n",
    "    print(\"Not a leap year\")"
   ]
  },
  {
   "cell_type": "code",
   "execution_count": 12,
   "id": "8549563b",
   "metadata": {},
   "outputs": [
    {
     "name": "stdout",
     "output_type": "stream",
     "text": [
      "5.666666666666667\n"
     ]
    }
   ],
   "source": [
    "## Simple calculator:\n",
    "num1=float(input(\"Enter the first number:\"))\n",
    "num2=float(input(\"Enter the second number:\"))\n",
    "\n",
    "operand=input(\"Enter the symbol of operation to perform. Addition (+). Substraction (-). Multiplication(*). Division(/). Floor division(//). Exponential(**). Modulus(%)\")\n",
    "\n",
    "if operand=='+':\n",
    "    print(num1+num2)\n",
    "elif operand=='-':\n",
    "    print(num1-num2)\n",
    "elif operand=='*':\n",
    "    print(num1*num2)\n",
    "elif operand=='/':\n",
    "    if num2==0:\n",
    "        print(\"Error!!!!\")\n",
    "    else:\n",
    "        print(num1/num2)\n",
    "elif operand=='//':\n",
    "    if num2==0:\n",
    "        print(\"Error!!!\")\n",
    "    else:\n",
    "        print(num1//num2)\n",
    "elif operand=='**':\n",
    "    print(num1**num2)\n",
    "elif operand=='%':\n",
    "    print(num1%num2)\n",
    "else:\n",
    "    print(\"No!\")"
   ]
  },
  {
   "cell_type": "code",
   "execution_count": 20,
   "id": "157f72b1",
   "metadata": {},
   "outputs": [
    {
     "name": "stdout",
     "output_type": "stream",
     "text": [
      "What are you even?\n"
     ]
    }
   ],
   "source": [
    "## Determine the ticket price based on age and whether they are a student:\n",
    "\n",
    "age=int(input(\"How old are you? \"))\n",
    "student=input(\"Are you a student? (y/n)\")\n",
    "\n",
    "if age>0 and age<=13:\n",
    "    print(\"10$\")\n",
    "elif age>13 and age<25:\n",
    "    if student=='y':\n",
    "        print(\"12$\")\n",
    "    else:\n",
    "        print(\"15$\")\n",
    "elif age>=25 and age<60:\n",
    "    print(\"20$\")\n",
    "elif age>60:\n",
    "    print(\"18$\")\n",
    "else:\n",
    "    print(\"What are you even?\")"
   ]
  }
 ],
 "metadata": {
  "kernelspec": {
   "display_name": "Python 3",
   "language": "python",
   "name": "python3"
  },
  "language_info": {
   "codemirror_mode": {
    "name": "ipython",
    "version": 3
   },
   "file_extension": ".py",
   "mimetype": "text/x-python",
   "name": "python",
   "nbconvert_exporter": "python",
   "pygments_lexer": "ipython3",
   "version": "3.12.0"
  }
 },
 "nbformat": 4,
 "nbformat_minor": 5
}
