{
 "cells": [
  {
   "cell_type": "markdown",
   "id": "9ed2e057",
   "metadata": {},
   "source": [
    "##### Logging with Multiple Loggers:\n",
    "\n",
    "We can create multiple loggers for different parts of our application."
   ]
  },
  {
   "cell_type": "code",
   "execution_count": 1,
   "id": "20203748",
   "metadata": {},
   "outputs": [],
   "source": [
    "import logging\n",
    "\n",
    "##Creating a logger for module 1:\n",
    "logger1=logging.getLogger(\"module1\")\n",
    "logger1.setLevel(logging.DEBUG)\n",
    "\n",
    "\n",
    "##Creating a logger for module 2:\n",
    "logger2=logging.getLogger(\"module2\")\n",
    "logger2.setLevel(logging.WARNING)\n",
    "\n",
    "logging.basicConfig(\n",
    "    filename='app1.log',\n",
    "    filemode='w',\n",
    "    level=logging.DEBUG, \n",
    "    format='%(asctime)s-%(name)s-%(levelname)s-%(message)s',\n",
    "    datefmt='%Y-%m-%d %H-%M-%S'\n",
    "    )"
   ]
  },
  {
   "cell_type": "code",
   "execution_count": 2,
   "id": "b8717f02",
   "metadata": {},
   "outputs": [],
   "source": [
    "##Log messages with different loggers:\n",
    "\n",
    "logger1.debug(\"Debug for module1\")\n",
    "logger2.warning(\"Warning for module2\")\n",
    "logger2.error(\"Error for module2\")"
   ]
  }
 ],
 "metadata": {
  "kernelspec": {
   "display_name": "Python 3",
   "language": "python",
   "name": "python3"
  },
  "language_info": {
   "codemirror_mode": {
    "name": "ipython",
    "version": 3
   },
   "file_extension": ".py",
   "mimetype": "text/x-python",
   "name": "python",
   "nbconvert_exporter": "python",
   "pygments_lexer": "ipython3",
   "version": "3.12.0"
  }
 },
 "nbformat": 4,
 "nbformat_minor": 5
}
