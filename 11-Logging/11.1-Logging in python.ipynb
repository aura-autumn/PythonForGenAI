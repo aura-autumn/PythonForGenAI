{
 "cells": [
  {
   "cell_type": "markdown",
   "id": "bbc955d4",
   "metadata": {},
   "source": [
    "##### Logging in Python\n",
    "\n",
    "Logging provides a way to track events, errors, and operational information. "
   ]
  },
  {
   "cell_type": "code",
   "execution_count": 1,
   "id": "4eb3afd6",
   "metadata": {},
   "outputs": [],
   "source": [
    "import logging"
   ]
  },
  {
   "cell_type": "code",
   "execution_count": 4,
   "id": "1a6ae0d7",
   "metadata": {},
   "outputs": [],
   "source": [
    "##Configure the basic logging settings:\n",
    "\n",
    "logging.basicConfig(level=logging.DEBUG)\n",
    "\n",
    "##log messages with different severity levels:\n",
    "\n",
    "logging.debug(\"This is a debug message.\")\n",
    "logging.info(\"This is an info message.\")\n",
    "logging.warning(\"This is a warning message.\")\n",
    "logging.error(\"This is an error message.\")\n",
    "logging.critical(\"This is a critical message.\")"
   ]
  },
  {
   "cell_type": "markdown",
   "id": "197a569e",
   "metadata": {},
   "source": [
    "Different log levels:\n",
    "\n",
    "- DEBUG- Detailed information, typically of interest only when diagnosing problems.\n",
    "- INFO- Confirmation that things are working as expected.\n",
    "- WARNING- Indication that something unexpected happened or might happen (eg: disk space low). The software is still working as expected.\n",
    "- ERROR- Due to a more serious problem, the software has not been able to perform some function.\n",
    "- CRITICAL- A very serious error, indicating that the program itself may be unable to continue running."
   ]
  },
  {
   "cell_type": "code",
   "execution_count": 2,
   "id": "8a9e7078",
   "metadata": {},
   "outputs": [],
   "source": [
    "##Configuring the logging:\n",
    "\n",
    "logging.basicConfig(\n",
    "    filename='app.log',\n",
    "    filemode='w',\n",
    "    level=logging.DEBUG, \n",
    "    format='%(asctime)s-%(name)s-%(levelname)s-%(message)s',\n",
    "    datefmt='%Y-%m-%d %H-%M-%S'\n",
    "    )\n",
    "\n",
    "logging.debug(\"This is a debug message.\")\n",
    "logging.info(\"This is an info message.\")\n",
    "logging.warning(\"This is a warning message.\")\n",
    "logging.error(\"This is an error message.\")\n",
    "logging.critical(\"This is a critical message.\")"
   ]
  },
  {
   "cell_type": "code",
   "execution_count": 3,
   "id": "7a44aea3",
   "metadata": {},
   "outputs": [],
   "source": [
    "logging.debug(\"This is a debug message.\")\n",
    "logging.info(\"This is an info message.\")\n",
    "logging.warning(\"This is a warning message.\")\n",
    "logging.error(\"This is an error message.\")\n",
    "logging.critical(\"This is a critical message.\")"
   ]
  },
  {
   "cell_type": "markdown",
   "id": "6057d6dc",
   "metadata": {},
   "source": [
    "Must restart the kernel to execute any changes to the basic config function."
   ]
  }
 ],
 "metadata": {
  "kernelspec": {
   "display_name": "Python 3",
   "language": "python",
   "name": "python3"
  },
  "language_info": {
   "codemirror_mode": {
    "name": "ipython",
    "version": 3
   },
   "file_extension": ".py",
   "mimetype": "text/x-python",
   "name": "python",
   "nbconvert_exporter": "python",
   "pygments_lexer": "ipython3",
   "version": "3.12.0"
  }
 },
 "nbformat": 4,
 "nbformat_minor": 5
}
