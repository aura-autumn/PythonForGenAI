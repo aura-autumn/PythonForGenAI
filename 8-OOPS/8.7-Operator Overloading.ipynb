{
 "cells": [
  {
   "cell_type": "markdown",
   "id": "88bf670c",
   "metadata": {},
   "source": [
    "##### Operator overloading in python:\n",
    "\n",
    "Operator overloading allows you to define the behaviour of operators (+,-,*,etc) for custom objects. You achieve this by overriding specific magic methods in your class."
   ]
  },
  {
   "cell_type": "code",
   "execution_count": 2,
   "id": "093f0624",
   "metadata": {},
   "outputs": [
    {
     "name": "stdout",
     "output_type": "stream",
     "text": [
      "vector(6,8)\n",
      "vector(-2,-2)\n",
      "False\n",
      "(8, 10)\n",
      "vector(2,3)\n"
     ]
    }
   ],
   "source": [
    "class vector:\n",
    "    def __init__(self, x, y):\n",
    "        self.x=x\n",
    "        self.y=y\n",
    "    def __add__(self, other):\n",
    "        return vector(self.x+other.x, self.y+other.y)\n",
    "    def __sub__(self, other):\n",
    "        return vector(self.x-other.x, self.y-other.y)\n",
    "    def __mul__(self, other):\n",
    "        return self.x*other, self.y*other\n",
    "    def __eq__(self, other):\n",
    "        return self.x==other.y and self.y==other.y\n",
    "    def __repr__(self):\n",
    "        return \"vector({},{})\".format(self.x, self.y)\n",
    "\n",
    "v1=vector(2,3)\n",
    "v2=vector(4,5)\n",
    "\n",
    "print(v1+v2)\n",
    "print(v1-v2)\n",
    "print(v1==v2)\n",
    "print(v2*2)\n",
    "print(v1)"
   ]
  },
  {
   "cell_type": "code",
   "execution_count": 6,
   "id": "145cccf2",
   "metadata": {},
   "outputs": [],
   "source": [
    "## Mathematical operations on imaginary numbers:\n",
    "\n",
    "class complex:\n",
    "    def __init__(self, real, imag):\n",
    "        self.real=real\n",
    "        self.imag=imag\n",
    "    def __add__(self, other):\n",
    "        return (self.real+other.real, self.imag+other.imag)\n",
    "    def __sub__(self, other):\n",
    "        return (self.real-other.real, self.imag-other.imag)"
   ]
  },
  {
   "cell_type": "code",
   "execution_count": 7,
   "id": "b40e1a70",
   "metadata": {},
   "outputs": [
    {
     "name": "stdout",
     "output_type": "stream",
     "text": [
      "(10, 12)\n",
      "(-4, -4)\n"
     ]
    }
   ],
   "source": [
    "cp1=complex(3,4)\n",
    "cp2=complex(7,8)\n",
    "print(cp1+cp2)\n",
    "print(cp1-cp2)"
   ]
  }
 ],
 "metadata": {
  "kernelspec": {
   "display_name": "Python 3",
   "language": "python",
   "name": "python3"
  },
  "language_info": {
   "codemirror_mode": {
    "name": "ipython",
    "version": 3
   },
   "file_extension": ".py",
   "mimetype": "text/x-python",
   "name": "python",
   "nbconvert_exporter": "python",
   "pygments_lexer": "ipython3",
   "version": "3.12.0"
  }
 },
 "nbformat": 4,
 "nbformat_minor": 5
}
