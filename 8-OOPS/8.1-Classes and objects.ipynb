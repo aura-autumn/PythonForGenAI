{
 "cells": [
  {
   "cell_type": "markdown",
   "id": "5d64ed60",
   "metadata": {},
   "source": [
    "##### Classes and objects in Python:"
   ]
  },
  {
   "cell_type": "code",
   "execution_count": 1,
   "id": "bc3aa6a0",
   "metadata": {},
   "outputs": [],
   "source": [
    "class car:\n",
    "    pass\n",
    "\n",
    "audi=car()"
   ]
  },
  {
   "cell_type": "code",
   "execution_count": 5,
   "id": "9c246c91",
   "metadata": {},
   "outputs": [
    {
     "name": "stdout",
     "output_type": "stream",
     "text": [
      "<class '__main__.car'>\n",
      "<__main__.car object at 0x0000020AEC12E660>\n",
      "4\n"
     ]
    }
   ],
   "source": [
    "print(type(audi))\n",
    "print(audi)\n",
    "audi.windows=4\n",
    "print(audi.windows)"
   ]
  },
  {
   "cell_type": "code",
   "execution_count": 6,
   "id": "5414f34a",
   "metadata": {},
   "outputs": [
    {
     "data": {
      "text/plain": [
       "['__class__',\n",
       " '__delattr__',\n",
       " '__dict__',\n",
       " '__dir__',\n",
       " '__doc__',\n",
       " '__eq__',\n",
       " '__format__',\n",
       " '__ge__',\n",
       " '__getattribute__',\n",
       " '__getstate__',\n",
       " '__gt__',\n",
       " '__hash__',\n",
       " '__init__',\n",
       " '__init_subclass__',\n",
       " '__le__',\n",
       " '__lt__',\n",
       " '__module__',\n",
       " '__ne__',\n",
       " '__new__',\n",
       " '__reduce__',\n",
       " '__reduce_ex__',\n",
       " '__repr__',\n",
       " '__setattr__',\n",
       " '__sizeof__',\n",
       " '__str__',\n",
       " '__subclasshook__',\n",
       " '__weakref__',\n",
       " 'windows']"
      ]
     },
     "execution_count": 6,
     "metadata": {},
     "output_type": "execute_result"
    }
   ],
   "source": [
    "dir(audi)"
   ]
  },
  {
   "cell_type": "code",
   "execution_count": null,
   "id": "755728d7",
   "metadata": {},
   "outputs": [
    {
     "name": "stdout",
     "output_type": "stream",
     "text": [
      "chihuahua\n",
      "4\n"
     ]
    }
   ],
   "source": [
    "##Instance variables:\n",
    "\n",
    "class dog:\n",
    "    ##Constructor:\n",
    "    def __init__(self,breed,age):\n",
    "        self.breed=breed\n",
    "        self.age=age\n",
    "\n",
    "##Creating an object\n",
    "\n",
    "dg1=dog('chihuahua',4)\n",
    "print(dg1.breed)\n",
    "print(dg1.age)"
   ]
  },
  {
   "cell_type": "code",
   "execution_count": 12,
   "id": "86313fa0",
   "metadata": {},
   "outputs": [
    {
     "name": "stdout",
     "output_type": "stream",
     "text": [
      "retreiver\n",
      "3\n"
     ]
    }
   ],
   "source": [
    "dg2=dog('retreiver',3)\n",
    "print(dg2.breed)\n",
    "print(dg2.age)"
   ]
  },
  {
   "cell_type": "code",
   "execution_count": 14,
   "id": "ddf04990",
   "metadata": {},
   "outputs": [
    {
     "name": "stdout",
     "output_type": "stream",
     "text": [
      "All our dogs have the same color. Surprise!\n"
     ]
    }
   ],
   "source": [
    "##Instance methods:\n",
    "class dog:\n",
    "    def __init__(self,breed,age):\n",
    "        self.breed=breed\n",
    "        self.age=age\n",
    "    def color(self):\n",
    "        print('All our dogs have the same color. Surprise!')\n",
    "\n",
    "dg1=dog('shitzu',5)\n",
    "dg1.color()"
   ]
  },
  {
   "cell_type": "code",
   "execution_count": 17,
   "id": "219fa574",
   "metadata": {},
   "outputs": [
    {
     "name": "stdout",
     "output_type": "stream",
     "text": [
      "rays\n",
      "1000000\n",
      "Amount is deposited. New balance is 1050000\n",
      "Insufficient funds\n",
      "Amount withdrawn. New balance: 704378\n",
      "704378\n"
     ]
    }
   ],
   "source": [
    "##Modelling a bank account:\n",
    "\n",
    "##Defining a class for a bank account:\n",
    "\n",
    "class BankAccount:\n",
    "    def __init__(self,owner,balance=0):\n",
    "        self.owner=owner\n",
    "        self.balance=balance\n",
    "    def deposit(self,amount):\n",
    "        self.balance+=amount\n",
    "        print(f\"Amount is deposited. New balance is {self.balance}\")\n",
    "    def withdraw(self, amount):\n",
    "        if amount>self.balance:\n",
    "            print(\"Insufficient funds\")\n",
    "        else:\n",
    "            self.balance-=amount\n",
    "            print(f\"Amount withdrawn. New balance: {self.balance}\")\n",
    "    def getbalance(self):\n",
    "        return self.balance\n",
    "\n",
    "acc1=BankAccount('rays',1000000)\n",
    "print(acc1.owner)\n",
    "print(acc1.balance)\n",
    "acc1.deposit(50000)\n",
    "acc1.withdraw(8456633333333)\n",
    "acc1.withdraw(345622)\n",
    "print(acc1.getbalance())"
   ]
  }
 ],
 "metadata": {
  "kernelspec": {
   "display_name": "Python 3",
   "language": "python",
   "name": "python3"
  },
  "language_info": {
   "codemirror_mode": {
    "name": "ipython",
    "version": 3
   },
   "file_extension": ".py",
   "mimetype": "text/x-python",
   "name": "python",
   "nbconvert_exporter": "python",
   "pygments_lexer": "ipython3",
   "version": "3.12.0"
  }
 },
 "nbformat": 4,
 "nbformat_minor": 5
}
