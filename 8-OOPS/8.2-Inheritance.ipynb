{
 "cells": [
  {
   "cell_type": "markdown",
   "id": "33ddca44",
   "metadata": {},
   "source": [
    "##### Inheritance in Python\n",
    "\n",
    "Inheritance allows a class to inherit attributes and methods from another class."
   ]
  },
  {
   "cell_type": "code",
   "execution_count": 4,
   "id": "b86cc720",
   "metadata": {},
   "outputs": [],
   "source": [
    "## Parent class:\n",
    "class car:\n",
    "    def __init__(self, windows, doors, engine):\n",
    "        self.windows=windows\n",
    "        self.doors=doors\n",
    "        self.engine=engine\n",
    "    def drive(self):\n",
    "        return \"Car driven by {} engine\".format(self.engine)"
   ]
  },
  {
   "cell_type": "code",
   "execution_count": 5,
   "id": "799c87f7",
   "metadata": {},
   "outputs": [
    {
     "name": "stdout",
     "output_type": "stream",
     "text": [
      "Car driven by Internal Combustion engine\n"
     ]
    }
   ],
   "source": [
    "car1=car(4,5,'Internal Combustion')\n",
    "print(car1.drive())"
   ]
  },
  {
   "cell_type": "code",
   "execution_count": 6,
   "id": "3eedd35d",
   "metadata": {},
   "outputs": [],
   "source": [
    "##subclass:\n",
    "\n",
    "class tesla(car):\n",
    "    def __init__(self, windows, doors, engine, selfdrive):\n",
    "        super().__init__(windows, doors, engine)\n",
    "        self.selfdrive=selfdrive\n",
    "    def selfdriving(self):\n",
    "        return \"Can self drive? {}\".format(self.selfdrive)"
   ]
  },
  {
   "cell_type": "code",
   "execution_count": 7,
   "id": "7ad984ff",
   "metadata": {},
   "outputs": [
    {
     "name": "stdout",
     "output_type": "stream",
     "text": [
      "Can self drive? True\n",
      "Car driven by EV engine\n"
     ]
    }
   ],
   "source": [
    "tsl1=tesla(4,5,'EV',True)\n",
    "print(tsl1.selfdriving())\n",
    "print(tsl1.drive())"
   ]
  },
  {
   "cell_type": "code",
   "execution_count": 15,
   "id": "e1a62a97",
   "metadata": {},
   "outputs": [],
   "source": [
    "##Multiple inheritance: When a class inherits from more than one base(parent) class\n",
    "##Base class 1:\n",
    "class animal:\n",
    "    def __init__(self,name):\n",
    "        self.name=name\n",
    "    def speak(self):\n",
    "        return \"{} can't speak\".format(self.name)\n",
    "##Base class 2:\n",
    "class pet:\n",
    "    def __init__(self, ispet):\n",
    "        self.ispet=ispet\n",
    "\n",
    "##Derived class:\n",
    "\n",
    "class dog(animal, pet):\n",
    "    def __init__(self, name, ispet):\n",
    "        animal.__init__(self, name)\n",
    "        pet.__init__(self, ispet)\n",
    "    def speak(self):\n",
    "        return \"Woof\""
   ]
  },
  {
   "cell_type": "code",
   "execution_count": 17,
   "id": "3ca052e4",
   "metadata": {},
   "outputs": [
    {
     "name": "stdout",
     "output_type": "stream",
     "text": [
      "Woof\n"
     ]
    }
   ],
   "source": [
    "dg1=dog('Buddy',True)\n",
    "print(dg1.speak())"
   ]
  }
 ],
 "metadata": {
  "kernelspec": {
   "display_name": "Python 3",
   "language": "python",
   "name": "python3"
  },
  "language_info": {
   "codemirror_mode": {
    "name": "ipython",
    "version": 3
   },
   "file_extension": ".py",
   "mimetype": "text/x-python",
   "name": "python",
   "nbconvert_exporter": "python",
   "pygments_lexer": "ipython3",
   "version": "3.12.0"
  }
 },
 "nbformat": 4,
 "nbformat_minor": 5
}
