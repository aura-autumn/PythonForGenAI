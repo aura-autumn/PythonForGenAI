{
 "cells": [
  {
   "cell_type": "markdown",
   "id": "83f50f54",
   "metadata": {},
   "source": [
    "##### Polymorphism in Python:\n",
    "\n",
    "POlymorphism allows objects of different classes to be treated as objects of a common superclass. It provides a way to perform a single action in multiple forms. Polymorphism is typically achieved through method overriding and interfaces."
   ]
  },
  {
   "cell_type": "markdown",
   "id": "91491f7d",
   "metadata": {},
   "source": [
    "Method overriding allows a child class to provide a specific implementation of a method that is already defined in its parent class."
   ]
  },
  {
   "cell_type": "code",
   "execution_count": 3,
   "id": "a9e98844",
   "metadata": {},
   "outputs": [
    {
     "data": {
      "text/plain": [
       "'Woof!'"
      ]
     },
     "execution_count": 3,
     "metadata": {},
     "output_type": "execute_result"
    }
   ],
   "source": [
    "##Method overriding:\n",
    "##Base class:\n",
    "\n",
    "class Animal:\n",
    "    def speak(self):\n",
    "        return \"Sound of the animal\"\n",
    "\n",
    "##Derived classes:\n",
    "\n",
    "class Dog(Animal):\n",
    "    def speak(self):\n",
    "        return \"Woof!\"\n",
    "\n",
    "class Cat(Animal):\n",
    "    def speak(self):\n",
    "        return \"Meow!\"\n",
    "\n",
    "dg1=Dog()\n",
    "\n",
    "dg1.speak()"
   ]
  },
  {
   "cell_type": "code",
   "execution_count": 5,
   "id": "1a3ffb63",
   "metadata": {},
   "outputs": [
    {
     "data": {
      "text/plain": [
       "'Meow!'"
      ]
     },
     "execution_count": 5,
     "metadata": {},
     "output_type": "execute_result"
    }
   ],
   "source": [
    "ct1=Cat()\n",
    "ct1.speak()"
   ]
  },
  {
   "cell_type": "code",
   "execution_count": 6,
   "id": "64f9a624",
   "metadata": {},
   "outputs": [],
   "source": [
    "##Function to demonstrate polymorphism:\n",
    "def animal_speak(animal):\n",
    "    return animal.speak()"
   ]
  },
  {
   "cell_type": "code",
   "execution_count": 7,
   "id": "775ea601",
   "metadata": {},
   "outputs": [
    {
     "data": {
      "text/plain": [
       "'Woof!'"
      ]
     },
     "execution_count": 7,
     "metadata": {},
     "output_type": "execute_result"
    }
   ],
   "source": [
    "animal_speak(dg1)"
   ]
  },
  {
   "cell_type": "code",
   "execution_count": 9,
   "id": "f2b0bbfa",
   "metadata": {},
   "outputs": [
    {
     "name": "stdout",
     "output_type": "stream",
     "text": [
      "20\n",
      "28.259999999999998\n",
      "16\n"
     ]
    }
   ],
   "source": [
    "## Polymorphism with functions and methods: (to process objects of different types in the same way)\n",
    "\n",
    "class shape:\n",
    "    def area(self):\n",
    "        return \"The area of the shape\"\n",
    "\n",
    "class square(shape):\n",
    "    def __init__(self,side):\n",
    "        self.side=side\n",
    "    def area(self):\n",
    "        return self.side * self.side\n",
    "\n",
    "class rectangle(shape):\n",
    "    def __init__(self, width, height):\n",
    "        self.width=width\n",
    "        self.height=height\n",
    "    def area(self):\n",
    "        return self.height * self.width\n",
    "\n",
    "class circle(shape):\n",
    "    def __init__(self,radius):\n",
    "        self.radius=radius\n",
    "    def area(self):\n",
    "        return 3.14*self.radius*self.radius\n",
    "\n",
    "##Function that demonstrates polymorphism:\n",
    "\n",
    "def area(shape):\n",
    "    return shape.area()\n",
    "\n",
    "rect1=rectangle(4,5)\n",
    "cle1=circle(3)\n",
    "sq1=square(4)\n",
    "\n",
    "print(rect1.area())\n",
    "print(cle1.area())\n",
    "print(sq1.area())"
   ]
  },
  {
   "cell_type": "markdown",
   "id": "e8e4de5d",
   "metadata": {},
   "source": [
    "##### Abstract Base Class or Interface:\n",
    "\n",
    "Abstract Base Classes (ABCs) are used to define common methods for a group of related objects. They can enforce that derived classes implement certain methods, promoting consistency across different implementations.\n",
    "\n",
    "Note- abstractmethod is a type of decorator for abstract methods. \n",
    "\n",
    "Kind of- abstract class is an empty class and abstract method is an empty method."
   ]
  },
  {
   "cell_type": "code",
   "execution_count": 18,
   "id": "31b8d1bc",
   "metadata": {},
   "outputs": [
    {
     "name": "stdout",
     "output_type": "stream",
     "text": [
      "Car engine started\n",
      "Motorcycle engine started\n",
      "Car engine started\n",
      "Motorcycle engine started\n"
     ]
    }
   ],
   "source": [
    "## Polymorphism with abstract base classes:\n",
    "\n",
    "from abc import ABC, abstractmethod\n",
    "\n",
    "##Defining as abstract class:\n",
    "\n",
    "class Vehicle(ABC):\n",
    "    @abstractmethod\n",
    "    def start_engine(self):\n",
    "        pass\n",
    "\n",
    "##Derived classes:\n",
    "class Car(Vehicle):\n",
    "    def start_engine(self):\n",
    "        return \"Car engine started\"\n",
    "\n",
    "class Motorcycle(Vehicle):\n",
    "    def start_engine(self):\n",
    "        return \"Motorcycle engine started\"\n",
    "\n",
    "##Creating function to show polymorphism:\n",
    "def start_vehicle(vehicle):\n",
    "   return vehicle.start_engine()\n",
    "##Creating objects:\n",
    "\n",
    "car1=Car()\n",
    "mtcyc=Motorcycle()\n",
    "\n",
    "print(start_engine(car1))\n",
    "print(start_engine(mtcyc))\n",
    "print(car1.start_engine())\n",
    "print(start_vehicle(mtcyc))"
   ]
  }
 ],
 "metadata": {
  "kernelspec": {
   "display_name": "Python 3",
   "language": "python",
   "name": "python3"
  },
  "language_info": {
   "codemirror_mode": {
    "name": "ipython",
    "version": 3
   },
   "file_extension": ".py",
   "mimetype": "text/x-python",
   "name": "python",
   "nbconvert_exporter": "python",
   "pygments_lexer": "ipython3",
   "version": "3.12.0"
  }
 },
 "nbformat": 4,
 "nbformat_minor": 5
}
