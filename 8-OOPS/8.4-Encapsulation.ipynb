{
 "cells": [
  {
   "cell_type": "markdown",
   "id": "165f9f0b",
   "metadata": {},
   "source": [
    "##### Encapsulation:\n",
    "\n",
    "Encapsulation involves building data and methods that operate on the data within a single unit, while ABSTRACTION involves hiding complex implementation details and exposing only the necessary features.\n",
    "\n",
    "Encapsulation is the concept of wrapping data and methods as a single unit. It restricts direct access to some of the object's components, which is a means of preventing accidental interference and misuse of the data."
   ]
  },
  {
   "cell_type": "markdown",
   "id": "d41db38b",
   "metadata": {},
   "source": [
    "3 important access variables or access modifiers:\n",
    "1. Public\n",
    "    - Accessible from anywhere -inside or outside the class.\n",
    "    - Default access level in Python.\n",
    "\n",
    "2. Protected (convention-based)\n",
    "    - Indicated by a single underscore _var.\n",
    "    - Meant for internal use within the class and subclasses.\n",
    "    - Still accessible from outside, but by convention, you shouldn't.\n",
    "\n",
    "3. Private\n",
    "    - Indicated by double underscore __var.\n",
    "    - Name gets mangled to prevent accidental access.\n",
    "    - Cannot be accessed directly from outside the class."
   ]
  },
  {
   "cell_type": "code",
   "execution_count": 13,
   "id": "da252b97",
   "metadata": {},
   "outputs": [
    {
     "name": "stdout",
     "output_type": "stream",
     "text": [
      "Ray\n",
      "Ray\n"
     ]
    }
   ],
   "source": [
    "##Encapsulation:\n",
    "class Person:\n",
    "    def __init__(self, name, age):\n",
    "        self.name=name ##Public variable\n",
    "        self.age=age\n",
    "\n",
    "def get_name(person):\n",
    "    return person.name\n",
    "\n",
    "p1=Person('Ray', 25)\n",
    "print(p1.name)\n",
    "print(get_name(p1))"
   ]
  },
  {
   "cell_type": "code",
   "execution_count": 14,
   "id": "0f9f8d95",
   "metadata": {},
   "outputs": [
    {
     "data": {
      "text/plain": [
       "['__class__',\n",
       " '__delattr__',\n",
       " '__dict__',\n",
       " '__dir__',\n",
       " '__doc__',\n",
       " '__eq__',\n",
       " '__format__',\n",
       " '__ge__',\n",
       " '__getattribute__',\n",
       " '__getstate__',\n",
       " '__gt__',\n",
       " '__hash__',\n",
       " '__init__',\n",
       " '__init_subclass__',\n",
       " '__le__',\n",
       " '__lt__',\n",
       " '__module__',\n",
       " '__ne__',\n",
       " '__new__',\n",
       " '__reduce__',\n",
       " '__reduce_ex__',\n",
       " '__repr__',\n",
       " '__setattr__',\n",
       " '__sizeof__',\n",
       " '__str__',\n",
       " '__subclasshook__',\n",
       " '__weakref__',\n",
       " 'age',\n",
       " 'name']"
      ]
     },
     "execution_count": 14,
     "metadata": {},
     "output_type": "execute_result"
    }
   ],
   "source": [
    "dir(p1)"
   ]
  },
  {
   "cell_type": "code",
   "execution_count": 15,
   "id": "c531b199",
   "metadata": {},
   "outputs": [
    {
     "data": {
      "text/plain": [
       "['_Person__age',\n",
       " '_Person__name',\n",
       " '__class__',\n",
       " '__delattr__',\n",
       " '__dict__',\n",
       " '__dir__',\n",
       " '__doc__',\n",
       " '__eq__',\n",
       " '__format__',\n",
       " '__ge__',\n",
       " '__getattribute__',\n",
       " '__getstate__',\n",
       " '__gt__',\n",
       " '__hash__',\n",
       " '__init__',\n",
       " '__init_subclass__',\n",
       " '__le__',\n",
       " '__lt__',\n",
       " '__module__',\n",
       " '__ne__',\n",
       " '__new__',\n",
       " '__reduce__',\n",
       " '__reduce_ex__',\n",
       " '__repr__',\n",
       " '__setattr__',\n",
       " '__sizeof__',\n",
       " '__str__',\n",
       " '__subclasshook__',\n",
       " '__weakref__',\n",
       " 'gender']"
      ]
     },
     "execution_count": 15,
     "metadata": {},
     "output_type": "execute_result"
    }
   ],
   "source": [
    "class Person:\n",
    "    def __init__(self, name, age, gender):\n",
    "        self.__name=name ##Private variable\n",
    "        self.__age=age\n",
    "        self.gender=gender\n",
    "\n",
    "p1=Person('Ray', 25, 'F')\n",
    "dir(p1)"
   ]
  },
  {
   "cell_type": "code",
   "execution_count": 16,
   "id": "042c9a56",
   "metadata": {},
   "outputs": [
    {
     "name": "stdout",
     "output_type": "stream",
     "text": [
      "Ray\n"
     ]
    }
   ],
   "source": [
    "## Bad practice function on private variable:\n",
    "\n",
    "def get_name(person):\n",
    "    return person._Person__name\n",
    "\n",
    "print(get_name(p1))"
   ]
  },
  {
   "cell_type": "code",
   "execution_count": 17,
   "id": "7a939d9a",
   "metadata": {},
   "outputs": [
    {
     "name": "stdout",
     "output_type": "stream",
     "text": [
      "Ray\n"
     ]
    }
   ],
   "source": [
    "class Person:\n",
    "    def __init__(self, name, age, gender):\n",
    "        self._name=name ##Protected variable\n",
    "        self._age=age\n",
    "        self.gender=gender\n",
    "class female(Person):\n",
    "    def __init__(self, name, age, gender):\n",
    "        super().__init__(name, age, gender)\n",
    "\n",
    "p1=female('Ray', 25, 'F')\n",
    "print(p1._name)"
   ]
  },
  {
   "cell_type": "code",
   "execution_count": 18,
   "id": "29c1d51c",
   "metadata": {},
   "outputs": [
    {
     "name": "stdout",
     "output_type": "stream",
     "text": [
      "ray\n",
      "Vik\n",
      "25\n",
      "27\n",
      "What?\n"
     ]
    }
   ],
   "source": [
    "##Encapsulation using getter and setter methods:\n",
    "\n",
    "class Person:\n",
    "    def __init__(self, name, age):\n",
    "        self.__name=name\n",
    "        self.__age=age\n",
    "    ##getter method for name:\n",
    "    def get_name(self):\n",
    "        return self.__name\n",
    "    ##setter method for name:\n",
    "    def set_name(self, name):\n",
    "        self.__name=name\n",
    "    ##Getter method for age:\n",
    "    def get_age(self):\n",
    "        return self.__age\n",
    "    ##Setter method for age:\n",
    "    def set_age(self, age):\n",
    "        if age>0:\n",
    "            self.__age=age\n",
    "        else:\n",
    "            print(\"What?\")\n",
    "\n",
    "p1=Person('ray',25)\n",
    "print(p1.get_name())\n",
    "p1.set_name('Vik')\n",
    "print(p1.get_name())\n",
    "\n",
    "print(p1.get_age())\n",
    "p1.set_age(27)\n",
    "print(p1.get_age())\n",
    "p1.set_age(-8)"
   ]
  }
 ],
 "metadata": {
  "kernelspec": {
   "display_name": "Python 3",
   "language": "python",
   "name": "python3"
  },
  "language_info": {
   "codemirror_mode": {
    "name": "ipython",
    "version": 3
   },
   "file_extension": ".py",
   "mimetype": "text/x-python",
   "name": "python",
   "nbconvert_exporter": "python",
   "pygments_lexer": "ipython3",
   "version": "3.12.0"
  }
 },
 "nbformat": 4,
 "nbformat_minor": 5
}
