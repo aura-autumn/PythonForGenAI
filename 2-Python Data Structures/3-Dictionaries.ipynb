{
 "cells": [
  {
   "cell_type": "markdown",
   "id": "f2c82390",
   "metadata": {},
   "source": [
    "##### DICTIONARIES IN PYTHON"
   ]
  },
  {
   "cell_type": "code",
   "execution_count": 2,
   "id": "81fa4393",
   "metadata": {},
   "outputs": [
    {
     "name": "stdout",
     "output_type": "stream",
     "text": [
      "<class 'dict'>\n",
      "<class 'dict'>\n"
     ]
    }
   ],
   "source": [
    "## Creating dictionaries:\n",
    "\n",
    "##Empty dictionary:\n",
    "empty_dict={}\n",
    "print(type(empty_dict))\n",
    "new_dict=dict()\n",
    "print(type(new_dict))\n"
   ]
  },
  {
   "cell_type": "code",
   "execution_count": 3,
   "id": "654bb292",
   "metadata": {},
   "outputs": [
    {
     "data": {
      "text/plain": [
       "{'Name': 'Ray', 'Age': 25, 'Grade': 'A+'}"
      ]
     },
     "execution_count": 3,
     "metadata": {},
     "output_type": "execute_result"
    }
   ],
   "source": [
    "student={\"Name\":\"Ray\", \"Age\":25, \"Grade\":\"A+\"}\n",
    "student"
   ]
  },
  {
   "cell_type": "code",
   "execution_count": 10,
   "id": "905e42c1",
   "metadata": {},
   "outputs": [
    {
     "data": {
      "text/plain": [
       "{'name': 25, 'Name': 'Ray'}"
      ]
     },
     "execution_count": 10,
     "metadata": {},
     "output_type": "execute_result"
    }
   ],
   "source": [
    "student={\"name\":\"Ray\", \"name\":25, \"Name\":\"Ray\"} ##Value for the same key is getting replaced. So always use distinct keys\n",
    "student"
   ]
  },
  {
   "cell_type": "code",
   "execution_count": 8,
   "id": "de5eb008",
   "metadata": {},
   "outputs": [
    {
     "name": "stdout",
     "output_type": "stream",
     "text": [
      "A+\n",
      "25\n"
     ]
    }
   ],
   "source": [
    "## Accessing dictionary elements\n",
    "\n",
    "student={\"Name\":\"Ray\", \"Age\":25, \"Grade\":\"A+\"}\n",
    "print(student['Grade'])\n",
    "print(student['Age'])"
   ]
  },
  {
   "cell_type": "code",
   "execution_count": 13,
   "id": "d3686c48",
   "metadata": {},
   "outputs": [
    {
     "name": "stdout",
     "output_type": "stream",
     "text": [
      "A+\n",
      "None\n",
      "Not Available\n"
     ]
    }
   ],
   "source": [
    "## get method \n",
    "student={\"Name\":\"Ray\", \"Age\":25, \"Grade\":\"A+\"}\n",
    "print(student.get('Grade'))\n",
    "print(student.get('lastname'))\n",
    "print(student.get('lastname', \"Not Available\")) ##Specified a default value to show when data is not present"
   ]
  },
  {
   "cell_type": "code",
   "execution_count": 14,
   "id": "95bf7390",
   "metadata": {},
   "outputs": [
    {
     "name": "stdout",
     "output_type": "stream",
     "text": [
      "{'Name': 'Ray', 'Age': 25, 'Grade': 'A+'}\n"
     ]
    }
   ],
   "source": [
    "## Modifying elements:\n",
    "## Dictionaries are mutable. We can add, update, or delete elements.\n",
    "\n",
    "print(student)"
   ]
  },
  {
   "cell_type": "code",
   "execution_count": 15,
   "id": "e8a15a6d",
   "metadata": {},
   "outputs": [
    {
     "name": "stdout",
     "output_type": "stream",
     "text": [
      "{'Name': 'Ray', 'Age': 24, 'Grade': 'A+'}\n",
      "{'Name': 'Ray', 'Age': 24, 'Grade': 'A+', 'Country': 'India'}\n"
     ]
    }
   ],
   "source": [
    "student['Age']=24 ##Update value \n",
    "print(student)\n",
    "student[\"Country\"]=\"India\" ## Add a new key-value pair\n",
    "print(student)"
   ]
  },
  {
   "cell_type": "code",
   "execution_count": 16,
   "id": "d4a596fd",
   "metadata": {},
   "outputs": [
    {
     "data": {
      "text/plain": [
       "{'Name': 'Ray', 'Age': 24, 'Grade': 'A+'}"
      ]
     },
     "execution_count": 16,
     "metadata": {},
     "output_type": "execute_result"
    }
   ],
   "source": [
    "## Deleting a key-value pair:\n",
    "\n",
    "del student['Country']\n",
    "student"
   ]
  },
  {
   "cell_type": "code",
   "execution_count": 18,
   "id": "611e799e",
   "metadata": {},
   "outputs": [
    {
     "name": "stdout",
     "output_type": "stream",
     "text": [
      "dict_keys(['Name', 'Age', 'Grade'])\n",
      "dict_values(['Ray', 24, 'A+'])\n",
      "dict_items([('Name', 'Ray'), ('Age', 24), ('Grade', 'A+')])\n"
     ]
    }
   ],
   "source": [
    "## Dictionary methods:\n",
    "\n",
    "keys=student.keys()\n",
    "print(keys)\n",
    "values=student.values()\n",
    "print(values)\n",
    "items=student.items() ##Returns a list of tuples\n",
    "print(items)"
   ]
  },
  {
   "cell_type": "code",
   "execution_count": 20,
   "id": "7e9b17b9",
   "metadata": {},
   "outputs": [
    {
     "name": "stdout",
     "output_type": "stream",
     "text": [
      "{'Name': 'Ray', 'Age': 24, 'Grade': 'A+'}\n",
      "{'Name': 'Ray', 'Age': 24, 'Grade': 'A+'}\n"
     ]
    }
   ],
   "source": [
    "##Copy:\n",
    "student_copy=student\n",
    "print(student)\n",
    "print(student_copy)"
   ]
  },
  {
   "cell_type": "code",
   "execution_count": 21,
   "id": "ca000af3",
   "metadata": {},
   "outputs": [
    {
     "name": "stdout",
     "output_type": "stream",
     "text": [
      "{'Name': 'Yoda', 'Age': 24, 'Grade': 'A+'}\n",
      "{'Name': 'Yoda', 'Age': 24, 'Grade': 'A+'}\n"
     ]
    }
   ],
   "source": [
    "student[\"Name\"]=\"Yoda\"\n",
    "print(student)\n",
    "print(student_copy)"
   ]
  },
  {
   "cell_type": "code",
   "execution_count": 22,
   "id": "2fa7348a",
   "metadata": {},
   "outputs": [
    {
     "name": "stdout",
     "output_type": "stream",
     "text": [
      "{'Name': 'Yoda', 'Age': 24, 'Grade': 'A+'}\n",
      "{'Name': 'Yoda', 'Age': 24, 'Grade': 'A+'}\n",
      "{'Name': 'Yoda', 'Age': 25, 'Grade': 'A+'}\n",
      "{'Name': 'Yoda', 'Age': 24, 'Grade': 'A+'}\n",
      "{'Name': 'Yoda', 'Age': 25, 'Grade': 'A+'}\n"
     ]
    }
   ],
   "source": [
    "##Shallow copy:\n",
    "student_copy1=student.copy()\n",
    "print(student)\n",
    "print(student_copy1)\n",
    "student['Age']=25\n",
    "print(student)\n",
    "print(student_copy1)\n",
    "print(student_copy)"
   ]
  },
  {
   "cell_type": "code",
   "execution_count": 23,
   "id": "5210b8f2",
   "metadata": {},
   "outputs": [
    {
     "name": "stdout",
     "output_type": "stream",
     "text": [
      "Name\n",
      "Age\n",
      "Grade\n"
     ]
    }
   ],
   "source": [
    "## Iterating over dictionaries:\n",
    "\n",
    "##Iterating over keys:\n",
    "for keys in student.keys():\n",
    "    print(keys)"
   ]
  },
  {
   "cell_type": "code",
   "execution_count": 24,
   "id": "e90f7569",
   "metadata": {},
   "outputs": [
    {
     "name": "stdout",
     "output_type": "stream",
     "text": [
      "Yoda\n",
      "25\n",
      "A+\n"
     ]
    }
   ],
   "source": [
    "##Iterating over values:\n",
    "for values in student.values():\n",
    "    print(values)"
   ]
  },
  {
   "cell_type": "code",
   "execution_count": 26,
   "id": "6de487b7",
   "metadata": {},
   "outputs": [
    {
     "name": "stdout",
     "output_type": "stream",
     "text": [
      "Name:Yoda\n",
      "Age:25\n",
      "Grade:A+\n"
     ]
    }
   ],
   "source": [
    "##Iterate over key-values pairs:\n",
    "for key,value in student.items():\n",
    "    print(f\"{key}:{value}\")"
   ]
  },
  {
   "cell_type": "code",
   "execution_count": 27,
   "id": "084654a7",
   "metadata": {},
   "outputs": [
    {
     "data": {
      "text/plain": [
       "{'student1': {'name': 'Ray', 'age': 25},\n",
       " 'student2': {'name': 'Yoda', 'age': 2000}}"
      ]
     },
     "execution_count": 27,
     "metadata": {},
     "output_type": "execute_result"
    }
   ],
   "source": [
    "##Nested dictionaries:\n",
    "students={ \n",
    "    \"student1\":{\"name\":\"Ray\", \"age\":25},\n",
    "    \"student2\":{\"name\":\"Yoda\", \"age\":2000}\n",
    "}\n",
    "students"
   ]
  },
  {
   "cell_type": "code",
   "execution_count": 28,
   "id": "17dacd45",
   "metadata": {},
   "outputs": [
    {
     "name": "stdout",
     "output_type": "stream",
     "text": [
      "Yoda\n"
     ]
    }
   ],
   "source": [
    "##Accessing nested dictionary elements:\n",
    "\n",
    "print(students[\"student2\"][\"name\"])"
   ]
  },
  {
   "cell_type": "code",
   "execution_count": 30,
   "id": "f2a4507c",
   "metadata": {},
   "outputs": [
    {
     "name": "stdout",
     "output_type": "stream",
     "text": [
      "student1:{'name': 'Ray', 'age': 25}\n",
      "name:Ray\n",
      "age:25\n",
      "student2:{'name': 'Yoda', 'age': 2000}\n",
      "name:Yoda\n",
      "age:2000\n"
     ]
    }
   ],
   "source": [
    "## Iterating over nested dictionary:\n",
    "for id, info in students.items():\n",
    "    print(f\"{id}:{info}\")\n",
    "    for key, value in info.items():\n",
    "        print(f\"{key}:{value}\")"
   ]
  },
  {
   "cell_type": "code",
   "execution_count": 34,
   "id": "f051d545",
   "metadata": {},
   "outputs": [
    {
     "name": "stdout",
     "output_type": "stream",
     "text": [
      "{0: 0, 1: 1, 2: 4, 3: 9, 4: 16}\n"
     ]
    }
   ],
   "source": [
    "square=dict()\n",
    "for x in range(5):\n",
    "    square[x]=x**2\n",
    "print(square)"
   ]
  },
  {
   "cell_type": "code",
   "execution_count": 32,
   "id": "68a16c58",
   "metadata": {},
   "outputs": [
    {
     "name": "stdout",
     "output_type": "stream",
     "text": [
      "{0: 0, 1: 1, 2: 4, 3: 9, 4: 16}\n"
     ]
    }
   ],
   "source": [
    "## Dictionary comprehension:\n",
    "squares={x:x**2 for x in range(5)}\n",
    "print(squares)"
   ]
  },
  {
   "cell_type": "code",
   "execution_count": 33,
   "id": "600246e8",
   "metadata": {},
   "outputs": [
    {
     "name": "stdout",
     "output_type": "stream",
     "text": [
      "{0: 0, 2: 4, 4: 16, 6: 36, 8: 64}\n"
     ]
    }
   ],
   "source": [
    "## Conditional dictionary comprehension:\n",
    "even={x:x**2 for x in range(10) if x%2==0}\n",
    "print(even)"
   ]
  },
  {
   "cell_type": "code",
   "execution_count": 35,
   "id": "fc65ef42",
   "metadata": {},
   "outputs": [
    {
     "name": "stdout",
     "output_type": "stream",
     "text": [
      "{1: 1, 2: 1, 3: 2, 4: 3, 5: 1}\n"
     ]
    }
   ],
   "source": [
    "## Use dictionary to count the frequency of elements in list:\n",
    "\n",
    "num=[1,2,3,3,4,4,4,5]\n",
    "count=dict()\n",
    "for i in num:\n",
    "    if i in count:\n",
    "        count[i]+=1\n",
    "    else:\n",
    "        count[i]=1\n",
    "print(count)"
   ]
  },
  {
   "cell_type": "code",
   "execution_count": 36,
   "id": "7c2d23e8",
   "metadata": {},
   "outputs": [
    {
     "name": "stdout",
     "output_type": "stream",
     "text": [
      "{'a': 1, 'b': 3, 'c': 4}\n"
     ]
    }
   ],
   "source": [
    "##Merging two dictionaries:\n",
    "dict1={\"a\":1, \"b\":2}\n",
    "dict2={\"b\":3, \"c\":4}\n",
    "merge={**dict1, **dict2}\n",
    "print(merge)"
   ]
  }
 ],
 "metadata": {
  "kernelspec": {
   "display_name": "Python 3",
   "language": "python",
   "name": "python3"
  },
  "language_info": {
   "codemirror_mode": {
    "name": "ipython",
    "version": 3
   },
   "file_extension": ".py",
   "mimetype": "text/x-python",
   "name": "python",
   "nbconvert_exporter": "python",
   "pygments_lexer": "ipython3",
   "version": "3.12.0"
  }
 },
 "nbformat": 4,
 "nbformat_minor": 5
}
