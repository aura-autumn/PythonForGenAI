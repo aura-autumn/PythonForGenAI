{
 "cells": [
  {
   "cell_type": "markdown",
   "id": "9f272451",
   "metadata": {},
   "source": [
    "##### TUPLES IN PYTHON"
   ]
  },
  {
   "cell_type": "code",
   "execution_count": 3,
   "id": "c246dc91",
   "metadata": {},
   "outputs": [
    {
     "name": "stdout",
     "output_type": "stream",
     "text": [
      "<class 'tuple'>\n",
      "<class 'tuple'>\n"
     ]
    }
   ],
   "source": [
    "##Creating a tuple:\n",
    "empty_tuple=()\n",
    "print(type(empty_tuple))\n",
    "tpl=tuple()\n",
    "print(type(tpl))"
   ]
  },
  {
   "cell_type": "code",
   "execution_count": 4,
   "id": "a8a6d360",
   "metadata": {},
   "outputs": [
    {
     "name": "stdout",
     "output_type": "stream",
     "text": [
      "(1, 2, 3, 4, 5, 6)\n",
      "<class 'tuple'>\n"
     ]
    }
   ],
   "source": [
    "num=tuple([1,2,3,4,5,6])\n",
    "print(num)\n",
    "print(type(num))"
   ]
  },
  {
   "cell_type": "code",
   "execution_count": 5,
   "id": "3d73241b",
   "metadata": {},
   "outputs": [
    {
     "data": {
      "text/plain": [
       "(1, 'Ray', True, 3.14)"
      ]
     },
     "execution_count": 5,
     "metadata": {},
     "output_type": "execute_result"
    }
   ],
   "source": [
    "mixtpl=(1, 'Ray', True, 3.14)\n",
    "mixtpl"
   ]
  },
  {
   "cell_type": "code",
   "execution_count": 6,
   "id": "5e6c2215",
   "metadata": {},
   "outputs": [
    {
     "data": {
      "text/plain": [
       "(1, 2, 3, 4, 5, 6)"
      ]
     },
     "execution_count": 6,
     "metadata": {},
     "output_type": "execute_result"
    }
   ],
   "source": [
    "##Accessing tuple elements:\n",
    "num"
   ]
  },
  {
   "cell_type": "code",
   "execution_count": 7,
   "id": "0b59398b",
   "metadata": {},
   "outputs": [
    {
     "data": {
      "text/plain": [
       "1"
      ]
     },
     "execution_count": 7,
     "metadata": {},
     "output_type": "execute_result"
    }
   ],
   "source": [
    "num[0]"
   ]
  },
  {
   "cell_type": "code",
   "execution_count": 8,
   "id": "3c89dcf0",
   "metadata": {},
   "outputs": [
    {
     "data": {
      "text/plain": [
       "3"
      ]
     },
     "execution_count": 8,
     "metadata": {},
     "output_type": "execute_result"
    }
   ],
   "source": [
    "num[2]"
   ]
  },
  {
   "cell_type": "code",
   "execution_count": 9,
   "id": "fe57f40e",
   "metadata": {},
   "outputs": [
    {
     "data": {
      "text/plain": [
       "6"
      ]
     },
     "execution_count": 9,
     "metadata": {},
     "output_type": "execute_result"
    }
   ],
   "source": [
    "num[-1]"
   ]
  },
  {
   "cell_type": "code",
   "execution_count": 10,
   "id": "f8770410",
   "metadata": {},
   "outputs": [
    {
     "name": "stdout",
     "output_type": "stream",
     "text": [
      "(1, 2, 3, 4)\n",
      "(1, 2, 3, 4, 5, 6)\n",
      "(6, 5, 4, 3, 2, 1)\n"
     ]
    }
   ],
   "source": [
    "print(num[0:4])\n",
    "print(num[::])\n",
    "print(num[::-1])\n"
   ]
  },
  {
   "cell_type": "code",
   "execution_count": 11,
   "id": "bbeb51ee",
   "metadata": {},
   "outputs": [
    {
     "data": {
      "text/plain": [
       "(1, 2, 3, 4, 5, 6, 1, 'Ray', True, 3.14)"
      ]
     },
     "execution_count": 11,
     "metadata": {},
     "output_type": "execute_result"
    }
   ],
   "source": [
    "##Tuple operations:\n",
    "\n",
    "num1=num+mixtpl ##Concatenation\n",
    "num1"
   ]
  },
  {
   "cell_type": "code",
   "execution_count": 12,
   "id": "88ecc38b",
   "metadata": {},
   "outputs": [
    {
     "data": {
      "text/plain": [
       "(1, 'Ray', True, 3.14, 1, 'Ray', True, 3.14, 1, 'Ray', True, 3.14)"
      ]
     },
     "execution_count": 12,
     "metadata": {},
     "output_type": "execute_result"
    }
   ],
   "source": [
    "mixtpl*3 ##Repeatition"
   ]
  },
  {
   "cell_type": "code",
   "execution_count": 16,
   "id": "63cf24bc",
   "metadata": {},
   "outputs": [
    {
     "name": "stdout",
     "output_type": "stream",
     "text": [
      "2\n",
      "5\n"
     ]
    }
   ],
   "source": [
    "## Tuple methods:\n",
    "num=(1,2,3,4,5,6,6,7,8)\n",
    "print(num.count(6)) ##Count of my element \n",
    "print(num.index(6)) ##Which index (first occurence) is my element present"
   ]
  },
  {
   "cell_type": "code",
   "execution_count": 17,
   "id": "b62c064c",
   "metadata": {},
   "outputs": [
    {
     "name": "stdout",
     "output_type": "stream",
     "text": [
      "(1, 'Hello', 3.14)\n"
     ]
    }
   ],
   "source": [
    "##Packing and unpacking tuples:\n",
    "packedtpl=1, \"Hello\", 3.14 ##packing\n",
    "print(packedtpl)"
   ]
  },
  {
   "cell_type": "code",
   "execution_count": 18,
   "id": "a2ce505b",
   "metadata": {},
   "outputs": [
    {
     "name": "stdout",
     "output_type": "stream",
     "text": [
      "1\n",
      "Hello\n",
      "3.14\n"
     ]
    }
   ],
   "source": [
    "a,b,c=packedtpl ##unpacking\n",
    "print(a)\n",
    "print(b)\n",
    "print(c)"
   ]
  },
  {
   "cell_type": "code",
   "execution_count": 19,
   "id": "e833be9b",
   "metadata": {},
   "outputs": [
    {
     "name": "stdout",
     "output_type": "stream",
     "text": [
      "1\n",
      "[2, 3, 4, 5]\n",
      "6\n"
     ]
    }
   ],
   "source": [
    "num=(1,2,3,4,5,6)\n",
    "first, *middle, last=num ##Unpacking using *\n",
    "print(first)\n",
    "print(middle)\n",
    "print(last)"
   ]
  },
  {
   "cell_type": "code",
   "execution_count": 24,
   "id": "8e7087d0",
   "metadata": {},
   "outputs": [
    {
     "name": "stdout",
     "output_type": "stream",
     "text": [
      "((1, 2, 3, 4, 5, 6), ('ray', 'yoda'), (10, 9))\n",
      "<class 'tuple'>\n",
      "(1, 2, 3, 4, 5, 6)\n",
      "ray\n",
      "(1, 2, 3)\n"
     ]
    }
   ],
   "source": [
    "##Nested Tuples:\n",
    "tpl=((1,2,3,4,5,6),('ray', 'yoda'), (10, 9))\n",
    "print(tpl)\n",
    "print(type(tpl))\n",
    "print(tpl[0])\n",
    "print(tpl[1][0])\n",
    "print(tpl[0][0:3])"
   ]
  },
  {
   "cell_type": "code",
   "execution_count": 25,
   "id": "42eaf217",
   "metadata": {},
   "outputs": [
    {
     "name": "stdout",
     "output_type": "stream",
     "text": [
      "[(1, 2), (3, 4)]\n",
      "<class 'list'>\n"
     ]
    }
   ],
   "source": [
    "##List of tuples:\n",
    "lst=[(1,2), (3,4)]\n",
    "print(lst)\n",
    "print(type(lst))"
   ]
  },
  {
   "cell_type": "code",
   "execution_count": 29,
   "id": "c7e28d55",
   "metadata": {},
   "outputs": [
    {
     "name": "stdout",
     "output_type": "stream",
     "text": [
      "1 2 3 4 5 6 \n",
      "ray yoda \n",
      "10 9 \n"
     ]
    }
   ],
   "source": [
    "##iterating over nested tuples:\n",
    "tpl=((1,2,3,4,5,6),('ray', 'yoda'), (10, 9))\n",
    "\n",
    "for sub in tpl:\n",
    "    for items in sub:\n",
    "        print(items, end=\" \")\n",
    "    print()"
   ]
  }
 ],
 "metadata": {
  "kernelspec": {
   "display_name": "Python 3",
   "language": "python",
   "name": "python3"
  },
  "language_info": {
   "codemirror_mode": {
    "name": "ipython",
    "version": 3
   },
   "file_extension": ".py",
   "mimetype": "text/x-python",
   "name": "python",
   "nbconvert_exporter": "python",
   "pygments_lexer": "ipython3",
   "version": "3.12.0"
  }
 },
 "nbformat": 4,
 "nbformat_minor": 5
}
