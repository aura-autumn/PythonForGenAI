{
 "cells": [
  {
   "cell_type": "markdown",
   "id": "ca7466b8",
   "metadata": {},
   "source": [
    "LISTS IN PYTHON"
   ]
  },
  {
   "cell_type": "code",
   "execution_count": 49,
   "id": "b360ca0e",
   "metadata": {},
   "outputs": [
    {
     "name": "stdout",
     "output_type": "stream",
     "text": [
      "<class 'list'>\n",
      "<class 'list'>\n"
     ]
    }
   ],
   "source": [
    "lst=[]\n",
    "print(type(lst))\n",
    "lst1=list()\n",
    "print(type(lst1))"
   ]
  },
  {
   "cell_type": "code",
   "execution_count": 2,
   "id": "a8a0b429",
   "metadata": {},
   "outputs": [
    {
     "name": "stdout",
     "output_type": "stream",
     "text": [
      "['Ray', 'Vik', 'Yoda', 25, 27, 1000]\n"
     ]
    }
   ],
   "source": [
    "names=['Ray', 'Vik', 'Yoda', 25, 27, 1000]\n",
    "print(names)"
   ]
  },
  {
   "cell_type": "code",
   "execution_count": 3,
   "id": "904b0388",
   "metadata": {},
   "outputs": [
    {
     "name": "stdout",
     "output_type": "stream",
     "text": [
      "['Ray', 5.4, 25, True]\n"
     ]
    }
   ],
   "source": [
    "mix_list=['Ray', 5.4, 25, True]\n",
    "print(mix_list)"
   ]
  },
  {
   "cell_type": "code",
   "execution_count": 50,
   "id": "99e1708a",
   "metadata": {},
   "outputs": [
    {
     "name": "stdout",
     "output_type": "stream",
     "text": [
      "[[1, 2], ['a', 'b'], [1, 2, 3, 4], [True]]\n"
     ]
    }
   ],
   "source": [
    "##Nested Lists:\n",
    "lst=[[1,2],['a','b'],[1,2,3,4],[True]]\n",
    "print(lst)"
   ]
  },
  {
   "cell_type": "code",
   "execution_count": 4,
   "id": "a25f95e8",
   "metadata": {},
   "outputs": [
    {
     "data": {
      "text/plain": [
       "'Apple'"
      ]
     },
     "execution_count": 4,
     "metadata": {},
     "output_type": "execute_result"
    }
   ],
   "source": [
    "## Accessing list items:\n",
    "Fruits=['Apple', 'Banana', 'Cherry', 'Kiwi', 'Guava']\n",
    "Fruits[0]"
   ]
  },
  {
   "cell_type": "code",
   "execution_count": 6,
   "id": "84cb1a2c",
   "metadata": {},
   "outputs": [
    {
     "name": "stdout",
     "output_type": "stream",
     "text": [
      "Cherry\n"
     ]
    }
   ],
   "source": [
    "print(Fruits[2])"
   ]
  },
  {
   "cell_type": "code",
   "execution_count": 7,
   "id": "8249dc04",
   "metadata": {},
   "outputs": [
    {
     "name": "stdout",
     "output_type": "stream",
     "text": [
      "Guava\n"
     ]
    }
   ],
   "source": [
    "print(Fruits[-1])"
   ]
  },
  {
   "cell_type": "code",
   "execution_count": 9,
   "id": "ce16f047",
   "metadata": {},
   "outputs": [
    {
     "name": "stdout",
     "output_type": "stream",
     "text": [
      "['Banana', 'Cherry', 'Kiwi', 'Guava']\n",
      "['Banana', 'Cherry']\n",
      "['Guava']\n"
     ]
    }
   ],
   "source": [
    "print(Fruits[1:])\n",
    "print(Fruits[1:3])\n",
    "print(Fruits[-1:]) ##Negative index is only for last element"
   ]
  },
  {
   "cell_type": "code",
   "execution_count": 10,
   "id": "8b10a795",
   "metadata": {},
   "outputs": [
    {
     "data": {
      "text/plain": [
       "['Apple', 'Watermelon', 'Cherry', 'Kiwi', 'Guava']"
      ]
     },
     "execution_count": 10,
     "metadata": {},
     "output_type": "execute_result"
    }
   ],
   "source": [
    "## Modifying the list elements:\n",
    "Fruits[1]='Watermelon'\n",
    "Fruits"
   ]
  },
  {
   "cell_type": "code",
   "execution_count": 12,
   "id": "ef449d57",
   "metadata": {},
   "outputs": [
    {
     "data": {
      "text/plain": [
       "['Apple', 'P', 'o', 'm', 'e', 'g', 'r', 'a', 'n', 'a', 't', 'e']"
      ]
     },
     "execution_count": 12,
     "metadata": {},
     "output_type": "execute_result"
    }
   ],
   "source": [
    "Fruits[1:]='Pomegranate'\n",
    "Fruits"
   ]
  },
  {
   "cell_type": "code",
   "execution_count": 13,
   "id": "a8f27892",
   "metadata": {},
   "outputs": [
    {
     "data": {
      "text/plain": [
       "['Apple', 'Banana', 'Cherry', 'Kiwi', 'Guava', 'orange']"
      ]
     },
     "execution_count": 13,
     "metadata": {},
     "output_type": "execute_result"
    }
   ],
   "source": [
    "## List Methods:\n",
    "fruits=['Apple', 'Banana', 'Cherry', 'Kiwi', 'Guava']\n",
    "fruits.append('orange') ## Adds the item to the end\n",
    "fruits"
   ]
  },
  {
   "cell_type": "code",
   "execution_count": 14,
   "id": "ac4b8063",
   "metadata": {},
   "outputs": [
    {
     "data": {
      "text/plain": [
       "['Apple', 'watermelon', 'Banana', 'Cherry', 'Kiwi', 'Guava', 'orange']"
      ]
     },
     "execution_count": 14,
     "metadata": {},
     "output_type": "execute_result"
    }
   ],
   "source": [
    "fruits.insert(1,'watermelon') ## Add item to a particular index index\n",
    "fruits"
   ]
  },
  {
   "cell_type": "code",
   "execution_count": 15,
   "id": "3a05b809",
   "metadata": {},
   "outputs": [
    {
     "data": {
      "text/plain": [
       "['Apple', 'watermelon', 'Cherry', 'Kiwi', 'Guava', 'orange']"
      ]
     },
     "execution_count": 15,
     "metadata": {},
     "output_type": "execute_result"
    }
   ],
   "source": [
    "fruits.remove('Banana') ## Removes the first occurence of an element\n",
    "fruits"
   ]
  },
  {
   "cell_type": "code",
   "execution_count": 18,
   "id": "dc658176",
   "metadata": {},
   "outputs": [
    {
     "name": "stdout",
     "output_type": "stream",
     "text": [
      "Kiwi\n"
     ]
    },
    {
     "data": {
      "text/plain": [
       "['Apple', 'watermelon', 'Cherry']"
      ]
     },
     "execution_count": 18,
     "metadata": {},
     "output_type": "execute_result"
    }
   ],
   "source": [
    "## Remove and return the last item:\n",
    "popped_fruit=fruits.pop()\n",
    "print(popped_fruit)\n",
    "fruits"
   ]
  },
  {
   "cell_type": "code",
   "execution_count": 19,
   "id": "496b375b",
   "metadata": {},
   "outputs": [
    {
     "data": {
      "text/plain": [
       "2"
      ]
     },
     "execution_count": 19,
     "metadata": {},
     "output_type": "execute_result"
    }
   ],
   "source": [
    "fruits.index('Cherry') ##Return index of an element"
   ]
  },
  {
   "cell_type": "code",
   "execution_count": 20,
   "id": "aecc38b6",
   "metadata": {},
   "outputs": [],
   "source": [
    "fruits.insert(2, 'Cherry')"
   ]
  },
  {
   "cell_type": "code",
   "execution_count": 22,
   "id": "bd2aa82a",
   "metadata": {},
   "outputs": [
    {
     "data": {
      "text/plain": [
       "2"
      ]
     },
     "execution_count": 22,
     "metadata": {},
     "output_type": "execute_result"
    }
   ],
   "source": [
    "fruits.count('Cherry') ## Counts the number of occurences of an element"
   ]
  },
  {
   "cell_type": "code",
   "execution_count": 23,
   "id": "cc4116b5",
   "metadata": {},
   "outputs": [
    {
     "data": {
      "text/plain": [
       "['Apple', 'Cherry', 'Cherry', 'watermelon']"
      ]
     },
     "execution_count": 23,
     "metadata": {},
     "output_type": "execute_result"
    }
   ],
   "source": [
    "fruits.sort() ## Sorts the list in ascending order\n",
    "fruits"
   ]
  },
  {
   "cell_type": "code",
   "execution_count": 24,
   "id": "dac1e937",
   "metadata": {},
   "outputs": [
    {
     "data": {
      "text/plain": [
       "['watermelon', 'Cherry', 'Cherry', 'Apple']"
      ]
     },
     "execution_count": 24,
     "metadata": {},
     "output_type": "execute_result"
    }
   ],
   "source": [
    "fruits.reverse() ##Reverses the list\n",
    "fruits"
   ]
  },
  {
   "cell_type": "code",
   "execution_count": 25,
   "id": "4a6440d1",
   "metadata": {},
   "outputs": [
    {
     "data": {
      "text/plain": [
       "[]"
      ]
     },
     "execution_count": 25,
     "metadata": {},
     "output_type": "execute_result"
    }
   ],
   "source": [
    "fruits.clear() ##Removes all items from the list\n",
    "fruits"
   ]
  },
  {
   "cell_type": "markdown",
   "id": "68ea9fa2",
   "metadata": {},
   "source": [
    "Slicing Lists"
   ]
  },
  {
   "cell_type": "code",
   "execution_count": 28,
   "id": "5115d51c",
   "metadata": {},
   "outputs": [
    {
     "name": "stdout",
     "output_type": "stream",
     "text": [
      "[3, 4, 5]\n",
      "[1, 2, 3, 4, 5]\n",
      "[6, 7, 8, 9, 10]\n",
      "[1, 3, 5, 7, 9]\n",
      "[10, 9, 8, 7, 6, 5, 4, 3, 2, 1]\n",
      "[1, 2, 3, 4, 5, 6, 7, 8, 9, 10]\n",
      "[1, 2, 3, 4, 5, 6, 7, 8, 9, 10]\n",
      "[10, 8, 6, 4, 2]\n"
     ]
    }
   ],
   "source": [
    "num=[1,2,3,4,5,6,7,8,9,10]\n",
    "print(num[2:5])\n",
    "print(num[:5])\n",
    "print(num[5:])\n",
    "print(num[::2])\n",
    "print(num[::-1])\n",
    "print(num[::])\n",
    "print(num[::1])\n",
    "print(num[::-2])"
   ]
  },
  {
   "cell_type": "markdown",
   "id": "8a8fb3d8",
   "metadata": {},
   "source": [
    "Iterating over lists:"
   ]
  },
  {
   "cell_type": "code",
   "execution_count": 29,
   "id": "224279bb",
   "metadata": {},
   "outputs": [
    {
     "name": "stdout",
     "output_type": "stream",
     "text": [
      "Apple\n",
      "Banana\n",
      "Cherry\n",
      "Kiwi\n",
      "Guava\n"
     ]
    }
   ],
   "source": [
    "fruits=['Apple', 'Banana', 'Cherry', 'Kiwi', 'Guava']\n",
    "\n",
    "for i in fruits:\n",
    "    print(i)"
   ]
  },
  {
   "cell_type": "code",
   "execution_count": 30,
   "id": "6d68d941",
   "metadata": {},
   "outputs": [
    {
     "name": "stdout",
     "output_type": "stream",
     "text": [
      "0 1\n",
      "1 2\n",
      "2 3\n",
      "3 4\n",
      "4 5\n",
      "5 6\n",
      "6 7\n",
      "7 8\n",
      "8 9\n",
      "9 10\n"
     ]
    }
   ],
   "source": [
    "##Iterating usign indexes:\n",
    "for index, n in enumerate(num):  ##Use enumerate function to get index data \n",
    "    print(index, n)"
   ]
  },
  {
   "cell_type": "code",
   "execution_count": 32,
   "id": "ef7bdc86",
   "metadata": {},
   "outputs": [
    {
     "name": "stdout",
     "output_type": "stream",
     "text": [
      "[0, 1, 4, 9, 16, 25, 36, 49, 64, 81]\n"
     ]
    }
   ],
   "source": [
    "##List Comprehensions:\n",
    "lst=[]\n",
    "for x in range(10):\n",
    "    lst.append(x**2)\n",
    "print(lst)"
   ]
  },
  {
   "cell_type": "code",
   "execution_count": 33,
   "id": "72cd90be",
   "metadata": {},
   "outputs": [
    {
     "data": {
      "text/plain": [
       "[0, 1, 4, 9, 16, 25, 36, 49, 64, 81]"
      ]
     },
     "execution_count": 33,
     "metadata": {},
     "output_type": "execute_result"
    }
   ],
   "source": [
    "[x**2 for x in range(10)]  ##List comprehension- executed the above code in a single line"
   ]
  },
  {
   "cell_type": "markdown",
   "id": "011d364e",
   "metadata": {},
   "source": [
    "##### Syntax for list comprehension:\n",
    "Basic: [Expression for item in iterable]\n",
    "With conditional logic: [Expression for item in iterable if condition]"
   ]
  },
  {
   "cell_type": "code",
   "execution_count": 35,
   "id": "86a1905c",
   "metadata": {},
   "outputs": [
    {
     "name": "stdout",
     "output_type": "stream",
     "text": [
      "[0, 1, 4, 9, 16, 25, 36, 49, 64, 81]\n"
     ]
    }
   ],
   "source": [
    "##Basic list comprehension\n",
    "\n",
    "square=[num**2 for num in range(10)]\n",
    "print(square)"
   ]
  },
  {
   "cell_type": "code",
   "execution_count": 37,
   "id": "665ab48c",
   "metadata": {},
   "outputs": [
    {
     "name": "stdout",
     "output_type": "stream",
     "text": [
      "[0, 2, 4, 6, 8]\n"
     ]
    }
   ],
   "source": [
    "## Comprehension with condition\n",
    "\n",
    "even=[i for i in range(10) if i%2==0]\n",
    "print(even)"
   ]
  },
  {
   "cell_type": "markdown",
   "id": "c8ca19a4",
   "metadata": {},
   "source": [
    "Nested List Comprehension\n",
    "\n",
    "[expression for item1 in iterable1 for item2 in iterable 2]"
   ]
  },
  {
   "cell_type": "code",
   "execution_count": 38,
   "id": "52b599aa",
   "metadata": {},
   "outputs": [
    {
     "name": "stdout",
     "output_type": "stream",
     "text": [
      "[(1, 'a'), (1, 'b'), (1, 'c'), (1, 'd'), (1, 'e'), (2, 'a'), (2, 'b'), (2, 'c'), (2, 'd'), (2, 'e'), (3, 'a'), (3, 'b'), (3, 'c'), (3, 'd'), (3, 'e'), (4, 'a'), (4, 'b'), (4, 'c'), (4, 'd'), (4, 'e'), (5, 'a'), (5, 'b'), (5, 'c'), (5, 'd'), (5, 'e')]\n"
     ]
    }
   ],
   "source": [
    "lst1=[1,2,3,4,5]\n",
    "lst2=['a','b','c','d','e']\n",
    "\n",
    "pair=[(i,j) for i in lst1 for j in lst2]\n",
    "print(pair)"
   ]
  },
  {
   "cell_type": "code",
   "execution_count": 39,
   "id": "274b7c99",
   "metadata": {},
   "outputs": [
    {
     "name": "stdout",
     "output_type": "stream",
     "text": [
      "[4, 5, 8]\n"
     ]
    }
   ],
   "source": [
    "## List comprehension with function calls:\n",
    "\n",
    "words=['Yoda', 'Stark', 'Raysssss']\n",
    "length=[len(word) for word in words]\n",
    "print(length)"
   ]
  },
  {
   "cell_type": "markdown",
   "id": "15a32b72",
   "metadata": {},
   "source": [
    "Managing a to-do list"
   ]
  },
  {
   "cell_type": "code",
   "execution_count": 45,
   "id": "530421b9",
   "metadata": {},
   "outputs": [
    {
     "name": "stdout",
     "output_type": "stream",
     "text": [
      "Updated list: ['Read', 'Cook']\n",
      "['Read', 'Cook']\n",
      "['Read', 'Cook']\n",
      "Invalid item\n",
      "Enter a valid operation.\n",
      "Exiting program\n"
     ]
    }
   ],
   "source": [
    "\n",
    "to_do=[]\n",
    "while True:\n",
    "    operation=input(\"Enter what you want to do with your list: add, remove, see, clear, quit\")\n",
    "\n",
    "    if operation=='add':\n",
    "        tasks=int(input(\"Enter the number of items to add to your list:\"))\n",
    "        for i in range(tasks):\n",
    "            item=input(f\"Item #{i+1}:\")\n",
    "            to_do.append(item)\n",
    "        print(\"Updated list:\",to_do)\n",
    "\n",
    "    elif operation=='remove':\n",
    "        if not to_do:\n",
    "            print(\"Your list is empty.\")\n",
    "            continue\n",
    "        else:\n",
    "            print(to_do)\n",
    "            item=input(\"Which item do you want to remove?\")\n",
    "            if item in to_do:\n",
    "                to_do.remove(item)\n",
    "                print(to_do)\n",
    "            else:\n",
    "                print(\"Invalid item\")\n",
    "    elif operation=='see':\n",
    "        print(to_do)\n",
    "    elif operation=='clear':\n",
    "        to_do.clear()\n",
    "    elif operation=='quit':\n",
    "        print(\"Exiting program\")\n",
    "        break\n",
    "    else:\n",
    "        print(\"Enter a valid operation.\")"
   ]
  },
  {
   "cell_type": "code",
   "execution_count": 46,
   "id": "7e103241",
   "metadata": {},
   "outputs": [
    {
     "data": {
      "text/plain": [
       "['Read', 'Cook']"
      ]
     },
     "execution_count": 46,
     "metadata": {},
     "output_type": "execute_result"
    }
   ],
   "source": [
    "to_do"
   ]
  },
  {
   "cell_type": "markdown",
   "id": "99be941a",
   "metadata": {},
   "source": [
    "Create a list to organize grades and calculate average, minimum, and maximum grades:"
   ]
  },
  {
   "cell_type": "code",
   "execution_count": 48,
   "id": "efd2f73b",
   "metadata": {},
   "outputs": [
    {
     "name": "stdout",
     "output_type": "stream",
     "text": [
      "Your grades are: [98, 95, 97, 99, 96]\n",
      "Maximum Grade: 99\n",
      "Minimum Grade: 95\n",
      "Average Grade: 97.0\n"
     ]
    }
   ],
   "source": [
    "grades=[]\n",
    "num=int(input(\"Enter the number of subjects:\"))\n",
    "for n in range(num):\n",
    "    grade=int(input(f\"Enter the grade in subject #{n+1}:\"))\n",
    "    grades.append(grade)\n",
    "print(\"Your grades are:\",grades)\n",
    "max_grade=max(grades)\n",
    "min_grade=min(grades)\n",
    "avg_grade=sum(grades)/len(grades)\n",
    "print(\"Maximum Grade:\",max_grade)\n",
    "print(\"Minimum Grade:\",min_grade)\n",
    "print(\"Average Grade:\",avg_grade)"
   ]
  }
 ],
 "metadata": {
  "kernelspec": {
   "display_name": "Python 3",
   "language": "python",
   "name": "python3"
  },
  "language_info": {
   "codemirror_mode": {
    "name": "ipython",
    "version": 3
   },
   "file_extension": ".py",
   "mimetype": "text/x-python",
   "name": "python",
   "nbconvert_exporter": "python",
   "pygments_lexer": "ipython3",
   "version": "3.12.0"
  }
 },
 "nbformat": 4,
 "nbformat_minor": 5
}
