{
 "cells": [
  {
   "cell_type": "markdown",
   "id": "f4bdfd71",
   "metadata": {},
   "source": [
    "##### File Operations - Read and Write"
   ]
  },
  {
   "cell_type": "code",
   "execution_count": 3,
   "id": "5bf455ae",
   "metadata": {},
   "outputs": [
    {
     "name": "stdout",
     "output_type": "stream",
     "text": [
      "One of the most compelling parts of Project Hail Mary is the relationship between Ryland Grace and an alien being he names Rocky. \n",
      "Their friendship becomes the heart of the book. \n",
      "It’s not just a man-versus-space survival story. \n",
      "It’s about collaboration across species, mutual respect, and what it means to find companionship in the loneliest corners of the universe.\n",
      "Rocky is a triumph of character design—logical, funny, deeply empathetic despite being so biologically different. \n",
      "The communication and bond between the two characters becomes a beautiful metaphor for hope in dire times.\n",
      "And the ending? \n",
      "It’s emotionally satisfying, unexpected, and stays true to the themes of sacrifice and scientific wonder.\n"
     ]
    }
   ],
   "source": [
    "## Read a whole file:\n",
    "with open('review.txt', 'r') as file:\n",
    "    content=file.read()\n",
    "    print(content)"
   ]
  },
  {
   "cell_type": "code",
   "execution_count": null,
   "id": "26c0df4e",
   "metadata": {},
   "outputs": [
    {
     "name": "stdout",
     "output_type": "stream",
     "text": [
      "One of the most compelling parts of Project Hail Mary is the relationship between Ryland Grace and an alien being he names Rocky. \n",
      "\n",
      "Their friendship becomes the heart of the book. \n",
      "\n",
      "It’s not just a man-versus-space survival story. \n",
      "\n",
      "It’s about collaboration across species, mutual respect, and what it means to find companionship in the loneliest corners of the universe.\n",
      "\n",
      "Rocky is a triumph of character design—logical, funny, deeply empathetic despite being so biologically different. \n",
      "\n",
      "The communication and bond between the two characters becomes a beautiful metaphor for hope in dire times.\n",
      "\n",
      "And the ending? \n",
      "\n",
      "It’s emotionally satisfying, unexpected, and stays true to the themes of sacrifice and scientific wonder.\n"
     ]
    }
   ],
   "source": [
    "## Read a file line by line:\n",
    "\n",
    "with open('review.txt', 'r') as file:\n",
    "    for line in file:   ##Automatically adding a new line after each line\n",
    "        print(line)"
   ]
  },
  {
   "cell_type": "code",
   "execution_count": 5,
   "id": "b21ae982",
   "metadata": {},
   "outputs": [
    {
     "name": "stdout",
     "output_type": "stream",
     "text": [
      "One of the most compelling parts of Project Hail Mary is the relationship between Ryland Grace and an alien being he names Rocky.\n",
      "Their friendship becomes the heart of the book.\n",
      "It’s not just a man-versus-space survival story.\n",
      "It’s about collaboration across species, mutual respect, and what it means to find companionship in the loneliest corners of the universe.\n",
      "Rocky is a triumph of character design—logical, funny, deeply empathetic despite being so biologically different.\n",
      "The communication and bond between the two characters becomes a beautiful metaphor for hope in dire times.\n",
      "And the ending?\n",
      "It’s emotionally satisfying, unexpected, and stays true to the themes of sacrifice and scientific wonder.\n"
     ]
    }
   ],
   "source": [
    "with open('review.txt', 'r') as file:\n",
    "    for line in file:\n",
    "        print(line.strip())   ##strip() removes the new line character"
   ]
  },
  {
   "cell_type": "code",
   "execution_count": 6,
   "id": "387fc756",
   "metadata": {},
   "outputs": [],
   "source": [
    "## Writing a file(overwriting):\n",
    "with open('newcontent.txt', 'w') as file:\n",
    "    file.write('Helloooooo!!!\\n')\n",
    "    file.write('SOSSOSOSOSOSOoS')"
   ]
  },
  {
   "cell_type": "code",
   "execution_count": 9,
   "id": "c628674c",
   "metadata": {},
   "outputs": [],
   "source": [
    "## Writing a file (without overwriting):\n",
    "with open('newcontent.txt', 'a') as file:\n",
    "    file.write('\\nYou will see this line after above two lines.')"
   ]
  },
  {
   "cell_type": "code",
   "execution_count": 10,
   "id": "92d5e394",
   "metadata": {},
   "outputs": [],
   "source": [
    "## Writing a list of lines to a file:\n",
    "lines=['\\n New line in list', '\\n You must know the secrets', '\\n Should I tell you?']\n",
    "with open('newcontent.txt', 'a') as file:\n",
    "    file.writelines(lines)"
   ]
  },
  {
   "cell_type": "markdown",
   "id": "574896bc",
   "metadata": {},
   "source": [
    "Binary Files"
   ]
  },
  {
   "cell_type": "code",
   "execution_count": 12,
   "id": "bb2d958e",
   "metadata": {},
   "outputs": [],
   "source": [
    "## In binary files we usually update bytes.\n",
    "data=b'\\x00\\x01\\x02\\x03\\x04'\n",
    "with open('example.bin', 'wb') as file:\n",
    "    file.write(data)"
   ]
  },
  {
   "cell_type": "code",
   "execution_count": 13,
   "id": "d2d1ac04",
   "metadata": {},
   "outputs": [
    {
     "name": "stdout",
     "output_type": "stream",
     "text": [
      "b'\\x00\\x01\\x02\\x03\\x04'\n"
     ]
    }
   ],
   "source": [
    "##Reading binary file:\n",
    "with open('example.bin', 'rb') as file:\n",
    "    content=file.read()\n",
    "    print(content)"
   ]
  },
  {
   "cell_type": "code",
   "execution_count": 14,
   "id": "9ab76f0e",
   "metadata": {},
   "outputs": [],
   "source": [
    "## Read content from a source text file and write it to a destination text file:\n",
    "\n",
    "with open('review.txt', 'r') as source_file:\n",
    "    content=source_file.read()\n",
    "with open('destination.txt', 'w') as destination_file:\n",
    "    destination_file.write(content)"
   ]
  },
  {
   "cell_type": "code",
   "execution_count": null,
   "id": "c9ae0e5c",
   "metadata": {},
   "outputs": [
    {
     "data": {
      "text/plain": [
       "(8, 109, 713)"
      ]
     },
     "execution_count": 16,
     "metadata": {},
     "output_type": "execute_result"
    }
   ],
   "source": [
    "## Reading a text file and counting the number of lines, words, and characters:\n",
    "def count_text_file(file_path):\n",
    "    with open(file_path, 'r') as file:\n",
    "        lines=file.readlines()  ##reads all lines into a list\n",
    "        line_count=len(lines)\n",
    "        word_count=sum(len(line.split()) for line in lines)\n",
    "        char_count=sum(len(line) for line in lines)\n",
    "    return line_count, word_count, char_count\n",
    "\n",
    "file_path='review.txt'\n",
    "count_text_file(file_path)"
   ]
  },
  {
   "cell_type": "markdown",
   "id": "29171156",
   "metadata": {},
   "source": [
    "The w+ mode is used to open a file for both reading and writing. If the file does not exist, it will be created. If the file exists, its content is overwritten."
   ]
  },
  {
   "cell_type": "code",
   "execution_count": 17,
   "id": "c8e68854",
   "metadata": {},
   "outputs": [
    {
     "name": "stdout",
     "output_type": "stream",
     "text": [
      "Heyyyyyy, Howdy!\n",
      "Welcome to the westworld\n",
      "\n"
     ]
    }
   ],
   "source": [
    "##Writing and then reading a file:\n",
    "with open('example.txt', 'w+') as file:\n",
    "    file.write('Heyyyyyy, Howdy!\\n')\n",
    "    file.write('Welcome to the westworld\\n')\n",
    "\n",
    "    ##Moving the file cursor because currently it is at the end of the second line. \n",
    "    # We want to move it to the start so that we can read our file.\n",
    "\n",
    "    file.seek(0)\n",
    "    ##reading:\n",
    "    content=file.read()\n",
    "    print(content)"
   ]
  }
 ],
 "metadata": {
  "kernelspec": {
   "display_name": "Python 3",
   "language": "python",
   "name": "python3"
  },
  "language_info": {
   "codemirror_mode": {
    "name": "ipython",
    "version": 3
   },
   "file_extension": ".py",
   "mimetype": "text/x-python",
   "name": "python",
   "nbconvert_exporter": "python",
   "pygments_lexer": "ipython3",
   "version": "3.12.0"
  }
 },
 "nbformat": 4,
 "nbformat_minor": 5
}
