{
 "cells": [
  {
   "cell_type": "code",
   "execution_count": 1,
   "id": "0b519ceb",
   "metadata": {},
   "outputs": [],
   "source": [
    "import os"
   ]
  },
  {
   "cell_type": "code",
   "execution_count": 2,
   "id": "3350ae3f",
   "metadata": {},
   "outputs": [],
   "source": [
    "## Creating a new directory:\n",
    "new_directory=\"Package\"\n",
    "os.mkdir(new_directory)"
   ]
  },
  {
   "cell_type": "code",
   "execution_count": 3,
   "id": "578526d1",
   "metadata": {},
   "outputs": [
    {
     "name": "stdout",
     "output_type": "stream",
     "text": [
      "['5.1-File operations in Python.ipynb', 'destination.txt', 'example.bin', 'example.txt', 'FilePaths.ipynb', 'newcontent.txt', 'Package', 'review.txt']\n"
     ]
    }
   ],
   "source": [
    "##Listing files and directories:\n",
    "items=os.listdir('.')\n",
    "print(items)"
   ]
  },
  {
   "cell_type": "code",
   "execution_count": 4,
   "id": "c107979f",
   "metadata": {},
   "outputs": [
    {
     "name": "stdout",
     "output_type": "stream",
     "text": [
      "folder\\file.txt\n"
     ]
    }
   ],
   "source": [
    "## Joining paths:\n",
    "dir_name=\"folder\"\n",
    "file_name='file.txt'\n",
    "full_path=os.path.join(dir_name, file_name)\n",
    "print(full_path)"
   ]
  },
  {
   "cell_type": "code",
   "execution_count": 6,
   "id": "bd133e92",
   "metadata": {},
   "outputs": [
    {
     "name": "stdout",
     "output_type": "stream",
     "text": [
      "c:\\Users\\Safi\\Desktop\\UdemyGenAi\\Python\\5-File Operations\n",
      "c:\\Users\\Safi\\Desktop\\UdemyGenAi\\Python\\5-File Operations\\folder\\file.txt\n"
     ]
    }
   ],
   "source": [
    "##to get complete directory info:\n",
    "\n",
    "print(os.getcwd())\n",
    "dir_name=\"folder\"\n",
    "file_name='file.txt'\n",
    "full_path=os.path.join(os.getcwd(), dir_name, file_name)\n",
    "print(full_path)"
   ]
  },
  {
   "cell_type": "code",
   "execution_count": 7,
   "id": "cadcf8b8",
   "metadata": {},
   "outputs": [
    {
     "name": "stdout",
     "output_type": "stream",
     "text": [
      "The path example1.txt does not exist\n"
     ]
    }
   ],
   "source": [
    "path='example1.txt'\n",
    "if os.path.exists(path):\n",
    "    print(f'The path {path} exists')\n",
    "else:\n",
    "    print(f'The path {path} does not exist')"
   ]
  },
  {
   "cell_type": "code",
   "execution_count": 8,
   "id": "58dbe924",
   "metadata": {},
   "outputs": [
    {
     "name": "stdout",
     "output_type": "stream",
     "text": [
      "File\n"
     ]
    }
   ],
   "source": [
    "## Checking if a path is a file or a directory:\n",
    "path='example.txt'\n",
    "if os.path.isfile(path):\n",
    "    print(\"File\")\n",
    "elif os.path.isdir(path):\n",
    "    print(\"Directory\")\n",
    "else:\n",
    "    print(\"None\")"
   ]
  },
  {
   "cell_type": "code",
   "execution_count": 9,
   "id": "12de4e9a",
   "metadata": {},
   "outputs": [
    {
     "name": "stdout",
     "output_type": "stream",
     "text": [
      "c:\\Users\\Safi\\Desktop\\UdemyGenAi\\Python\\5-File Operations\\example.txt\n"
     ]
    }
   ],
   "source": [
    "##getting the absolute path:\n",
    "relative_path='example.txt'\n",
    "absolute_path=os.path.abspath(relative_path)\n",
    "print(absolute_path)"
   ]
  }
 ],
 "metadata": {
  "kernelspec": {
   "display_name": "Python 3",
   "language": "python",
   "name": "python3"
  },
  "language_info": {
   "codemirror_mode": {
    "name": "ipython",
    "version": 3
   },
   "file_extension": ".py",
   "mimetype": "text/x-python",
   "name": "python",
   "nbconvert_exporter": "python",
   "pygments_lexer": "ipython3",
   "version": "3.12.0"
  }
 },
 "nbformat": 4,
 "nbformat_minor": 5
}
