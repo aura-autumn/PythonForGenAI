{
 "cells": [
  {
   "cell_type": "markdown",
   "id": "5957ad64",
   "metadata": {},
   "source": [
    "Exceptions in Python"
   ]
  },
  {
   "cell_type": "code",
   "execution_count": 1,
   "id": "28bfbb87",
   "metadata": {},
   "outputs": [
    {
     "name": "stdout",
     "output_type": "stream",
     "text": [
      "The variable has not been assigned\n"
     ]
    }
   ],
   "source": [
    "## Name error handling using try,except block\n",
    "\n",
    "try:\n",
    "    a=b\n",
    "except:\n",
    "    print(\"The variable has not been assigned\")"
   ]
  },
  {
   "cell_type": "code",
   "execution_count": 2,
   "id": "2aa6a906",
   "metadata": {},
   "outputs": [
    {
     "name": "stdout",
     "output_type": "stream",
     "text": [
      "name 'b' is not defined\n"
     ]
    }
   ],
   "source": [
    "## Handling a particular type of exception:\n",
    "try:\n",
    "    a=b\n",
    "except NameError as ex:\n",
    "    print(ex)"
   ]
  },
  {
   "cell_type": "code",
   "execution_count": 4,
   "id": "eaa8402f",
   "metadata": {},
   "outputs": [
    {
     "name": "stdout",
     "output_type": "stream",
     "text": [
      "division by zero\n",
      "Please enter a valid denominator\n"
     ]
    }
   ],
   "source": [
    "##ZeroDivisionError:\n",
    "\n",
    "try:\n",
    "    result=1/0\n",
    "except ZeroDivisionError as ex:\n",
    "    print(ex)\n",
    "    print(\"Please enter a valid denominator\")"
   ]
  },
  {
   "cell_type": "code",
   "execution_count": 7,
   "id": "75dbccac",
   "metadata": {},
   "outputs": [
    {
     "name": "stdout",
     "output_type": "stream",
     "text": [
      "name 'a' is not defined\n"
     ]
    }
   ],
   "source": [
    "##Base class of all exceptions:\n",
    "try:\n",
    "    result=a/0\n",
    "    a=b\n",
    "except Exception as ex:\n",
    "    print(ex)"
   ]
  },
  {
   "cell_type": "code",
   "execution_count": null,
   "id": "647f36e8",
   "metadata": {},
   "outputs": [
    {
     "name": "stdout",
     "output_type": "stream",
     "text": [
      "Cannot divide by zero\n"
     ]
    }
   ],
   "source": [
    "##Value error. Edge case handling.\n",
    "try:\n",
    "    num=int(input(\"Enter a number\"))\n",
    "    result=10/num\n",
    "except ValueError as ex:\n",
    "    print(\"Not a valid number\")\n",
    "except ZeroDivisionError as ex1:\n",
    "    print(\"Cannot divide by zero\")\n",
    "except Exception as ex2:    ##To handle any other exceptions that might occur\n",
    "    print(ex2)"
   ]
  },
  {
   "cell_type": "code",
   "execution_count": 11,
   "id": "7688ec78",
   "metadata": {},
   "outputs": [
    {
     "name": "stdout",
     "output_type": "stream",
     "text": [
      "The result is 1.0\n"
     ]
    }
   ],
   "source": [
    "##try, except, else block\n",
    "try:\n",
    "    num=int(input(\"Enter a number\"))\n",
    "    result=10/num\n",
    "except ValueError as ex:\n",
    "    print(\"Not a valid number\")\n",
    "except ZeroDivisionError as ex1:\n",
    "    print(\"Cannot divide by zero\")\n",
    "except Exception as ex2:\n",
    "    print(ex2)\n",
    "else:\n",
    "    print(f\"The result is {result}\")   ##Only gets executed when exceptions are not there. Try block is executed."
   ]
  },
  {
   "cell_type": "code",
   "execution_count": 12,
   "id": "7fde3809",
   "metadata": {},
   "outputs": [
    {
     "name": "stdout",
     "output_type": "stream",
     "text": [
      "Cannot divide by zero\n",
      "Execution complete.\n"
     ]
    }
   ],
   "source": [
    "## try, except, else, finally block:\n",
    "try:\n",
    "    num=int(input(\"Enter a number\"))\n",
    "    result=10/num\n",
    "except ValueError as ex:\n",
    "    print(\"Not a valid number\")\n",
    "except ZeroDivisionError as ex1:\n",
    "    print(\"Cannot divide by zero\")\n",
    "except Exception as ex2:\n",
    "    print(ex2)\n",
    "else:\n",
    "    print(f\"The result is {result}\")\n",
    "finally:\n",
    "    print(\"Execution complete.\")   ##Executed always"
   ]
  },
  {
   "cell_type": "code",
   "execution_count": 15,
   "id": "a6ed67fd",
   "metadata": {},
   "outputs": [
    {
     "name": "stdout",
     "output_type": "stream",
     "text": [
      "File not found\n"
     ]
    }
   ],
   "source": [
    "## File handling with exception handling:\n",
    "\n",
    "try:\n",
    "    file=open('example2.txt', 'r')\n",
    "    content=file.read()\n",
    "    print(content)\n",
    "except FileNotFoundError:\n",
    "    print(\"File not found\")\n",
    "finally:\n",
    "    if 'file' in locals() and not file.closed():\n",
    "        file.close()\n",
    "        print(\"File Closed\")"
   ]
  }
 ],
 "metadata": {
  "kernelspec": {
   "display_name": "Python 3",
   "language": "python",
   "name": "python3"
  },
  "language_info": {
   "codemirror_mode": {
    "name": "ipython",
    "version": 3
   },
   "file_extension": ".py",
   "mimetype": "text/x-python",
   "name": "python",
   "nbconvert_exporter": "python",
   "pygments_lexer": "ipython3",
   "version": "3.12.0"
  }
 },
 "nbformat": 4,
 "nbformat_minor": 5
}
