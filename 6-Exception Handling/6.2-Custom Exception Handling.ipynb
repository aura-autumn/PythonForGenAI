{
 "cells": [
  {
   "cell_type": "markdown",
   "id": "c1001aae",
   "metadata": {},
   "source": [
    "##### Custom exception handling in Python:\n",
    "\n",
    "Raise and throw exceptions\n",
    "(Lesson prequisite- classes and objects)"
   ]
  },
  {
   "cell_type": "code",
   "execution_count": 1,
   "id": "7e1cc696",
   "metadata": {},
   "outputs": [],
   "source": [
    "class Error(Exception):\n",
    "    pass\n",
    "class dobException(Error):\n",
    "    pass"
   ]
  },
  {
   "cell_type": "code",
   "execution_count": 3,
   "id": "bc66134a",
   "metadata": {},
   "outputs": [
    {
     "name": "stdout",
     "output_type": "stream",
     "text": [
      "Valid age for this exam. Please proceed.\n"
     ]
    }
   ],
   "source": [
    "year=int(input(\"Enter the year of birth\"))\n",
    "age=2025-year\n",
    "try:\n",
    "    if age<=30 and age>=20:\n",
    "        print(\"Valid age for this exam. Please proceed.\")\n",
    "    else:\n",
    "        raise dobException  ##raising exception\n",
    "except dobException: ##Catching exception\n",
    "    print(\"Age not within permissible limit.\")"
   ]
  }
 ],
 "metadata": {
  "kernelspec": {
   "display_name": "Python 3",
   "language": "python",
   "name": "python3"
  },
  "language_info": {
   "codemirror_mode": {
    "name": "ipython",
    "version": 3
   },
   "file_extension": ".py",
   "mimetype": "text/x-python",
   "name": "python",
   "nbconvert_exporter": "python",
   "pygments_lexer": "ipython3",
   "version": "3.12.0"
  }
 },
 "nbformat": 4,
 "nbformat_minor": 5
}
