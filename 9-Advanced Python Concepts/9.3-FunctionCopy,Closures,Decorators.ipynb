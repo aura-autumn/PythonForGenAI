{
 "cells": [
  {
   "cell_type": "markdown",
   "id": "a7d1ed57",
   "metadata": {},
   "source": [
    "##### Function copy, Closures, and Decorators\n",
    "\n",
    "Decorators allow you to modify the behaviour of a function or class method. Thye are commonly used to add functionality to functions or methods without modifying their actual code.\n",
    "\n",
    "These are used to implement logging, timing, access control and more."
   ]
  },
  {
   "cell_type": "code",
   "execution_count": 1,
   "id": "f94fc833",
   "metadata": {},
   "outputs": [
    {
     "data": {
      "text/plain": [
       "'Welcome to the advanced python course.'"
      ]
     },
     "execution_count": 1,
     "metadata": {},
     "output_type": "execute_result"
    }
   ],
   "source": [
    "##Function copy:\n",
    "def welcome():\n",
    "    return \"Welcome to the advanced python course.\"\n",
    "\n",
    "welcome()"
   ]
  },
  {
   "cell_type": "code",
   "execution_count": 2,
   "id": "a085ae2b",
   "metadata": {},
   "outputs": [
    {
     "data": {
      "text/plain": [
       "'Welcome to the advanced python course.'"
      ]
     },
     "execution_count": 2,
     "metadata": {},
     "output_type": "execute_result"
    }
   ],
   "source": [
    "wel=welcome()\n",
    "\n",
    "wel"
   ]
  },
  {
   "cell_type": "code",
   "execution_count": 3,
   "id": "ce994338",
   "metadata": {},
   "outputs": [
    {
     "data": {
      "text/plain": [
       "<function __main__.welcome()>"
      ]
     },
     "execution_count": 3,
     "metadata": {},
     "output_type": "execute_result"
    }
   ],
   "source": [
    "wel=welcome  ##Function copy\n",
    "\n",
    "wel"
   ]
  },
  {
   "cell_type": "code",
   "execution_count": 4,
   "id": "327ca473",
   "metadata": {},
   "outputs": [
    {
     "data": {
      "text/plain": [
       "'Welcome to the advanced python course.'"
      ]
     },
     "execution_count": 4,
     "metadata": {},
     "output_type": "execute_result"
    }
   ],
   "source": [
    "wel()"
   ]
  },
  {
   "cell_type": "code",
   "execution_count": 6,
   "id": "c13a8766",
   "metadata": {},
   "outputs": [],
   "source": [
    "del welcome"
   ]
  },
  {
   "cell_type": "code",
   "execution_count": 7,
   "id": "caef86a4",
   "metadata": {},
   "outputs": [
    {
     "data": {
      "text/plain": [
       "<function __main__.welcome()>"
      ]
     },
     "execution_count": 7,
     "metadata": {},
     "output_type": "execute_result"
    }
   ],
   "source": [
    "wel ##Wel still exists after deleting original welcome."
   ]
  },
  {
   "cell_type": "code",
   "execution_count": 8,
   "id": "ae07cda9",
   "metadata": {},
   "outputs": [],
   "source": [
    "##Closures: A function inside a function\n",
    "\n",
    "def main_welcome():\n",
    "    msg=\"Welcome\"\n",
    "    def sub_welcome():\n",
    "        print(\"Welcome to the course!\")\n",
    "        print(\"Learn the concept properly\")\n",
    "    return sub_welcome()"
   ]
  },
  {
   "cell_type": "code",
   "execution_count": 9,
   "id": "f378bc12",
   "metadata": {},
   "outputs": [
    {
     "name": "stdout",
     "output_type": "stream",
     "text": [
      "Welcome to the course!\n",
      "Learn the concept properly\n"
     ]
    }
   ],
   "source": [
    "main_welcome()"
   ]
  },
  {
   "cell_type": "code",
   "execution_count": 10,
   "id": "bb0108e7",
   "metadata": {},
   "outputs": [],
   "source": [
    "def main_welcome():\n",
    "    msg=\"Welcome\"\n",
    "    def sub_welcome():\n",
    "        print(\"Welcome to the course!\")\n",
    "        print(msg) ##Accessing local variable.\n",
    "        print(\"Learn the concept properly\")\n",
    "    return sub_welcome()"
   ]
  },
  {
   "cell_type": "code",
   "execution_count": 11,
   "id": "2c778941",
   "metadata": {},
   "outputs": [
    {
     "name": "stdout",
     "output_type": "stream",
     "text": [
      "Welcome to the course!\n",
      "Welcome\n",
      "Learn the concept properly\n"
     ]
    }
   ],
   "source": [
    "main_welcome()"
   ]
  },
  {
   "cell_type": "code",
   "execution_count": 12,
   "id": "d14a4410",
   "metadata": {},
   "outputs": [],
   "source": [
    "def main_welcome(msg):\n",
    "    def sub_welcome():\n",
    "        print(\"Welcome to the course!\")\n",
    "        print(msg) ##Accessing main function's parameter\n",
    "        print(\"Learn the concept properly\")\n",
    "    return sub_welcome()"
   ]
  },
  {
   "cell_type": "code",
   "execution_count": 13,
   "id": "53767994",
   "metadata": {},
   "outputs": [
    {
     "name": "stdout",
     "output_type": "stream",
     "text": [
      "Welcome to the course!\n",
      "Rays\n",
      "Learn the concept properly\n"
     ]
    }
   ],
   "source": [
    "main_welcome(\"Rays\")"
   ]
  },
  {
   "cell_type": "code",
   "execution_count": 14,
   "id": "549bdf14",
   "metadata": {},
   "outputs": [],
   "source": [
    "def main_welcome(func):\n",
    "    def sub_welcome():\n",
    "        print(\"Welcome to the course!\")\n",
    "        func() ##Passing an inbuilt function\n",
    "        print(\"Learn the concept properly\")\n",
    "    return sub_welcome()"
   ]
  },
  {
   "cell_type": "code",
   "execution_count": 16,
   "id": "5b7e1cd3",
   "metadata": {},
   "outputs": [
    {
     "name": "stdout",
     "output_type": "stream",
     "text": [
      "Welcome to the course!\n",
      "\n",
      "Learn the concept properly\n"
     ]
    }
   ],
   "source": [
    "main_welcome(print) ##Empty line is printed"
   ]
  },
  {
   "cell_type": "code",
   "execution_count": 23,
   "id": "7c696336",
   "metadata": {},
   "outputs": [],
   "source": [
    "def main_welcome(func):\n",
    "    def sub_welcome():\n",
    "        print(\"Welcome to the course!\")\n",
    "        func(\"Rayssss\") ##Passing an inbuilt function\n",
    "        print(\"Learn the concept properly\")\n",
    "    return sub_welcome()"
   ]
  },
  {
   "cell_type": "code",
   "execution_count": 24,
   "id": "87759d6a",
   "metadata": {},
   "outputs": [
    {
     "name": "stdout",
     "output_type": "stream",
     "text": [
      "Welcome to the course!\n",
      "Rayssss\n",
      "Learn the concept properly\n"
     ]
    }
   ],
   "source": [
    "main_welcome(print)"
   ]
  },
  {
   "cell_type": "code",
   "execution_count": 25,
   "id": "35be0ac7",
   "metadata": {},
   "outputs": [],
   "source": [
    "def main_welcome(func):\n",
    "    def sub_welcome():\n",
    "        print(\"Welcome to the course!\")\n",
    "        print(func(\"Rayssss\")) ##Passing an inbuilt function\n",
    "        print(\"Learn the concept properly\")\n",
    "    return sub_welcome()"
   ]
  },
  {
   "cell_type": "code",
   "execution_count": 26,
   "id": "09cdcbb2",
   "metadata": {},
   "outputs": [
    {
     "name": "stdout",
     "output_type": "stream",
     "text": [
      "Welcome to the course!\n",
      "7\n",
      "Learn the concept properly\n"
     ]
    }
   ],
   "source": [
    "main_welcome(len)"
   ]
  },
  {
   "cell_type": "code",
   "execution_count": 27,
   "id": "eeb9f59e",
   "metadata": {},
   "outputs": [],
   "source": [
    "##Decorators:\n",
    "\n",
    "def main_welcome(func):\n",
    "    def sub_welcome():\n",
    "        print(\"Welcome to the course!\")\n",
    "        func()\n",
    "        print(\"Learn the concept properly\")\n",
    "    return sub_welcome()"
   ]
  },
  {
   "cell_type": "code",
   "execution_count": 28,
   "id": "7e78c17d",
   "metadata": {},
   "outputs": [
    {
     "name": "stdout",
     "output_type": "stream",
     "text": [
      "Advanced python course.\n"
     ]
    }
   ],
   "source": [
    "def course_intro():\n",
    "    print(\"Advanced python course.\")\n",
    "\n",
    "course_intro()"
   ]
  },
  {
   "cell_type": "code",
   "execution_count": 30,
   "id": "4ce500ec",
   "metadata": {},
   "outputs": [
    {
     "name": "stdout",
     "output_type": "stream",
     "text": [
      "Welcome to the course!\n",
      "Advanced python course.\n",
      "Learn the concept properly\n"
     ]
    }
   ],
   "source": [
    "main_welcome(course_intro)"
   ]
  },
  {
   "cell_type": "code",
   "execution_count": 31,
   "id": "4221f9b1",
   "metadata": {},
   "outputs": [
    {
     "name": "stdout",
     "output_type": "stream",
     "text": [
      "Welcome to the course!\n",
      "Advanced python course.\n",
      "Learn the concept properly\n"
     ]
    }
   ],
   "source": [
    "##Now, we will use decorators to print the main_welcome() without calling it.\n",
    "\n",
    "@main_welcome\n",
    "def course_intro(): ##This function will directly pass into the above function as a parameter for above fucntion call.\n",
    "    print(\"Advanced python course.\")"
   ]
  },
  {
   "cell_type": "markdown",
   "id": "a0f17eec",
   "metadata": {},
   "source": [
    "By decorator, we can now perform any action in our function like course_intro and then pass it as a parameter to main fucntion without changing any code in our main function."
   ]
  },
  {
   "cell_type": "code",
   "execution_count": null,
   "id": "7e037dbe",
   "metadata": {},
   "outputs": [],
   "source": [
    "##Example:\n",
    "\n",
    "def my_decorator(func):\n",
    "    def wrapper():\n",
    "        print(\"Before the function parameter call\")\n",
    "        func()\n",
    "        print(\"After the function parameter call\")\n",
    "    return wrapper() ##function call is returned"
   ]
  },
  {
   "cell_type": "code",
   "execution_count": 34,
   "id": "fda2d44f",
   "metadata": {},
   "outputs": [
    {
     "name": "stdout",
     "output_type": "stream",
     "text": [
      "Before the function parameter call\n",
      "Hellewww!\n",
      "After the function parameter call\n"
     ]
    }
   ],
   "source": [
    "@my_decorator\n",
    "def say_hello():\n",
    "    print(\"Hellewww!\")"
   ]
  },
  {
   "cell_type": "code",
   "execution_count": 35,
   "id": "8ccb538b",
   "metadata": {},
   "outputs": [],
   "source": [
    "def my_decorator(func):\n",
    "    def wrapper():\n",
    "        print(\"Before the function parameter call\")\n",
    "        func()\n",
    "        print(\"After the function parameter call\")\n",
    "    return wrapper ##Function is returned\n",
    "\n",
    "@my_decorator\n",
    "def say_hello():\n",
    "    print(\"Hellewww!\")"
   ]
  },
  {
   "cell_type": "code",
   "execution_count": 37,
   "id": "c0af489d",
   "metadata": {},
   "outputs": [
    {
     "name": "stdout",
     "output_type": "stream",
     "text": [
      "Before the function parameter call\n",
      "Hellewww!\n",
      "After the function parameter call\n"
     ]
    }
   ],
   "source": [
    "say_hello() ##Function call is manual in this case."
   ]
  },
  {
   "cell_type": "code",
   "execution_count": 38,
   "id": "9d66c9e6",
   "metadata": {},
   "outputs": [],
   "source": [
    "##Decorators with arguments:\n",
    "\n",
    "def repeat(n):\n",
    "    def decorator(func):\n",
    "        def wrapper(*args, **kwargs):\n",
    "            for i in range(n):\n",
    "                func(*args,**kwargs)\n",
    "        return wrapper\n",
    "    return decorator"
   ]
  },
  {
   "cell_type": "code",
   "execution_count": 39,
   "id": "ace52eb1",
   "metadata": {},
   "outputs": [],
   "source": [
    "@repeat(3)\n",
    "def say_hello():\n",
    "    print(\"Hellewww Rachel!\")"
   ]
  },
  {
   "cell_type": "code",
   "execution_count": 40,
   "id": "3a5a5cb6",
   "metadata": {},
   "outputs": [
    {
     "name": "stdout",
     "output_type": "stream",
     "text": [
      "Hellewww Rachel!\n",
      "Hellewww Rachel!\n",
      "Hellewww Rachel!\n"
     ]
    }
   ],
   "source": [
    "say_hello()"
   ]
  }
 ],
 "metadata": {
  "kernelspec": {
   "display_name": "Python 3",
   "language": "python",
   "name": "python3"
  },
  "language_info": {
   "codemirror_mode": {
    "name": "ipython",
    "version": 3
   },
   "file_extension": ".py",
   "mimetype": "text/x-python",
   "name": "python",
   "nbconvert_exporter": "python",
   "pygments_lexer": "ipython3",
   "version": "3.12.0"
  }
 },
 "nbformat": 4,
 "nbformat_minor": 5
}
