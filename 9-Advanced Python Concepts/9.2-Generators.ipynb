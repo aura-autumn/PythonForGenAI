{
 "cells": [
  {
   "cell_type": "markdown",
   "id": "ecaa8364",
   "metadata": {},
   "source": [
    "##### Generators in Python:\n",
    "\n",
    "Generators are a simple way to create iterators. They use the yeild keyword to produce a series of values lazily, which means they generate values on the fly and do not store them in memory.\n",
    "\n",
    "--A generator is a special type of iterator that generates values on the fly using the yield keyword, instead of storing them all in memory like lists. Generators remember where they left off-State saving nature.\n",
    "\n",
    "--Yield keyword- Pauses the function and returns a value to the caller\n",
    "\n",
    "It is a subclass of iterators.\n",
    "\n",
    "How yield Works:\n",
    "Each time yield is hit:\n",
    "\n",
    "- The function pauses, saving its state.\n",
    "\n",
    "- On the next call (next()), it resumes from where it left off.\n",
    "\n",
    "Imagine you're reading a book using a bookmark:\n",
    "\n",
    "- You read a page and place the bookmark (like yield).\n",
    "\n",
    "- Next time, you continue from that bookmark instead of starting over."
   ]
  },
  {
   "cell_type": "code",
   "execution_count": 10,
   "id": "e75f3e69",
   "metadata": {},
   "outputs": [],
   "source": [
    "def square(n):\n",
    "    for i in range(n):\n",
    "        yield i**2     ##If you write return, and call square(n), the first call's answer will be 0 and only that will print."
   ]
  },
  {
   "cell_type": "code",
   "execution_count": 11,
   "id": "30fabbfd",
   "metadata": {},
   "outputs": [
    {
     "data": {
      "text/plain": [
       "<generator object square at 0x00000256D1F20040>"
      ]
     },
     "execution_count": 11,
     "metadata": {},
     "output_type": "execute_result"
    }
   ],
   "source": [
    "square(3)"
   ]
  },
  {
   "cell_type": "code",
   "execution_count": 12,
   "id": "0946f999",
   "metadata": {},
   "outputs": [
    {
     "name": "stdout",
     "output_type": "stream",
     "text": [
      "0\n",
      "1\n",
      "4\n"
     ]
    }
   ],
   "source": [
    "for i in square(3):\n",
    "    print (i)"
   ]
  },
  {
   "cell_type": "code",
   "execution_count": 13,
   "id": "2b3953a7",
   "metadata": {},
   "outputs": [],
   "source": [
    "## If you iterate over the return statement function instead of creating a generator, exception will come- cannot itearte over int objects"
   ]
  },
  {
   "cell_type": "code",
   "execution_count": 19,
   "id": "130b6c23",
   "metadata": {},
   "outputs": [
    {
     "data": {
      "text/plain": [
       "<generator object square at 0x00000256D1F232A0>"
      ]
     },
     "execution_count": 19,
     "metadata": {},
     "output_type": "execute_result"
    }
   ],
   "source": [
    "a=square(4)\n",
    "a"
   ]
  },
  {
   "cell_type": "code",
   "execution_count": 20,
   "id": "29846dd8",
   "metadata": {},
   "outputs": [
    {
     "name": "stdout",
     "output_type": "stream",
     "text": [
      "0\n",
      "1\n",
      "4\n",
      "9\n"
     ]
    }
   ],
   "source": [
    "print(next(a))\n",
    "print(next(a))\n",
    "print(next(a))\n",
    "print(next(a))"
   ]
  },
  {
   "cell_type": "code",
   "execution_count": 27,
   "id": "fd862994",
   "metadata": {},
   "outputs": [],
   "source": [
    "def my_generator():\n",
    "    yield 1\n",
    "    yield 2\n",
    "    yield 3"
   ]
  },
  {
   "cell_type": "code",
   "execution_count": 28,
   "id": "259c3ed9",
   "metadata": {},
   "outputs": [
    {
     "data": {
      "text/plain": [
       "<generator object my_generator at 0x00000256D1EF9A60>"
      ]
     },
     "execution_count": 28,
     "metadata": {},
     "output_type": "execute_result"
    }
   ],
   "source": [
    "gen=my_generator()\n",
    "gen"
   ]
  },
  {
   "cell_type": "code",
   "execution_count": 25,
   "id": "1e311c7b",
   "metadata": {},
   "outputs": [
    {
     "data": {
      "text/plain": [
       "3"
      ]
     },
     "execution_count": 25,
     "metadata": {},
     "output_type": "execute_result"
    }
   ],
   "source": [
    "next(gen)"
   ]
  },
  {
   "cell_type": "code",
   "execution_count": 29,
   "id": "afc56de8",
   "metadata": {},
   "outputs": [
    {
     "name": "stdout",
     "output_type": "stream",
     "text": [
      "1\n",
      "2\n",
      "3\n"
     ]
    }
   ],
   "source": [
    "for val in gen:\n",
    "    print (val)"
   ]
  },
  {
   "cell_type": "code",
   "execution_count": 30,
   "id": "1786fd84",
   "metadata": {},
   "outputs": [
    {
     "name": "stdout",
     "output_type": "stream",
     "text": [
      "1\n",
      "2\n",
      "3\n",
      "4\n",
      "5\n"
     ]
    }
   ],
   "source": [
    "## Example- Infinte sequence generation:\n",
    "\n",
    "def count_up():\n",
    "    num=1\n",
    "    while True:\n",
    "        yield num\n",
    "        num+=1\n",
    "\n",
    "counter=count_up()\n",
    "for i in range(5):\n",
    "    print(next(counter))"
   ]
  },
  {
   "cell_type": "markdown",
   "id": "cdb6620d",
   "metadata": {},
   "source": [
    "Practical example: Reading large files.\n",
    "Generators are particularly useful for reading large files because they allow you to process one line at a time without loading the entire file into memory."
   ]
  },
  {
   "cell_type": "code",
   "execution_count": 31,
   "id": "5b8b8e4d",
   "metadata": {},
   "outputs": [],
   "source": [
    "def read_large_file(file_path):\n",
    "    with open(file_path, 'r') as file:\n",
    "        for line in file:\n",
    "            yield line"
   ]
  },
  {
   "cell_type": "code",
   "execution_count": 32,
   "id": "0fc4d459",
   "metadata": {},
   "outputs": [
    {
     "name": "stdout",
     "output_type": "stream",
     "text": [
      "# Quantum Field Theory and the Vedas: A Comparative Exploration of Reality, Consciousness, and the Fabric of the Universe\n",
      "\n",
      "---\n",
      "\n",
      "## Abstract\n",
      "\n",
      "Quantum Field Theory (QFT), the modern framework for understanding particle physics and fundamental forces, presents a universe of dynamic energy fields, uncertainty, and entanglement. Ancient Indian Vedic philosophy, rooted in introspective insights from the Vedas and Upanishads, offers a metaphysical view of reality, unity, and consciousness. This paper aims to explore conceptual resonances between QFT and the Vedic worldview—not to equate them, but to provide a comparative lens through which both scientific and philosophical paradigms enrich our understanding of the cosmos and consciousness. We investigate themes such as the unity of existence, the observer's role, and the interplay between emptiness and form.\n",
      "\n",
      "---\n",
      "\n",
      "## 1. Introduction\n",
      "\n",
      "Quantum Field Theory (QFT) is the bedrock of modern physics, unifying special relativity and quantum mechanics to describe the behavior of particles and fields at subatomic levels. Parallelly, the Vedas—ancient Sanskrit texts composed around 1500–500 BCE—offer profound philosophical reflections on the nature of reality (Brahman), consciousness (Atman), and existence.\n",
      "\n",
      "This paper attempts to explore points of convergence and divergence between QFT and Vedic metaphysics. The aim is not to conflate science with spirituality but to demonstrate that ancient philosophy and modern physics, while arising from distinct methodologies, may both hint at deeper layers of reality.\n",
      "\n",
      "---\n",
      "\n",
      "## 2. Foundations of Quantum Field Theory\n",
      "\n",
      "QFT posits that all particles are excitations of underlying quantum fields. These fields exist throughout space and time, with particles being temporary manifestations. The vacuum state in QFT is not empty but filled with fluctuations, virtual particles, and potentiality.\n",
      "\n",
      "Key features of QFT:\n",
      "\n",
      "* **Field-based ontology**: Reality is made of fields, not particles.\n",
      "* **Quantum vacuum**: The ground state contains dynamic energy.\n",
      "* **Uncertainty and non-locality**: Reality is probabilistic, and phenomena like entanglement defy classical causality.\n",
      "* **Observer effect**: Measurement plays a role in determining physical outcomes.\n",
      "\n",
      "---\n",
      "\n",
      "## 3. Vedic Ontology: Brahman and Atman\n",
      "\n",
      "The **Vedas** and **Upanishads** describe a unified field of reality called **Brahman**—the infinite, changeless, formless source of all that exists. The individual self (**Atman**) is considered non-different from Brahman, as expressed in the famous Mahāvākya:\n",
      "\n",
      "> “Tat Tvam Asi” – *Thou art That.*\n",
      "\n",
      "Key Vedic ideas:\n",
      "\n",
      "* **Non-dualism (Advaita)**: Reality is one; separation is illusion (*Maya*).\n",
      "* **Consciousness as fundamental**: Unlike materialist science, the Vedas place consciousness at the center.\n",
      "* **Cyclic universe**: Time and reality undergo cycles of creation, sustenance, and dissolution.\n",
      "\n",
      "---\n",
      "\n",
      "## 4. Comparative Themes\n",
      "\n",
      "### 4.1 Unity of Existence\n",
      "\n",
      "* **QFT**: Everything arises from quantum fields. Despite appearing discrete, particles are expressions of a continuous field.\n",
      "* **Vedas**: All forms are manifestations of Brahman, the unified field of existence.\n",
      "\n",
      "> Parallel: Both suggest a **non-dual** substrate beneath apparent multiplicity.\n",
      "\n",
      "---\n",
      "\n",
      "### 4.2 The Vacuum and Shunyata\n",
      "\n",
      "* **QFT vacuum**: Not empty; it's a seething ocean of potentialities.\n",
      "* **Vedantic “Akasha”**: Often interpreted as the subtle ether or field underlying matter. In **Buddhist-Vedic synthesis**, *Shunyata* (emptiness) is fullness in potential.\n",
      "\n",
      "> Resonance: “Emptiness” in both systems is not nothingness but potentiality.\n",
      "\n",
      "---\n",
      "\n",
      "### 4.3 The Role of the Observer\n",
      "\n",
      "* **Quantum mechanics/QFT**: The act of observation collapses wavefunctions; measurement impacts outcomes.\n",
      "* **Vedic view**: Consciousness is not just an observer—it is the ground of all being. Reality is **reflected** through the observer.\n",
      "\n",
      "> Insight: Both traditions acknowledge that **observation/awareness shapes reality**.\n",
      "\n",
      "---\n",
      "\n",
      "### 4.4 Duality and Complementarity\n",
      "\n",
      "* **Wave-particle duality in QFT**: Particles behave like waves and particles depending on context.\n",
      "* **Vedantic pairs**: Maya (illusion) and Brahman (reality) coexist; both duality and non-duality are perceived depending on the level of awareness.\n",
      "\n",
      "> Comparison: Reality is **contextual**, dependent on the observer’s level—scientific or spiritual.\n",
      "\n",
      "---\n",
      "\n",
      "## 5. Divergences\n",
      "\n",
      "While there are thematic overlaps, fundamental differences remain:\n",
      "\n",
      "| Topic             | Quantum Field Theory       | Vedic Philosophy            |\n",
      "| ----------------- | -------------------------- | --------------------------- |\n",
      "| Methodology       | Empirical, mathematical    | Introspective, experiential |\n",
      "| Ontology          | Matter/energy-based        | Consciousness-based         |\n",
      "| Goal              | Description & prediction   | Liberation (*Moksha*)       |\n",
      "| Nature of reality | Probabilistic but physical | Metaphysical, transcendent  |\n",
      "\n",
      "---\n",
      "\n",
      "## 6. Philosophical Implications\n",
      "\n",
      "* **Interdisciplinary resonance**: Bridging QFT and Vedanta encourages a more holistic approach to understanding reality—where empirical knowledge and inner insight can complement rather than contradict.\n",
      "* **Relevance to consciousness studies**: As science approaches the \"hard problem of consciousness\", ancient Vedantic models may offer valuable conceptual tools.\n",
      "* **Ethics and responsibility**: Vedic teachings emphasize harmony with nature and self, potentially grounding scientific advancement in ethical awareness.\n",
      "\n",
      "---\n",
      "\n",
      "## 7. Conclusion\n",
      "\n",
      "Quantum Field Theory and the Vedas, though worlds apart in time and method, both challenge surface-level understandings of reality. One via the language of mathematics and experimentation, the other through inner experience and metaphysical exploration. This convergence at the frontiers of thought invites a more unified inquiry—one that transcends the artificial boundary between science and spirituality.\n",
      "\n",
      "As the physicist Erwin Schrödinger, deeply influenced by Vedanta, wrote:\n",
      "\n",
      "> “There is obviously only one alternative, namely the unification of minds or consciousnesses. … In truth, there is only one mind.”\n",
      "\n",
      "---\n",
      "\n",
      "## References\n",
      "\n",
      "1. Peskin, M. E., & Schroeder, D. V. (1995). *An Introduction to Quantum Field Theory*.\n",
      "2. Swami Nikhilananda. (1949). *The Upanishads*.\n",
      "3. Fritjof Capra. (1975). *The Tao of Physics*.\n",
      "4. Schrödinger, E. (1958). *My View of the World*.\n",
      "5. Radhakrishnan, S. (1953). *The Principal Upanishads*.\n",
      "6. Heisenberg, W. (1971). *Physics and Beyond: Encounters and Conversations*.\n",
      "7. Goswami, A. (1993). *The Self-Aware Universe*.\n",
      "\n",
      "---\n"
     ]
    }
   ],
   "source": [
    "file_path='QFTandVedas.txt'\n",
    "for line in read_large_file(file_path):\n",
    "    print(line.strip())"
   ]
  },
  {
   "cell_type": "markdown",
   "id": "b519dacc",
   "metadata": {},
   "source": [
    "'''When read_large_file(file_path) is called, it does not execute fully.\n",
    "\n",
    "Instead, it returns a generator object — \n",
    "a lazy iterator that starts producing lines only when needed in the for loop.\n",
    "\n",
    ".strip() removes leading/trailing whitespace and newline characters (\\n) from each line.\n",
    "\n",
    "This ensures clean output without double spacing or extra line breaks.'''"
   ]
  }
 ],
 "metadata": {
  "kernelspec": {
   "display_name": "Python 3",
   "language": "python",
   "name": "python3"
  },
  "language_info": {
   "codemirror_mode": {
    "name": "ipython",
    "version": 3
   },
   "file_extension": ".py",
   "mimetype": "text/x-python",
   "name": "python",
   "nbconvert_exporter": "python",
   "pygments_lexer": "ipython3",
   "version": "3.12.0"
  }
 },
 "nbformat": 4,
 "nbformat_minor": 5
}
