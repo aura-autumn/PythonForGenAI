{
 "cells": [
  {
   "cell_type": "markdown",
   "id": "31e1be03",
   "metadata": {},
   "source": [
    "##### Iterators in Python:\n",
    "\n",
    "Iterators allow for efficient looping and memory management. Iterators provide a way to access elements of a collection sequentially without exposing the underlying structure:"
   ]
  },
  {
   "cell_type": "code",
   "execution_count": 3,
   "id": "57f2823d",
   "metadata": {},
   "outputs": [
    {
     "name": "stdout",
     "output_type": "stream",
     "text": [
      "1\n",
      "2\n",
      "3\n",
      "4\n",
      "5\n",
      "6\n",
      "<class 'list'>\n",
      "[1, 2, 3, 4, 5, 6]\n"
     ]
    }
   ],
   "source": [
    "my_list=[1,2,3,4,5,6]\n",
    "for i in my_list:\n",
    "    print(i)\n",
    "\n",
    "print(type(my_list))\n",
    "print(my_list)"
   ]
  },
  {
   "cell_type": "code",
   "execution_count": 4,
   "id": "cc94633e",
   "metadata": {},
   "outputs": [
    {
     "name": "stdout",
     "output_type": "stream",
     "text": [
      "<class 'list_iterator'>\n"
     ]
    }
   ],
   "source": [
    "##Creating an iterator:\n",
    "iterator=iter(my_list)\n",
    "print(type(iterator))"
   ]
  },
  {
   "cell_type": "code",
   "execution_count": 6,
   "id": "65ebdf82",
   "metadata": {},
   "outputs": [
    {
     "name": "stdout",
     "output_type": "stream",
     "text": [
      "<list_iterator object at 0x0000020FBD1ED210>\n"
     ]
    }
   ],
   "source": [
    "print(iterator) ##elements inside my_list are now hidden"
   ]
  },
  {
   "cell_type": "code",
   "execution_count": null,
   "id": "7cb600f1",
   "metadata": {},
   "outputs": [
    {
     "data": {
      "text/plain": [
       "3"
      ]
     },
     "execution_count": 8,
     "metadata": {},
     "output_type": "execute_result"
    }
   ],
   "source": [
    "##Iterators use lazy loading technique. Thus, won't show any items unless we iterate on the items.\n",
    "##To iterate through all the elements:\n",
    "\n",
    "next(iterator) ##one element is displayed at each run-lazy loading"
   ]
  },
  {
   "cell_type": "code",
   "execution_count": 20,
   "id": "7023f06c",
   "metadata": {},
   "outputs": [],
   "source": [
    "iterator=iter(my_list)"
   ]
  },
  {
   "cell_type": "code",
   "execution_count": 27,
   "id": "aedb38e8",
   "metadata": {},
   "outputs": [
    {
     "name": "stdout",
     "output_type": "stream",
     "text": [
      "End of list!\n"
     ]
    }
   ],
   "source": [
    "try:\n",
    "    print(next(iterator))\n",
    "except StopIteration:\n",
    "    print(\"End of list!\")"
   ]
  },
  {
   "cell_type": "code",
   "execution_count": 37,
   "id": "2f057aa5",
   "metadata": {},
   "outputs": [],
   "source": [
    "##String iterator:\n",
    "my_string='Rays'\n",
    "string_iterator=iter(my_string)"
   ]
  },
  {
   "cell_type": "code",
   "execution_count": 38,
   "id": "2dd91599",
   "metadata": {},
   "outputs": [
    {
     "name": "stdout",
     "output_type": "stream",
     "text": [
      "R\n",
      "a\n",
      "y\n",
      "s\n",
      "End of string!\n"
     ]
    }
   ],
   "source": [
    "try:\n",
    "    print(next(string_iterator))\n",
    "    print(next(string_iterator))\n",
    "    print(next(string_iterator))\n",
    "    print(next(string_iterator))\n",
    "    print(next(string_iterator))\n",
    "except StopIteration:\n",
    "    print(\"End of string!\")"
   ]
  }
 ],
 "metadata": {
  "kernelspec": {
   "display_name": "Python 3",
   "language": "python",
   "name": "python3"
  },
  "language_info": {
   "codemirror_mode": {
    "name": "ipython",
    "version": 3
   },
   "file_extension": ".py",
   "mimetype": "text/x-python",
   "name": "python",
   "nbconvert_exporter": "python",
   "pygments_lexer": "ipython3",
   "version": "3.12.0"
  }
 },
 "nbformat": 4,
 "nbformat_minor": 5
}
