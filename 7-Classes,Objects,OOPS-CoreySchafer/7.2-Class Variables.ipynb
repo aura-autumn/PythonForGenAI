{
 "cells": [
  {
   "cell_type": "markdown",
   "id": "899a8866",
   "metadata": {},
   "source": [
    "##### Class Variables:"
   ]
  },
  {
   "cell_type": "markdown",
   "id": "6ed76814",
   "metadata": {},
   "source": [
    "Class variables are variables that are shared among all instances of a class. So, while instance variables can be unique for each instance of the class, class variables should be the same for each instance. "
   ]
  },
  {
   "cell_type": "code",
   "execution_count": 20,
   "id": "f96714bd",
   "metadata": {},
   "outputs": [
    {
     "name": "stdout",
     "output_type": "stream",
     "text": [
      "1000000\n",
      "1100000\n"
     ]
    }
   ],
   "source": [
    "## A class variable that can be shared among all the employee of the Employee class can be annual raises. \n",
    "## We are assuming the amount of raise is the same for all employees.\n",
    "\n",
    "## Creating a method apply_raise and then hardcoding in the riase.\n",
    "class Employee:\n",
    "    def __init__(self, first, last, pay):\n",
    "        self.first=first\n",
    "        self.last=last\n",
    "        self.pay=pay\n",
    "        self.email=first + 's' + '@python.com'\n",
    "    def fullname(self):\n",
    "        return \"{} {}\".format(self.first, self.last)\n",
    "    def apply_raise(self):\n",
    "        self.pay=int(self.pay * 1.10)  ##Giving 10% raises\n",
    "\n",
    "emp1=Employee('Ray','Sunshine',1000000)\n",
    "emp2=Employee('Vik','Torque',120000)\n",
    "\n",
    "print(emp1.pay)\n",
    "emp1.apply_raise()\n",
    "print(emp1.pay)"
   ]
  },
  {
   "cell_type": "markdown",
   "id": "3fd02c98",
   "metadata": {},
   "source": [
    "Now, we want to access the raise easily and not have to change this in each method throughout the class. We might even want to print the variable itself. Or, maybe tinker with the raise amount at some point. So, for practical use cases, we want to keep raise percentage as a class variable.\n",
    "\n",
    "To access these class variables in any method of the class or anywhere else, we need to access them through the class itself or an instance of the class. We cannot access them by just calling them with their name like:\n",
    "def apply_raise(self):\n",
    "        self.pay=int(self.pay * raise_amount)  "
   ]
  },
  {
   "cell_type": "code",
   "execution_count": 21,
   "id": "8258b430",
   "metadata": {},
   "outputs": [],
   "source": [
    "class Employee:\n",
    "    raise_amount=1.1\n",
    "    def __init__(self, first, last, pay):\n",
    "        self.first=first\n",
    "        self.last=last\n",
    "        self.pay=pay\n",
    "        self.email=first + 's' + '@python.com'\n",
    "    def fullname(self):\n",
    "        return \"{} {}\".format(self.first, self.last)\n",
    "    def apply_raise(self):\n",
    "        self.pay=int(self.pay * Employee.raise_amount)  ##Could also write self.raise_amount"
   ]
  },
  {
   "cell_type": "code",
   "execution_count": 22,
   "id": "434d5c93",
   "metadata": {},
   "outputs": [
    {
     "name": "stdout",
     "output_type": "stream",
     "text": [
      "1.1\n",
      "1.1\n",
      "1.1\n"
     ]
    }
   ],
   "source": [
    "emp1=Employee('Ray','Sunshine',1000000)\n",
    "emp2=Employee('Vik','Torque',120000)\n",
    "\n",
    "print(emp1.raise_amount)\n",
    "print(Employee.raise_amount)\n",
    "print(emp2.raise_amount)"
   ]
  },
  {
   "cell_type": "markdown",
   "id": "26c8e768",
   "metadata": {},
   "source": [
    "When we try to access an attribute on an instance, it first checks if that instance contains that attribute(like pay, first, last, email). If it doesn't, then it checks if that class or any class the instance inherits from contains that attribute(like full name or raise amount)."
   ]
  },
  {
   "cell_type": "code",
   "execution_count": 23,
   "id": "e59b5688",
   "metadata": {},
   "outputs": [
    {
     "name": "stdout",
     "output_type": "stream",
     "text": [
      "{'first': 'Ray', 'last': 'Sunshine', 'pay': 1000000, 'email': 'Rays@python.com'}\n",
      "{'__module__': '__main__', 'raise_amount': 1.1, '__init__': <function Employee.__init__ at 0x0000027A26BCF1A0>, 'fullname': <function Employee.fullname at 0x0000027A26BCD4E0>, 'apply_raise': <function Employee.apply_raise at 0x0000027A26BCDEE0>, '__dict__': <attribute '__dict__' of 'Employee' objects>, '__weakref__': <attribute '__weakref__' of 'Employee' objects>, '__doc__': None}\n"
     ]
    }
   ],
   "source": [
    "##Printing out the namespace of an instance and a class:\n",
    "\n",
    "print(emp1.__dict__)\n",
    "print(Employee.__dict__)"
   ]
  },
  {
   "cell_type": "markdown",
   "id": "e132e9a1",
   "metadata": {},
   "source": [
    "As we can see, the raise amount attribute is related to the class and not the object or instance. Thus, the above logic holds true. The system checks for the attribute in the instance, if not found, then goes to the class attributes to find it."
   ]
  },
  {
   "cell_type": "code",
   "execution_count": 24,
   "id": "911aabdf",
   "metadata": {},
   "outputs": [
    {
     "name": "stdout",
     "output_type": "stream",
     "text": [
      "1.2\n",
      "1.2\n",
      "1.2\n"
     ]
    }
   ],
   "source": [
    "##Changing class variable value using the class:\n",
    "Employee.raise_amount = 1.20\n",
    "\n",
    "print(emp1.raise_amount)\n",
    "print(Employee.raise_amount)\n",
    "print(emp2.raise_amount)"
   ]
  },
  {
   "cell_type": "code",
   "execution_count": 25,
   "id": "103c1152",
   "metadata": {},
   "outputs": [
    {
     "name": "stdout",
     "output_type": "stream",
     "text": [
      "1.25\n",
      "1.2\n",
      "1.2\n"
     ]
    }
   ],
   "source": [
    "##Changing the class variable value using an instance:\n",
    "emp1.raise_amount=1.25\n",
    "\n",
    "print(emp1.raise_amount)\n",
    "print(Employee.raise_amount)\n",
    "print(emp2.raise_amount)"
   ]
  },
  {
   "cell_type": "markdown",
   "id": "4f5187fd",
   "metadata": {},
   "source": [
    "When accessing the variable through the class, the value changed for each instance and the class itself. But, when changing by accessing through an instance, the value only changed for that instance. This happens because when we made this assignment of value to raise_amount using emp1, the system created an attribute raise_amount within emp1 and stored the value there instead of changing it for everyone in the class(which makes sense). We can see this below when printing the namespaces again. \n",
    "\n",
    "What is happening is that when we access raise_amount through the instance emp1 now, the system (as foretold) checks the instance attributes and finds the value for it there, and thus does not go to the class attribute to get the old value. However, for emp2, that is still the case."
   ]
  },
  {
   "cell_type": "code",
   "execution_count": 26,
   "id": "cd6b0eb2",
   "metadata": {},
   "outputs": [
    {
     "name": "stdout",
     "output_type": "stream",
     "text": [
      "{'first': 'Ray', 'last': 'Sunshine', 'pay': 1000000, 'email': 'Rays@python.com', 'raise_amount': 1.25}\n",
      "{'first': 'Vik', 'last': 'Torque', 'pay': 120000, 'email': 'Viks@python.com'}\n",
      "{'__module__': '__main__', 'raise_amount': 1.2, '__init__': <function Employee.__init__ at 0x0000027A26BCF1A0>, 'fullname': <function Employee.fullname at 0x0000027A26BCD4E0>, 'apply_raise': <function Employee.apply_raise at 0x0000027A26BCDEE0>, '__dict__': <attribute '__dict__' of 'Employee' objects>, '__weakref__': <attribute '__weakref__' of 'Employee' objects>, '__doc__': None}\n"
     ]
    }
   ],
   "source": [
    "print(emp1.__dict__)\n",
    "print(emp2.__dict__)\n",
    "print(Employee.__dict__)"
   ]
  },
  {
   "cell_type": "markdown",
   "id": "7d70ad18",
   "metadata": {},
   "source": [
    "Now, in our original code:\n",
    "\n",
    "self.pay=int(self.pay * Employee.raise_amount)  ##Could also write self.raise_amount\n",
    "\n",
    "We wrote this logic for applying raise. But the problem here is that when we call emp1.apply_raise, the raise applied will then be of the class variable value raise and not the attribute value of emp1 itself. Thus, in this case, it is best to write self.raise_amount. This will also help in future when we go on to create sub classes and want different raise_amounts applied to different sub classes and still be able to use apply_raise function."
   ]
  },
  {
   "cell_type": "code",
   "execution_count": 27,
   "id": "7a2300cb",
   "metadata": {},
   "outputs": [],
   "source": [
    "##Creating a function to keep track of the number of employees.\n",
    "##This value will not change per instance or per sub class.\n",
    "\n",
    "class Employee:\n",
    "    num_of_emps=0\n",
    "    raise_amount=1.1\n",
    "    def __init__(self, first, last, pay):\n",
    "        self.first=first\n",
    "        self.last=last\n",
    "        self.pay=pay\n",
    "        self.email=first + 's' + '@python.com'\n",
    "        ##init runs each time we create a new instance, this counter is kept here.\n",
    "        ##Also, accessing this through the class and not the instance.\n",
    "        Employee.num_of_emps+=1  \n",
    "    def fullname(self):\n",
    "        return \"{} {}\".format(self.first, self.last)\n",
    "    def apply_raise(self):\n",
    "        self.pay=int(self.pay * self.raise_amount)"
   ]
  },
  {
   "cell_type": "code",
   "execution_count": 28,
   "id": "d49e6f12",
   "metadata": {},
   "outputs": [
    {
     "name": "stdout",
     "output_type": "stream",
     "text": [
      "0\n"
     ]
    }
   ],
   "source": [
    "print(Employee.num_of_emps)"
   ]
  },
  {
   "cell_type": "code",
   "execution_count": 29,
   "id": "7773be94",
   "metadata": {},
   "outputs": [],
   "source": [
    "emp1=Employee('Ray','Sunshine',1000000)\n",
    "emp2=Employee('Vik','Torque',120000)"
   ]
  },
  {
   "cell_type": "code",
   "execution_count": 30,
   "id": "bf2db045",
   "metadata": {},
   "outputs": [
    {
     "name": "stdout",
     "output_type": "stream",
     "text": [
      "2\n"
     ]
    }
   ],
   "source": [
    "print(Employee.num_of_emps)"
   ]
  }
 ],
 "metadata": {
  "kernelspec": {
   "display_name": "Python 3",
   "language": "python",
   "name": "python3"
  },
  "language_info": {
   "codemirror_mode": {
    "name": "ipython",
    "version": 3
   },
   "file_extension": ".py",
   "mimetype": "text/x-python",
   "name": "python",
   "nbconvert_exporter": "python",
   "pygments_lexer": "ipython3",
   "version": "3.12.0"
  }
 },
 "nbformat": 4,
 "nbformat_minor": 5
}
