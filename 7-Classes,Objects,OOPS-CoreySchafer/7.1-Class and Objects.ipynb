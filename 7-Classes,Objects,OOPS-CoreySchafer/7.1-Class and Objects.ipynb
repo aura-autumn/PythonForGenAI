{
 "cells": [
  {
   "cell_type": "markdown",
   "id": "3f0c3812",
   "metadata": {},
   "source": [
    "##### Classes and Objects in Python:"
   ]
  },
  {
   "cell_type": "code",
   "execution_count": 1,
   "id": "91007a90",
   "metadata": {},
   "outputs": [
    {
     "name": "stdout",
     "output_type": "stream",
     "text": [
      "<__main__.Employee object at 0x0000025410CCEDE0>\n",
      "<__main__.Employee object at 0x0000025410CCEA80>\n"
     ]
    }
   ],
   "source": [
    "##Creating a simple class for Employees in a company:\n",
    "\n",
    "class Employee: ##A buleprint for creating instances\n",
    "    pass\n",
    "emp1=Employee() ##Instance of the class employee\n",
    "emp2=Employee() ##Another instance of the class employee\n",
    "\n",
    "print(emp1)\n",
    "print(emp2)"
   ]
  },
  {
   "cell_type": "markdown",
   "id": "ba736c7f",
   "metadata": {},
   "source": [
    "Instance Variables- Contain data that is unique to each instance (or in this case, each employee). We can manually create these instances like below:"
   ]
  },
  {
   "cell_type": "code",
   "execution_count": 2,
   "id": "59a9c6df",
   "metadata": {},
   "outputs": [
    {
     "name": "stdout",
     "output_type": "stream",
     "text": [
      "rays@python.com\n",
      "viks@python.com\n"
     ]
    }
   ],
   "source": [
    "emp1.first='Ray'\n",
    "emp1.last='Sunshine'\n",
    "emp1.email='rays@python.com'\n",
    "emp1.pay=1000000\n",
    "\n",
    "emp2.first='Vik'\n",
    "emp2.last='Torque'\n",
    "emp2.email='viks@python.com'\n",
    "emp2.pay=1200000\n",
    "\n",
    "print(emp1.email)\n",
    "print(emp2.email)"
   ]
  },
  {
   "cell_type": "markdown",
   "id": "6880b9df",
   "metadata": {},
   "source": [
    "Now, we want to set all of these values for each employee when they are created, rather than doing it manually like above. To use the full benefits of classes, we set up the data automatically when we create the employee. For this, we use a special --init-- method. It is like initializing a class. When we create methods within a class, they receive the instance as the first argument automatically. By convention, we call this instance 'self'. (We can replace 'self' with anything else we want but that won't be conventional ofcourse.) After self, we can specify what other arguments we want to accept. Then, we can set all these instance variables. (self.first=first etc.) Then, when we create instances of the class like emp1, emp2 etc, the data will automatically initialize to the correct variables. We won't need to do it for each employee and each variable each time. \n",
    "\n",
    "Note- When we create the object, the instance is passed automatically (self) and hence not to be specified when calling."
   ]
  },
  {
   "cell_type": "code",
   "execution_count": 4,
   "id": "26374f4a",
   "metadata": {},
   "outputs": [
    {
     "name": "stdout",
     "output_type": "stream",
     "text": [
      "Rays@python.com\n",
      "Viks@python.com\n"
     ]
    }
   ],
   "source": [
    "class Employee:\n",
    "    def __init__(self, first, last, pay):   ##first, last, pay are all attributes of our class.\n",
    "        self.first=first\n",
    "        self.last=last\n",
    "        self.pay=pay\n",
    "        self.email=first + 's' + '@python.com'\n",
    "\n",
    "##Pass the arguments in order: \n",
    "emp1=Employee('Ray','Sunshine', 1000000)\n",
    "emp2=Employee('Vik','Torque', 120000)\n",
    "\n",
    "print(emp1.email)\n",
    "print(emp2.email)"
   ]
  },
  {
   "cell_type": "code",
   "execution_count": 5,
   "id": "507ccc21",
   "metadata": {},
   "outputs": [
    {
     "name": "stdout",
     "output_type": "stream",
     "text": [
      "Ray Sunshine\n"
     ]
    }
   ],
   "source": [
    "##Now in order to perform certain actions, we can create more methods in this class.\n",
    "\n",
    "##Getting first name manually:\n",
    "\n",
    "print(\"{} {}\".format(emp1.first, emp1.last))"
   ]
  },
  {
   "cell_type": "code",
   "execution_count": 10,
   "id": "5b758ef7",
   "metadata": {},
   "outputs": [
    {
     "name": "stdout",
     "output_type": "stream",
     "text": [
      "Ray Sunshine\n",
      "Vik Torque\n",
      "Ray Sunshine\n"
     ]
    }
   ],
   "source": [
    "##Creating a method within our class to display full name. \n",
    "# Each method automatically takes the instance as the first argument:\n",
    "\n",
    "class Employee:\n",
    "    def __init__(self, first, last, pay):\n",
    "        self.first=first\n",
    "        self.last=last\n",
    "        self.pay=pay\n",
    "        self.email=first + 's' + '@python.com'\n",
    "    \n",
    "    def fullname(self): ##If we don't pass self as an attribute, it'll give an error that no positional arguments are taken by fullname.\n",
    "        return \"{} {}\".format(self.first, self.last)\n",
    "\n",
    "##Pass the arguments in order: \n",
    "emp1=Employee('Ray','Sunshine', 1000000)\n",
    "emp2=Employee('Vik','Torque', 120000)\n",
    "\n",
    "print(emp1.fullname())\n",
    "print(emp2.fullname())\n",
    "\n",
    "##Can also run these methods using the class name itself:\n",
    "print(Employee.fullname(emp1))"
   ]
  }
 ],
 "metadata": {
  "kernelspec": {
   "display_name": "Python 3",
   "language": "python",
   "name": "python3"
  },
  "language_info": {
   "codemirror_mode": {
    "name": "ipython",
    "version": 3
   },
   "file_extension": ".py",
   "mimetype": "text/x-python",
   "name": "python",
   "nbconvert_exporter": "python",
   "pygments_lexer": "ipython3",
   "version": "3.12.0"
  }
 },
 "nbformat": 4,
 "nbformat_minor": 5
}
