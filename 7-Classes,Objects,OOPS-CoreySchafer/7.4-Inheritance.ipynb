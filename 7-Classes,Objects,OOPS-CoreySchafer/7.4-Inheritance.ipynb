{
 "cells": [
  {
   "cell_type": "markdown",
   "id": "8788449e",
   "metadata": {},
   "source": [
    "##### Inheritance in Python\n",
    "\n",
    "Inheritance allows us to inherit methods and attributes from a parent class.\n",
    "This is useful if we want to inherit certain properties of parent class and then overwrite them without affecting the parent class functionalities."
   ]
  },
  {
   "cell_type": "code",
   "execution_count": 9,
   "id": "a171f47a",
   "metadata": {},
   "outputs": [],
   "source": [
    "##Refering back to the same Employee class in this module:\n",
    "# This time, we want to modify our code to create different types of employees:\n",
    "\n",
    "class Employee:\n",
    "    raise_amount=1.1\n",
    "    def __init__(self, first, last, pay):\n",
    "        self.first=first\n",
    "        self.last=last\n",
    "        self.pay=pay\n",
    "        self.email=first+'s'+'@python.com'\n",
    "    def fullname(self):\n",
    "        return '{} {}'.format(self.first, self.last)\n",
    "    def apply_raise(self):\n",
    "        self.pay=int(self.pay * self.raise_amount)\n",
    "    \n",
    "##Now we want to inherit Employee class to create two types of employees- MLEngineers and MLResearchers\n",
    "##Syntax: class class_name(Parent_class_name):\n",
    "\n",
    "class mlengineer(Employee):\n",
    "    pass\n",
    "\n",
    "class mlresearcher(Employee):\n",
    "    pass"
   ]
  },
  {
   "cell_type": "code",
   "execution_count": 10,
   "id": "56ecd9c7",
   "metadata": {},
   "outputs": [
    {
     "name": "stdout",
     "output_type": "stream",
     "text": [
      "Viks@python.com\n",
      "Ping Chang\n"
     ]
    }
   ],
   "source": [
    "mleng1=mlengineer('Vik','Torque',1000)\n",
    "mleng2=mlengineer('Ping','Chang',980)\n",
    "\n",
    "print(mleng1.email)\n",
    "print(mleng2.fullname())\n",
    "\n",
    "##We have inherited all the attributes and methods of the parent class."
   ]
  },
  {
   "cell_type": "markdown",
   "id": "e1a62d68",
   "metadata": {},
   "source": [
    "When we initiated mleng1 and mleng2 using mlengineer, the code first goes to mlengineer class to find the init method.\n",
    "Then, python walks up the chain of inheritance until it finds what it is looking for, i.e. the init class.\n",
    "This chain is called the method resolution order.\n",
    "\n",
    "Use help(inherited class name) to find the method resolution order and all the information related to the class.\n",
    "\n",
    "As you can see below, the last item in the order is buitins.object or the object class. Every class in python inherits from the base object class."
   ]
  },
  {
   "cell_type": "code",
   "execution_count": 5,
   "id": "3dc07484",
   "metadata": {},
   "outputs": [
    {
     "name": "stdout",
     "output_type": "stream",
     "text": [
      "Help on class mlengineer in module __main__:\n",
      "\n",
      "class mlengineer(Employee)\n",
      " |  mlengineer(first, last, pay)\n",
      " |\n",
      " |  Method resolution order:\n",
      " |      mlengineer\n",
      " |      Employee\n",
      " |      builtins.object\n",
      " |\n",
      " |  Methods inherited from Employee:\n",
      " |\n",
      " |  __init__(self, first, last, pay)\n",
      " |      Initialize self.  See help(type(self)) for accurate signature.\n",
      " |\n",
      " |  apply_raise(self)\n",
      " |\n",
      " |  fullname(self)\n",
      " |\n",
      " |  ----------------------------------------------------------------------\n",
      " |  Data descriptors inherited from Employee:\n",
      " |\n",
      " |  __dict__\n",
      " |      dictionary for instance variables (if defined)\n",
      " |\n",
      " |  __weakref__\n",
      " |      list of weak references to the object (if defined)\n",
      " |\n",
      " |  ----------------------------------------------------------------------\n",
      " |  Data and other attributes inherited from Employee:\n",
      " |\n",
      " |  raise_amount = 1.1\n",
      "\n",
      "None\n"
     ]
    }
   ],
   "source": [
    "print(help(mlengineer))"
   ]
  },
  {
   "cell_type": "code",
   "execution_count": 12,
   "id": "3e3fce87",
   "metadata": {},
   "outputs": [
    {
     "name": "stdout",
     "output_type": "stream",
     "text": [
      "1000\n",
      "1100\n"
     ]
    }
   ],
   "source": [
    "## Applying raise to an employee:\n",
    "\n",
    "print(mleng1.pay)\n",
    "mleng1.apply_raise()\n",
    "print(mleng1.pay)"
   ]
  },
  {
   "cell_type": "code",
   "execution_count": 13,
   "id": "8f37bb4f",
   "metadata": {},
   "outputs": [],
   "source": [
    "##Modifying our subclasses to give differnt raises to different job roles:\n",
    "class Employee:\n",
    "    raise_amount=1.1\n",
    "    def __init__(self, first, last, pay):\n",
    "        self.first=first\n",
    "        self.last=last\n",
    "        self.pay=pay\n",
    "        self.email=first+'s'+'@python.com'\n",
    "    def fullname(self):\n",
    "        return '{} {}'.format(self.first, self.last)\n",
    "    def apply_raise(self):\n",
    "        self.pay=int(self.pay * self.raise_amount)\n",
    "    \n",
    "class mlengineer(Employee):\n",
    "    raise_amount=1.15\n",
    "\n",
    "class mlresearcher(Employee):\n",
    "    raise_amount=1.12"
   ]
  },
  {
   "cell_type": "code",
   "execution_count": 14,
   "id": "8cab888c",
   "metadata": {},
   "outputs": [
    {
     "name": "stdout",
     "output_type": "stream",
     "text": [
      "1.15\n",
      "1.12\n",
      "1.1\n"
     ]
    }
   ],
   "source": [
    "mleng1=mlengineer('Vik','Torque',1000)\n",
    "mleng2=mlengineer('Ping','Chang',980)\n",
    "\n",
    "mlres1=mlresearcher('Ray','Sunshine',1000)\n",
    "mlres2=mlresearcher('Steve','Brunton',2000)\n",
    "\n",
    "print(mleng1.raise_amount)\n",
    "print(mlres1.raise_amount)\n",
    "print(Employee.raise_amount)"
   ]
  },
  {
   "cell_type": "code",
   "execution_count": 15,
   "id": "ea0f3798",
   "metadata": {},
   "outputs": [
    {
     "name": "stdout",
     "output_type": "stream",
     "text": [
      "1000\n",
      "1150\n"
     ]
    }
   ],
   "source": [
    "print(mleng1.pay)\n",
    "mleng1.apply_raise()\n",
    "print(mleng1.pay)"
   ]
  },
  {
   "cell_type": "code",
   "execution_count": 16,
   "id": "36e05abe",
   "metadata": {},
   "outputs": [
    {
     "name": "stdout",
     "output_type": "stream",
     "text": [
      "1000\n",
      "1120\n"
     ]
    }
   ],
   "source": [
    "print(mlres1.pay)\n",
    "mlres1.apply_raise()\n",
    "print(mlres1.pay)"
   ]
  },
  {
   "cell_type": "code",
   "execution_count": 17,
   "id": "116a1182",
   "metadata": {},
   "outputs": [
    {
     "name": "stdout",
     "output_type": "stream",
     "text": [
      "2000\n",
      "2200\n"
     ]
    }
   ],
   "source": [
    "##Employee class attributes remain unaffected:\n",
    "\n",
    "emp1=Employee('Itachi','Uchiha',2000)\n",
    "print(emp1.pay)\n",
    "emp1.apply_raise()\n",
    "print(emp1.pay)"
   ]
  },
  {
   "cell_type": "markdown",
   "id": "45317a06",
   "metadata": {},
   "source": [
    "Now we want to make changes to our subclasses to take in the department attribute as well.\n",
    "To do this, we will have to add an extra attribute to our subclass and give it its own init method.\n",
    "We want the Employee class's init method to handle the first,last,pay and only handle dept here.\n",
    "We do this by using the super().\n",
    "\n",
    "Note: super() is more maintainable in single inheritance.\n",
    "\n",
    "super()-super() is a built-in function that gives you access to methods of a parent (super) class from inside a child (subclass).\n",
    "\n",
    "Most commonly used to:\n",
    "\n",
    "1.Call the parent class’s __init__() constructor\n",
    "\n",
    "2.Or reuse parent methods you've overridden"
   ]
  },
  {
   "cell_type": "code",
   "execution_count": 20,
   "id": "4408d4e8",
   "metadata": {},
   "outputs": [],
   "source": [
    "class Employee:\n",
    "    raise_amount=1.1\n",
    "    def __init__(self, first, last, pay):\n",
    "        self.first=first\n",
    "        self.last=last\n",
    "        self.pay=pay\n",
    "        self.email=first+'s'+'@python.com'\n",
    "    def fullname(self):\n",
    "        return '{} {}'.format(self.first, self.last)\n",
    "    def apply_raise(self):\n",
    "        self.pay=int(self.pay * self.raise_amount)\n",
    "    \n",
    "class mlengineer(Employee):\n",
    "    raise_amount=1.15\n",
    "    def __init__(self, first, last, pay, dept):\n",
    "        super().__init__(first,last,pay)  ##Alt: Employee.__init__(self,first,last,pay) (More useful for multi-inheritance)\n",
    "        self.dept=dept\n",
    "\n",
    "class mlresearcher(Employee):\n",
    "    raise_amount=1.12\n",
    "    def __init__(self, first, last, pay, dept):\n",
    "        super().__init__(first,last,pay) \n",
    "        self.dept=dept"
   ]
  },
  {
   "cell_type": "code",
   "execution_count": 21,
   "id": "fa763722",
   "metadata": {},
   "outputs": [
    {
     "name": "stdout",
     "output_type": "stream",
     "text": [
      "WestWorld\n",
      "Rays@python.com\n"
     ]
    }
   ],
   "source": [
    "mleng1=mlengineer('Vik','Torque',1000, 'WestWorld')\n",
    "mleng2=mlengineer('Ping','Chang',980, 'Brunton Lab')\n",
    "\n",
    "mlres1=mlresearcher('Ray','Sunshine',1000, 'QuantGrav Lab')\n",
    "mlres2=mlresearcher('Steve','Brunton',2000, 'Brunton Lab')\n",
    "\n",
    "print(mleng1.dept)\n",
    "print(mlres1.email)"
   ]
  },
  {
   "cell_type": "markdown",
   "id": "b37fd074",
   "metadata": {},
   "source": [
    "Now we want to create another job role subclass called manager and give it a list of employees a manager supervises as an attribute in its init method:\n",
    "\n",
    "##### Note: \n",
    "We do not want to pass in a mutable data type as a default argument. Not recommended.\n",
    "\n",
    "When you use a mutable object (like a list, dictionary, or set) as a default value for a function parameter, that object is created only once, not every time the function is called.\n",
    "\n",
    "If the function modifies that default object, the changes will persist across future calls — which is almost never what you want. This means that previous calls will have already added data to your parameter and that data will persist in further calls."
   ]
  },
  {
   "cell_type": "code",
   "execution_count": 22,
   "id": "fefe5cc8",
   "metadata": {},
   "outputs": [],
   "source": [
    "class manager(Employee):\n",
    "    def __init__(self, first, last, pay, employees=None):\n",
    "        super().__init__(first,last,pay) \n",
    "        if employees is None:\n",
    "            self.employees=[]\n",
    "        else:\n",
    "            self.employees=employees  \n",
    "    ##Adding more methods in to add or remove employees as well as to print the employee list:\n",
    "    def add_emp(self, emp):\n",
    "        if emp not in self.employees:\n",
    "            self.employees.append(emp)\n",
    "    def remove_emp(self, emp):\n",
    "        if emp in self.employees:\n",
    "            self.employees.remove(emp)\n",
    "    def print_emp(self):\n",
    "        for emp in self.employees:\n",
    "            print(emp.fullname())"
   ]
  },
  {
   "cell_type": "code",
   "execution_count": 23,
   "id": "97398371",
   "metadata": {},
   "outputs": [
    {
     "name": "stdout",
     "output_type": "stream",
     "text": [
      "Andrejs@python.com\n"
     ]
    }
   ],
   "source": [
    "mgr1=manager('Andrej', 'Karpathy', 50000, [mleng1, mlres1])\n",
    "\n",
    "print(mgr1.email)"
   ]
  },
  {
   "cell_type": "code",
   "execution_count": 24,
   "id": "6c93a17f",
   "metadata": {},
   "outputs": [
    {
     "name": "stdout",
     "output_type": "stream",
     "text": [
      "Vik Torque\n",
      "Ray Sunshine\n"
     ]
    }
   ],
   "source": [
    "mgr1.print_emp()"
   ]
  },
  {
   "cell_type": "code",
   "execution_count": 28,
   "id": "d2e0bca5",
   "metadata": {},
   "outputs": [
    {
     "name": "stdout",
     "output_type": "stream",
     "text": [
      "Vik Torque\n",
      "Ray Sunshine\n",
      "Ping Chang\n",
      "\n",
      "Post removal:\n",
      "\n",
      "Vik Torque\n",
      "Ray Sunshine\n"
     ]
    }
   ],
   "source": [
    "mgr1.add_emp(mleng2)\n",
    "mgr1.print_emp()\n",
    "print('\\nPost removal:\\n')\n",
    "mgr1.remove_emp(mleng2)\n",
    "mgr1.print_emp()"
   ]
  },
  {
   "cell_type": "markdown",
   "id": "cbfaf9e5",
   "metadata": {},
   "source": [
    "##### isinstance() and is_subclass() in python:\n",
    "\n",
    "isinstance()-Tells us if an object is an instance of a class.\n",
    "\n",
    "issubclass()-Tells us whether a class is a subclass of another class."
   ]
  },
  {
   "cell_type": "code",
   "execution_count": 29,
   "id": "9362c366",
   "metadata": {},
   "outputs": [
    {
     "name": "stdout",
     "output_type": "stream",
     "text": [
      "True\n",
      "True\n",
      "False\n"
     ]
    }
   ],
   "source": [
    "print(isinstance(mgr1,manager))\n",
    "print(isinstance(mgr1,Employee))\n",
    "print(isinstance(mgr1,mlengineer))"
   ]
  },
  {
   "cell_type": "code",
   "execution_count": 30,
   "id": "95645bd5",
   "metadata": {},
   "outputs": [
    {
     "name": "stdout",
     "output_type": "stream",
     "text": [
      "True\n",
      "False\n"
     ]
    }
   ],
   "source": [
    "print(issubclass(mlengineer,Employee))\n",
    "print(issubclass(manager,mlengineer))"
   ]
  }
 ],
 "metadata": {
  "kernelspec": {
   "display_name": "Python 3",
   "language": "python",
   "name": "python3"
  },
  "language_info": {
   "codemirror_mode": {
    "name": "ipython",
    "version": 3
   },
   "file_extension": ".py",
   "mimetype": "text/x-python",
   "name": "python",
   "nbconvert_exporter": "python",
   "pygments_lexer": "ipython3",
   "version": "3.12.0"
  }
 },
 "nbformat": 4,
 "nbformat_minor": 5
}
