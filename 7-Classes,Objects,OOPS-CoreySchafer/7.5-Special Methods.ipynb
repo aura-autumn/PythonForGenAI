{
 "cells": [
  {
   "cell_type": "markdown",
   "id": "c996f2c8",
   "metadata": {},
   "source": [
    "##### Special (Magic / Dunder) Methods:"
   ]
  },
  {
   "cell_type": "markdown",
   "id": "d97bb79e",
   "metadata": {},
   "source": [
    "These methods help to emulate some built-in behaviour within Python. It is also how we implement operator overloading.\n",
    "\n",
    "Operator overloading means giving special meaning to standard operators (+, -, *, etc.) when used with objects of a custom class.\n",
    "\n",
    "You “overload” the operator by defining special methods like __add__, __sub__, __eq__, etc. inside your class.\n",
    "\n",
    "These methods are always surrounded by double underscores or dunders. The init function is also a special method."
   ]
  },
  {
   "cell_type": "code",
   "execution_count": 3,
   "id": "8bbe3bdc",
   "metadata": {},
   "outputs": [],
   "source": [
    "##Class and object printing before using special methods:\n",
    "class Employee:\n",
    "    raise_amount=1.1\n",
    "    def __init__(self, first, last, pay):\n",
    "        self.first=first\n",
    "        self.last=last\n",
    "        self.pay=pay\n",
    "        self.email=first+'s'+'@python.com'\n",
    "    def fullname(self):\n",
    "        return '{} {}'.format(self.first, self.last)\n",
    "    def apply_raise(self):\n",
    "        self.pay=int(self.pay * self.raise_amount)"
   ]
  },
  {
   "cell_type": "code",
   "execution_count": 4,
   "id": "0121d7d4",
   "metadata": {},
   "outputs": [
    {
     "name": "stdout",
     "output_type": "stream",
     "text": [
      "<__main__.Employee object at 0x000001AA53171D60>\n"
     ]
    }
   ],
   "source": [
    "emp1=Employee('Ray','Sunshine', 1000000)\n",
    "emp2=Employee('Vik','Torque', 120000)\n",
    "\n",
    "print(emp1)"
   ]
  },
  {
   "cell_type": "markdown",
   "id": "5224f85b",
   "metadata": {},
   "source": [
    "As you can see, the output is not very informative for either the developer or the end user. \n",
    "\n",
    "##### repr() and str()\n",
    "repr()- Meant to be an unambiguous representation of the object and should be used for debugging and logging.\n",
    "repr() is meant to be seen by other developers.\n",
    "\n",
    "It defines the official string representation of an object. It’s called when you:\n",
    "1. Print an object in an interactive shell\n",
    "2. Use repr(obj)\n",
    "3. Or view the object in debugging or logging\n",
    "\n",
    "str()-defines the \"informal\" or user-friendly string representation of an object.\n",
    "When is __str__ called?\n",
    "1. When you use print(obj)\n",
    "2. Or str(obj)\n",
    "Its goal is to return a string that’s easy to read and meaningful for users.\n",
    "\n",
    "Note: Even if you defined __str__, Python uses __repr__ inside collections (like lists, dicts, etc.) for better clarity."
   ]
  },
  {
   "cell_type": "code",
   "execution_count": 7,
   "id": "a73189c7",
   "metadata": {},
   "outputs": [],
   "source": [
    "##repr()\n",
    "class Employee:\n",
    "    raise_amount=1.1\n",
    "    def __init__(self, first, last, pay):\n",
    "        self.first=first\n",
    "        self.last=last\n",
    "        self.pay=pay\n",
    "        self.email=first+'s'+'@python.com'\n",
    "    def fullname(self):\n",
    "        return '{} {}'.format(self.first, self.last)\n",
    "    def apply_raise(self):\n",
    "        self.pay=int(self.pay * self.raise_amount)\n",
    "    def __repr__(self):\n",
    "        return \"Employee('{}','{}', {})\".format(self.first, self.last, self.pay)"
   ]
  },
  {
   "cell_type": "markdown",
   "id": "1a1944eb",
   "metadata": {},
   "source": [
    "We always want to have atleast the repr() method. str() falls back to repr() in certain cases(don't know yet, will find out someday)\n",
    "Good rule of thumb- when creating repr(), try to display something that you can copy and paste back in the python code that'd recreate that same object.\n",
    "- Use __repr__() for developers (debug, logs)\n",
    "-  Don’t make it pretty — make it clear and evaluable\n",
    "- Make it mimic: ClassName(arg1, arg2, ...)"
   ]
  },
  {
   "cell_type": "code",
   "execution_count": 8,
   "id": "d26a0d83",
   "metadata": {},
   "outputs": [
    {
     "name": "stdout",
     "output_type": "stream",
     "text": [
      "Employee('Ray','Sunshine', 1000000)\n"
     ]
    }
   ],
   "source": [
    "emp1=Employee('Ray','Sunshine', 1000000)\n",
    "emp2=Employee('Vik','Torque', 120000)\n",
    "\n",
    "print(emp1)"
   ]
  },
  {
   "cell_type": "code",
   "execution_count": 13,
   "id": "a7883fbd",
   "metadata": {},
   "outputs": [],
   "source": [
    "##str()\n",
    "class Employee:\n",
    "    raise_amount=1.1\n",
    "    def __init__(self, first, last, pay):\n",
    "        self.first=first\n",
    "        self.last=last\n",
    "        self.pay=pay\n",
    "        self.email=first+'s'+'@python.com'\n",
    "    def fullname(self):\n",
    "        return '{} {}'.format(self.first, self.last)\n",
    "    def apply_raise(self):\n",
    "        self.pay=int(self.pay * self.raise_amount)\n",
    "    def __repr__(self):\n",
    "        return \"Employee('{}','{}', {})\".format(self.first, self.last, self.pay)\n",
    "    def __str__(self):\n",
    "        return '{} - {}'.format(self.fullname(),self.email)"
   ]
  },
  {
   "cell_type": "code",
   "execution_count": 14,
   "id": "6d9f2489",
   "metadata": {},
   "outputs": [
    {
     "name": "stdout",
     "output_type": "stream",
     "text": [
      "Ray Sunshine - Rays@python.com\n"
     ]
    }
   ],
   "source": [
    "emp1=Employee('Ray','Sunshine', 1000000)\n",
    "emp2=Employee('Vik','Torque', 120000)\n",
    "\n",
    "print(emp1)"
   ]
  },
  {
   "cell_type": "code",
   "execution_count": 16,
   "id": "723b9467",
   "metadata": {},
   "outputs": [
    {
     "name": "stdout",
     "output_type": "stream",
     "text": [
      "Employee('Ray','Sunshine', 1000000)\n",
      "Ray Sunshine - Rays@python.com\n",
      "Employee('Vik','Torque', 120000)\n",
      "Vik Torque - Viks@python.com\n"
     ]
    }
   ],
   "source": [
    "print(repr(emp1))\n",
    "print(str(emp1))\n",
    "print(emp2.__repr__())\n",
    "print(emp2.__str__())"
   ]
  },
  {
   "cell_type": "code",
   "execution_count": 18,
   "id": "1a1b6853",
   "metadata": {},
   "outputs": [
    {
     "name": "stdout",
     "output_type": "stream",
     "text": [
      "3\n",
      "ab\n"
     ]
    }
   ],
   "source": [
    "##Dunder add:\n",
    "\n",
    "print(int.__add__(1,2))\n",
    "print(str.__add__('a','b'))"
   ]
  },
  {
   "cell_type": "code",
   "execution_count": 21,
   "id": "7eadf332",
   "metadata": {},
   "outputs": [],
   "source": [
    "##Calculating total salaries just by adding the employees together:\n",
    "\n",
    "class Employee:\n",
    "    raise_amount=1.1\n",
    "    def __init__(self, first, last, pay):\n",
    "        self.first=first\n",
    "        self.last=last\n",
    "        self.pay=pay\n",
    "        self.email=first+'s'+'@python.com'\n",
    "    def fullname(self):\n",
    "        return '{} {}'.format(self.first, self.last)\n",
    "    def apply_raise(self):\n",
    "        self.pay=int(self.pay * self.raise_amount)\n",
    "    def __repr__(self):\n",
    "        return \"Employee('{}','{}', {})\".format(self.first, self.last, self.pay)\n",
    "    def __str__(self):\n",
    "        return '{} - {}'.format(self.fullname(),self.email)\n",
    "    def __add__(self,other): ##Overwriting addition  by defining our own rules for addition\n",
    "        return self.pay+other.pay"
   ]
  },
  {
   "cell_type": "code",
   "execution_count": 22,
   "id": "c6fa42f8",
   "metadata": {},
   "outputs": [
    {
     "name": "stdout",
     "output_type": "stream",
     "text": [
      "1120000\n"
     ]
    }
   ],
   "source": [
    "emp1=Employee('Ray','Sunshine', 1000000)\n",
    "emp2=Employee('Vik','Torque', 120000)\n",
    "\n",
    "print(emp1+emp2)"
   ]
  },
  {
   "cell_type": "code",
   "execution_count": 23,
   "id": "9891938b",
   "metadata": {},
   "outputs": [
    {
     "name": "stdout",
     "output_type": "stream",
     "text": [
      "4\n",
      "4\n"
     ]
    }
   ],
   "source": [
    "##Dunder length method:\n",
    "\n",
    "print(len('test'))\n",
    "print('test'.__len__())"
   ]
  },
  {
   "cell_type": "code",
   "execution_count": 24,
   "id": "e19d5782",
   "metadata": {},
   "outputs": [],
   "source": [
    "##Overwriting len() so that when called, it returns the total characters in an employee's full name:\n",
    "class Employee:\n",
    "    raise_amount=1.1\n",
    "    def __init__(self, first, last, pay):\n",
    "        self.first=first\n",
    "        self.last=last\n",
    "        self.pay=pay\n",
    "        self.email=first+'s'+'@python.com'\n",
    "    def fullname(self):\n",
    "        return '{} {}'.format(self.first, self.last)\n",
    "    def apply_raise(self):\n",
    "        self.pay=int(self.pay * self.raise_amount)\n",
    "    def __repr__(self):\n",
    "        return \"Employee('{}','{}', {})\".format(self.first, self.last, self.pay)\n",
    "    def __str__(self):\n",
    "        return '{} - {}'.format(self.fullname(),self.email)\n",
    "    def __add__(self,other): ##Overwriting addition  by defining our own rules for addition\n",
    "        return self.pay+other.pay\n",
    "    def __len__(self):\n",
    "        return len(self.fullname())"
   ]
  },
  {
   "cell_type": "code",
   "execution_count": 25,
   "id": "9f96a0e7",
   "metadata": {},
   "outputs": [
    {
     "name": "stdout",
     "output_type": "stream",
     "text": [
      "12 10\n"
     ]
    }
   ],
   "source": [
    "emp1=Employee('Ray','Sunshine', 1000000)\n",
    "emp2=Employee('Vik','Torque', 120000)\n",
    "\n",
    "print(len(emp1),len(emp2))\n"
   ]
  }
 ],
 "metadata": {
  "kernelspec": {
   "display_name": "Python 3",
   "language": "python",
   "name": "python3"
  },
  "language_info": {
   "codemirror_mode": {
    "name": "ipython",
    "version": 3
   },
   "file_extension": ".py",
   "mimetype": "text/x-python",
   "name": "python",
   "nbconvert_exporter": "python",
   "pygments_lexer": "ipython3",
   "version": "3.12.0"
  }
 },
 "nbformat": 4,
 "nbformat_minor": 5
}
