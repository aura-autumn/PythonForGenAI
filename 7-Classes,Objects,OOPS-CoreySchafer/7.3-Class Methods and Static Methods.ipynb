{
 "cells": [
  {
   "cell_type": "markdown",
   "id": "28350914",
   "metadata": {},
   "source": [
    "##### Class Methods and Static Methods"
   ]
  },
  {
   "cell_type": "markdown",
   "id": "7f432055",
   "metadata": {},
   "source": [
    "Regular methods in a class automatically take the instance as a first argument. By convention, we write it as 'self'.\n",
    "\n",
    "Class methods take the class as their first argument. To create a class method, we write a regular method and add a decorator @classmethod to the top of the method. Thus, decorators are used to convert regular methods to class methods. By convention, we pass the class argument as cls."
   ]
  },
  {
   "cell_type": "code",
   "execution_count": 11,
   "id": "1a3d0c63",
   "metadata": {},
   "outputs": [],
   "source": [
    "class Employee:\n",
    "    num_of_emps=0\n",
    "    raise_amount=1.1\n",
    "    def __init__(self, first, last, pay):\n",
    "        self.first=first\n",
    "        self.last=last\n",
    "        self.pay=pay\n",
    "        self.email=first + 's' + '@python.com'\n",
    "        Employee.num_of_emps+=1  \n",
    "    def fullname(self):\n",
    "        return \"{} {}\".format(self.first, self.last)\n",
    "    def apply_raise(self):\n",
    "        self.pay=int(self.pay * self.raise_amount)\n",
    "    @classmethod\n",
    "    def set_raise_amt(cls, amount):\n",
    "        cls.raise_amount=amount"
   ]
  },
  {
   "cell_type": "code",
   "execution_count": 12,
   "id": "0b668fd0",
   "metadata": {},
   "outputs": [],
   "source": [
    "emp1=Employee('Ray','Sunshine',1000000)\n",
    "emp2=Employee('Vik','Torque',120000)"
   ]
  },
  {
   "cell_type": "code",
   "execution_count": 13,
   "id": "8cbca860",
   "metadata": {},
   "outputs": [
    {
     "name": "stdout",
     "output_type": "stream",
     "text": [
      "1.1\n",
      "1.1\n",
      "1.1\n"
     ]
    }
   ],
   "source": [
    "print(emp1.raise_amount)\n",
    "print(Employee.raise_amount)\n",
    "print(emp2.raise_amount)"
   ]
  },
  {
   "cell_type": "code",
   "execution_count": 14,
   "id": "3185c79a",
   "metadata": {},
   "outputs": [
    {
     "name": "stdout",
     "output_type": "stream",
     "text": [
      "1.2\n",
      "1.2\n",
      "1.2\n"
     ]
    }
   ],
   "source": [
    "Employee.set_raise_amt(1.2)  ##Passing amount value. It takes the class automatically as an argument.\n",
    "\n",
    "print(emp1.raise_amount)\n",
    "print(Employee.raise_amount)\n",
    "print(emp2.raise_amount)"
   ]
  },
  {
   "cell_type": "code",
   "execution_count": 15,
   "id": "5489d77b",
   "metadata": {},
   "outputs": [
    {
     "name": "stdout",
     "output_type": "stream",
     "text": [
      "1.2\n",
      "1.2\n",
      "1.2\n"
     ]
    }
   ],
   "source": [
    "## Running the class method from an instance:\n",
    "emp1.set_raise_amt(1.2) \n",
    "\n",
    "print(emp1.raise_amount)\n",
    "print(Employee.raise_amount)\n",
    "print(emp2.raise_amount)"
   ]
  },
  {
   "cell_type": "markdown",
   "id": "5218949b",
   "metadata": {},
   "source": [
    "Running a class method from an instance does not add an attribute specifically for that instance as was the case for the class variables. Here, the method only looks at the class associated with that instance and never looks into the instance."
   ]
  },
  {
   "cell_type": "markdown",
   "id": "92fae7b5",
   "metadata": {},
   "source": [
    "Class methods can be used to create multiple ways to create objects or instances. Thus, they act as constructors. Just like the init method.\n",
    "\n",
    "Constructor- A constructor is a special method in a class that automatically runs when an object is created. It's used to initialize (or \"construct\") the object with default or passed-in values."
   ]
  },
  {
   "cell_type": "code",
   "execution_count": 16,
   "id": "67cbdc29",
   "metadata": {},
   "outputs": [
    {
     "name": "stdout",
     "output_type": "stream",
     "text": [
      "2000000\n",
      "Itachis@python.com\n",
      "Itachi\n"
     ]
    }
   ],
   "source": [
    "## We can use a class method as a constrcutor in the following problem:\n",
    "## Say employee information is being passed as a string and you want your code to automatically parse this info into the correct variables or attributes:\n",
    "\n",
    "emp_str_1='Itachi-Uchiha-2000000'\n",
    "emp_str_2='Levi-Ackerman-1300000'\n",
    "emp_str_3='Kakashi-Hatake-2000000'\n",
    "\n",
    "##To create a new employee from these strings, we'd have to split the string first:\n",
    "first, last, pay=emp_str_1.split('-')\n",
    "##Now we'd create a new instance based on these values:\n",
    "emp_str_01=Employee(first,last,pay)\n",
    "\n",
    "##Now the instance is created:\n",
    "print(emp_str_01.pay)\n",
    "print(emp_str_01.email)\n",
    "print(emp_str_01.first)"
   ]
  },
  {
   "cell_type": "markdown",
   "id": "ab19e660",
   "metadata": {},
   "source": [
    "The above way of parsing and then creating an employee is tedious and hence we will be creating a new constructor as a class method to do this automatically.\n",
    "\n",
    "Note: Alternative constructors, by convention, start with 'from_'"
   ]
  },
  {
   "cell_type": "code",
   "execution_count": 19,
   "id": "ae51ca12",
   "metadata": {},
   "outputs": [],
   "source": [
    "class Employee:\n",
    "    num_of_emps=0\n",
    "    raise_amount=1.1\n",
    "    def __init__(self, first, last, pay):\n",
    "        self.first=first\n",
    "        self.last=last\n",
    "        self.pay=pay\n",
    "        self.email=first + 's' + '@python.com'\n",
    "        Employee.num_of_emps+=1  \n",
    "    def fullname(self):\n",
    "        return \"{} {}\".format(self.first, self.last)\n",
    "    def apply_raise(self):\n",
    "        self.pay=int(self.pay * self.raise_amount)\n",
    "    @classmethod\n",
    "    def set_raise_amt(cls, amount):\n",
    "        cls.raise_amount=amount\n",
    "    @classmethod\n",
    "    def from_string(cls,emp_str):\n",
    "        first, last, pay=emp_str.split('-')\n",
    "        ##This line is calling in the class and creating the employee. Then returning the object.\n",
    "        return cls(first, last, pay)   "
   ]
  },
  {
   "cell_type": "markdown",
   "id": "c426deba",
   "metadata": {},
   "source": [
    "Writing return cls(first, last, pay) is equivalent to writing:\n",
    "\n",
    "Employee(first, last, pay)\n",
    "\n",
    "And that triggers the actual constructor:\n",
    "\n",
    "def __init__(self, first, last, pay)\n",
    "\n",
    "So it doesn’t know from_string() is a constructor — it’s just calling the constructor using cls(...)."
   ]
  },
  {
   "cell_type": "code",
   "execution_count": 21,
   "id": "0b25d7fb",
   "metadata": {},
   "outputs": [
    {
     "name": "stdout",
     "output_type": "stream",
     "text": [
      "Itachi\n",
      "Levis@python.com\n",
      "Kakashi Hatake\n"
     ]
    }
   ],
   "source": [
    "emp_str_1='Itachi-Uchiha-2000000'\n",
    "emp_str_2='Levi-Ackerman-1300000'\n",
    "emp_str_3='Kakashi-Hatake-2000000'\n",
    "\n",
    "new_emp_1=Employee.from_string(emp_str_1)\n",
    "new_emp_2=Employee.from_string(emp_str_2)\n",
    "new_emp_3=Employee.from_string(emp_str_3)\n",
    "print(new_emp_1.first)\n",
    "print(new_emp_2.email)\n",
    "print(new_emp_3.fullname())"
   ]
  },
  {
   "cell_type": "markdown",
   "id": "6657d08d",
   "metadata": {},
   "source": [
    "1. Regular methods take instance (self) as the argument automatically.\n",
    "2. Class methods take the class (cls) as the argument automatically.\n",
    "3. Static methods don't take anything as an argument automatically.\n",
    "\n",
    "Thus, static methods behave like normal functions but are included in our class because they have some logical connection with our class.\n",
    "\n",
    "To create a static method, we write @staticmethod on top of the method."
   ]
  },
  {
   "cell_type": "code",
   "execution_count": 23,
   "id": "709831ef",
   "metadata": {},
   "outputs": [],
   "source": [
    "##Creating a static method to take in a date and return if it was a workday:\n",
    "##This method has a logical connection to our class but doesn't really depend on any instance or class variable.\n",
    "import datetime\n",
    "class Employee:\n",
    "    num_of_emps=0\n",
    "    raise_amount=1.1\n",
    "    def __init__(self, first, last, pay):\n",
    "        self.first=first\n",
    "        self.last=last\n",
    "        self.pay=pay\n",
    "        self.email=first + 's' + '@python.com'\n",
    "        Employee.num_of_emps+=1  \n",
    "    def fullname(self):\n",
    "        return \"{} {}\".format(self.first, self.last)\n",
    "    def apply_raise(self):\n",
    "        self.pay=int(self.pay * self.raise_amount)\n",
    "    @classmethod\n",
    "    def set_raise_amt(cls, amount):\n",
    "        cls.raise_amount=amount\n",
    "    @classmethod\n",
    "    def from_string(cls,emp_str):\n",
    "        first, last, pay=emp_str.split('-')\n",
    "        return cls(first, last, pay)   \n",
    "    @staticmethod\n",
    "    def is_workday(day):\n",
    "        ##Python function weekday assigns monday to 0 through sunday to 6\n",
    "        if day.weekday()==5 or day.weekday()==6:\n",
    "            return False\n",
    "        return True"
   ]
  },
  {
   "cell_type": "code",
   "execution_count": 24,
   "id": "3a4bf9f3",
   "metadata": {},
   "outputs": [],
   "source": [
    "emp1=Employee('Ray','Sunshine',1000000)\n",
    "emp2=Employee('Vik','Torque',120000)"
   ]
  },
  {
   "cell_type": "code",
   "execution_count": 26,
   "id": "b64ece9a",
   "metadata": {},
   "outputs": [
    {
     "name": "stdout",
     "output_type": "stream",
     "text": [
      "False\n"
     ]
    }
   ],
   "source": [
    "my_date=datetime.date(2025,7,13)\n",
    "print(Employee.is_workday(my_date))"
   ]
  }
 ],
 "metadata": {
  "kernelspec": {
   "display_name": "Python 3",
   "language": "python",
   "name": "python3"
  },
  "language_info": {
   "codemirror_mode": {
    "name": "ipython",
    "version": 3
   },
   "file_extension": ".py",
   "mimetype": "text/x-python",
   "name": "python",
   "nbconvert_exporter": "python",
   "pygments_lexer": "ipython3",
   "version": "3.12.0"
  }
 },
 "nbformat": 4,
 "nbformat_minor": 5
}
