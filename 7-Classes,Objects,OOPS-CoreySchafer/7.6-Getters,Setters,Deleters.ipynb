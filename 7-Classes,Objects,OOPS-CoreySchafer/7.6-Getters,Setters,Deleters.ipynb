{
 "cells": [
  {
   "cell_type": "markdown",
   "id": "c385062c",
   "metadata": {},
   "source": [
    "##### Getters, Setters, and Deleters in Python"
   ]
  },
  {
   "cell_type": "markdown",
   "id": "aa6dbc2a",
   "metadata": {},
   "source": [
    "These are called Property Decorators.\n",
    "These allow us to give our class attributes getter, setter, and deleter functionalities. "
   ]
  },
  {
   "cell_type": "code",
   "execution_count": 1,
   "id": "609ac52e",
   "metadata": {},
   "outputs": [],
   "source": [
    "class Employee:\n",
    "    def __init__(self,first,last):\n",
    "        self.first=first\n",
    "        self.last=last\n",
    "        self.email=first + 's@python.com'\n",
    "    def fullname(self):\n",
    "        return '{} {}'.format(self.first,self.last)"
   ]
  },
  {
   "cell_type": "code",
   "execution_count": 4,
   "id": "9d903a3e",
   "metadata": {},
   "outputs": [
    {
     "name": "stdout",
     "output_type": "stream",
     "text": [
      "Torque\n",
      "Vik\n",
      "Rays@python.com\n",
      "Torque Vik\n"
     ]
    }
   ],
   "source": [
    "emp1=Employee('Ray','Vik')\n",
    "emp1.first='Torque'\n",
    "print(emp1.first)\n",
    "print(emp1.last)\n",
    "print(emp1.email)\n",
    "print(emp1.fullname())"
   ]
  },
  {
   "cell_type": "markdown",
   "id": "e94af3a3",
   "metadata": {},
   "source": [
    "The first name did change but the email still ran the last value and not the updated one. This is because the instance was initialised once and the updated value never goes to the email logic, but, it does go to the fullname function because it refers to the method logic at every call. We need to solve this without changing our code too much as there might be sub classes already reusing the current logic and thus might take a long time to fix everywhere or even break the code. \n",
    "\n",
    "Thus, we use Property Decorators: Property decorators allow us to define a method, but we can access it like an attribute."
   ]
  },
  {
   "cell_type": "code",
   "execution_count": 8,
   "id": "2de174a8",
   "metadata": {},
   "outputs": [],
   "source": [
    "class Employee:\n",
    "    def __init__(self,first,last):\n",
    "        self.first=first\n",
    "        self.last=last\n",
    "    @property        ##This will keep the functionality and use cases the same as before and still let it be a method.\n",
    "    def email(self):\n",
    "        return '{}s@python.com'.format(self.first)\n",
    "    @property         ##Same as above. No need to call fullname() now. Just call instance.fullname\n",
    "    def fullname(self):\n",
    "        return '{} {}'.format(self.first,self.last)"
   ]
  },
  {
   "cell_type": "code",
   "execution_count": 9,
   "id": "3915a0a4",
   "metadata": {},
   "outputs": [
    {
     "name": "stdout",
     "output_type": "stream",
     "text": [
      "Rays@python.com\n",
      "Ray Vik\n"
     ]
    }
   ],
   "source": [
    "emp1=Employee('Ray','Vik')\n",
    "print(emp1.email)\n",
    "print(emp1.fullname)"
   ]
  },
  {
   "cell_type": "markdown",
   "id": "9acdd939",
   "metadata": {},
   "source": [
    "Now, if we wanted to use fullname to set the value of first and last variables, we do it by using setters. The name of the setter has to be the name of our property like: @fullname.setter"
   ]
  },
  {
   "cell_type": "code",
   "execution_count": 10,
   "id": "5282e6e4",
   "metadata": {},
   "outputs": [],
   "source": [
    "class Employee:\n",
    "    def __init__(self,first,last):\n",
    "        self.first=first\n",
    "        self.last=last\n",
    "    @property        ##This will keep the functionality and use cases the same as before and still let it be a method.\n",
    "    def email(self):\n",
    "        return '{}s@python.com'.format(self.first)\n",
    "    @property         ##Same as above. No need to call fullname() now. Just call instance.fullname\n",
    "    def fullname(self):\n",
    "        return '{} {}'.format(self.first,self.last)\n",
    "    @fullname.setter\n",
    "    def fullname(self, name):\n",
    "        first,last=name.split(' ')\n",
    "        self.first=first\n",
    "        self.last=last"
   ]
  },
  {
   "cell_type": "code",
   "execution_count": 12,
   "id": "c23284c8",
   "metadata": {},
   "outputs": [
    {
     "name": "stdout",
     "output_type": "stream",
     "text": [
      "Rays@python.com\n",
      "Ray Vik\n",
      "Sunshine\n",
      "Sunshines@python.com\n",
      "Sunshine Torque\n"
     ]
    }
   ],
   "source": [
    "emp1=Employee('Ray','Vik')\n",
    "print(emp1.email)\n",
    "print(emp1.fullname)\n",
    "emp1.fullname='Sunshine Torque'\n",
    "print(emp1.first)\n",
    "print(emp1.email)\n",
    "print(emp1.fullname)"
   ]
  },
  {
   "cell_type": "code",
   "execution_count": 13,
   "id": "f2ee2991",
   "metadata": {},
   "outputs": [],
   "source": [
    "##Making a deleter in the same way.\n",
    "class Employee:\n",
    "    def __init__(self,first,last):\n",
    "        self.first=first\n",
    "        self.last=last\n",
    "    @property        ##This will keep the functionality and use cases the same as before and still let it be a method.\n",
    "    def email(self):\n",
    "        return '{}s@python.com'.format(self.first)\n",
    "    @property         ##Same as above. No need to call fullname() now. Just call instance.fullname\n",
    "    def fullname(self):\n",
    "        return '{} {}'.format(self.first,self.last)\n",
    "    @fullname.setter\n",
    "    def fullname(self, name):\n",
    "        first,last=name.split(' ')\n",
    "        self.first=first\n",
    "        self.last=last\n",
    "    @fullname.deleter\n",
    "    def fullname(self):\n",
    "        print('Delete Name')\n",
    "        self.first=None\n",
    "        self.last=None"
   ]
  },
  {
   "cell_type": "code",
   "execution_count": 14,
   "id": "3fb8d726",
   "metadata": {},
   "outputs": [
    {
     "name": "stdout",
     "output_type": "stream",
     "text": [
      "Rays@python.com\n",
      "Ray Vik\n",
      "Delete Name\n",
      "None None\n"
     ]
    }
   ],
   "source": [
    "emp1=Employee('Ray','Vik')\n",
    "print(emp1.email)\n",
    "print(emp1.fullname)\n",
    "del emp1.fullname\n",
    "print(emp1.fullname)"
   ]
  }
 ],
 "metadata": {
  "kernelspec": {
   "display_name": "Python 3",
   "language": "python",
   "name": "python3"
  },
  "language_info": {
   "codemirror_mode": {
    "name": "ipython",
    "version": 3
   },
   "file_extension": ".py",
   "mimetype": "text/x-python",
   "name": "python",
   "nbconvert_exporter": "python",
   "pygments_lexer": "ipython3",
   "version": "3.12.0"
  }
 },
 "nbformat": 4,
 "nbformat_minor": 5
}
