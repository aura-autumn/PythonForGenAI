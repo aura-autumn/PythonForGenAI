{
 "cells": [
  {
   "cell_type": "markdown",
   "id": "dd1c4a60",
   "metadata": {},
   "source": [
    "##### Standard Library in Python"
   ]
  },
  {
   "cell_type": "code",
   "execution_count": 3,
   "id": "15cf2964",
   "metadata": {},
   "outputs": [
    {
     "name": "stdout",
     "output_type": "stream",
     "text": [
      "array('i', [1, 2, 3, 4])\n"
     ]
    }
   ],
   "source": [
    "import array\n",
    "arr=array.array('i', [1,2,3,4]) ##(type-int, initializer)\n",
    "print(arr)"
   ]
  },
  {
   "cell_type": "code",
   "execution_count": 4,
   "id": "1a881b6e",
   "metadata": {},
   "outputs": [
    {
     "data": {
      "text/plain": [
       "9.433981132056603"
      ]
     },
     "execution_count": 4,
     "metadata": {},
     "output_type": "execute_result"
    }
   ],
   "source": [
    "import math\n",
    "math.sqrt(89)"
   ]
  },
  {
   "cell_type": "code",
   "execution_count": 6,
   "id": "7568dd8e",
   "metadata": {},
   "outputs": [
    {
     "name": "stdout",
     "output_type": "stream",
     "text": [
      "10\n",
      "a\n"
     ]
    }
   ],
   "source": [
    "## random library:\n",
    "\n",
    "import random\n",
    "print(random.randint(1,10)) ##Outputs a random integer within the specified range\n",
    "print(random.choice(['a','b','c','d']))"
   ]
  },
  {
   "cell_type": "code",
   "execution_count": 7,
   "id": "849d4a95",
   "metadata": {},
   "outputs": [
    {
     "name": "stdout",
     "output_type": "stream",
     "text": [
      "c:\\Users\\Safi\\Desktop\\UdemyGenAi\\Python\\4-Modules in Python\n"
     ]
    }
   ],
   "source": [
    "## File and directory access:\n",
    "\n",
    "import os\n",
    "print(os.getcwd()) ##get current working directory"
   ]
  },
  {
   "cell_type": "code",
   "execution_count": 8,
   "id": "5370d3e7",
   "metadata": {},
   "outputs": [],
   "source": [
    "##Creating a folder in the current directory:\n",
    "os.mkdir('test_dir') ##Make directory-mkdir"
   ]
  },
  {
   "cell_type": "code",
   "execution_count": 10,
   "id": "621bbd1f",
   "metadata": {},
   "outputs": [],
   "source": [
    "##Creating a file and writing in it:\n",
    "file_name='notes.txt'\n",
    "file_path=os.path.join('test_dir',file_name)\n",
    "with open (file_path, 'w') as file:\n",
    "    file.write('Yo!')"
   ]
  },
  {
   "cell_type": "code",
   "execution_count": 12,
   "id": "e2e0b9c7",
   "metadata": {},
   "outputs": [
    {
     "data": {
      "text/plain": [
       "'testcopy.py'"
      ]
     },
     "execution_count": 12,
     "metadata": {},
     "output_type": "execute_result"
    }
   ],
   "source": [
    "## High level operations on files and collections of files:\n",
    "import shutil\n",
    "\n",
    "shutil.copy('test.py', 'testcopy.py')"
   ]
  },
  {
   "cell_type": "code",
   "execution_count": 16,
   "id": "18a02166",
   "metadata": {},
   "outputs": [
    {
     "name": "stdout",
     "output_type": "stream",
     "text": [
      "{\"name\": \"Ray\", \"age\": 25}\n",
      "<class 'str'>\n"
     ]
    }
   ],
   "source": [
    "## data serialization:\n",
    "import json\n",
    "\n",
    "data={'name':'Ray', 'age':25}\n",
    "json_str=json.dumps(data)\n",
    "print(json_str)\n",
    "print(type(json_str))"
   ]
  },
  {
   "cell_type": "code",
   "execution_count": 18,
   "id": "eeb9e071",
   "metadata": {},
   "outputs": [
    {
     "name": "stdout",
     "output_type": "stream",
     "text": [
      "{'name': 'Ray', 'age': 25}\n",
      "<class 'dict'>\n"
     ]
    }
   ],
   "source": [
    "parsed_data=json.loads(json_str)\n",
    "print(parsed_data)\n",
    "print(type(parsed_data))"
   ]
  },
  {
   "cell_type": "code",
   "execution_count": 20,
   "id": "539eb1a3",
   "metadata": {},
   "outputs": [
    {
     "name": "stdout",
     "output_type": "stream",
     "text": [
      "['name', 'age']\n",
      "['Ray', '25']\n"
     ]
    }
   ],
   "source": [
    "## csv\n",
    "import csv\n",
    "with open('example.csv', mode='w', newline='') as file:\n",
    "    writer=csv.writer(file)\n",
    "    writer.writerow(['name','age'])\n",
    "    writer.writerow(['Ray',25])\n",
    "\n",
    "with open('example.csv', mode='r') as file:\n",
    "    reader=csv.reader(file)\n",
    "    for row in reader:\n",
    "        print(row)"
   ]
  },
  {
   "cell_type": "code",
   "execution_count": 21,
   "id": "6ea578db",
   "metadata": {},
   "outputs": [
    {
     "name": "stdout",
     "output_type": "stream",
     "text": [
      "2025-07-11 17:54:24.540409\n",
      "2025-07-10 17:54:24.540409\n"
     ]
    }
   ],
   "source": [
    "## date time\n",
    "\n",
    "from datetime import datetime, timedelta\n",
    "\n",
    "now=datetime.now()\n",
    "print(now)\n",
    "\n",
    "yesterday=now-timedelta(days=1)\n",
    "print(yesterday)"
   ]
  },
  {
   "cell_type": "code",
   "execution_count": 22,
   "id": "ef869a04",
   "metadata": {},
   "outputs": [
    {
     "name": "stdout",
     "output_type": "stream",
     "text": [
      "1752236755.4584236\n",
      "1752236757.4592023\n"
     ]
    }
   ],
   "source": [
    "## time\n",
    "\n",
    "import time\n",
    "\n",
    "print(time.time())\n",
    "time.sleep(2)\n",
    "print(time.time())"
   ]
  },
  {
   "cell_type": "code",
   "execution_count": null,
   "id": "20b35dfc",
   "metadata": {},
   "outputs": [
    {
     "name": "stdout",
     "output_type": "stream",
     "text": [
      "123\n"
     ]
    }
   ],
   "source": [
    "## Regular expressions:\n",
    "\n",
    "import re\n",
    "pattern=r'\\d+'  ##digits\n",
    "text='There are 123 apples 456'\n",
    "match=re.search(pattern,text)\n",
    "print(match.group()) ##returning the digits. First match only."
   ]
  }
 ],
 "metadata": {
  "kernelspec": {
   "display_name": "Python 3",
   "language": "python",
   "name": "python3"
  },
  "language_info": {
   "codemirror_mode": {
    "name": "ipython",
    "version": 3
   },
   "file_extension": ".py",
   "mimetype": "text/x-python",
   "name": "python",
   "nbconvert_exporter": "python",
   "pygments_lexer": "ipython3",
   "version": "3.12.0"
  }
 },
 "nbformat": 4,
 "nbformat_minor": 5
}
