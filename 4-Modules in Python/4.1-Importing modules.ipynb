{
 "cells": [
  {
   "cell_type": "markdown",
   "id": "bd804611",
   "metadata": {},
   "source": [
    "##### Importing modules in Python: Modules and Packages"
   ]
  },
  {
   "cell_type": "code",
   "execution_count": 1,
   "id": "2f41f5bf",
   "metadata": {},
   "outputs": [
    {
     "data": {
      "text/plain": [
       "4.0"
      ]
     },
     "execution_count": 1,
     "metadata": {},
     "output_type": "execute_result"
    }
   ],
   "source": [
    "import math\n",
    "math.sqrt(16)"
   ]
  },
  {
   "cell_type": "code",
   "execution_count": 2,
   "id": "2c15fce4",
   "metadata": {},
   "outputs": [
    {
     "name": "stdout",
     "output_type": "stream",
     "text": [
      "7.0\n",
      "1.4142135623730951\n",
      "3.141592653589793\n"
     ]
    }
   ],
   "source": [
    "from math import sqrt, pi\n",
    "\n",
    "print(sqrt(49))\n",
    "print(sqrt(2))\n",
    "print(pi)"
   ]
  },
  {
   "cell_type": "code",
   "execution_count": 4,
   "id": "19559097",
   "metadata": {},
   "outputs": [
    {
     "data": {
      "text/plain": [
       "array([1, 2, 3, 4])"
      ]
     },
     "execution_count": 4,
     "metadata": {},
     "output_type": "execute_result"
    }
   ],
   "source": [
    "import numpy as np ##alias\n",
    "np.array([1,2,3,4])"
   ]
  },
  {
   "cell_type": "code",
   "execution_count": 5,
   "id": "b604afc7",
   "metadata": {},
   "outputs": [],
   "source": [
    "## To import all the modules:\n",
    "\n",
    "from math import *"
   ]
  },
  {
   "cell_type": "markdown",
   "id": "25e554d3",
   "metadata": {},
   "source": [
    "To initialize any folder as a package and files inside it as modules, we must have the \\_\\_init\\_\\_.py file in the\n",
    "folder. "
   ]
  },
  {
   "cell_type": "code",
   "execution_count": 6,
   "id": "5d944773",
   "metadata": {},
   "outputs": [],
   "source": [
    "from Package.maths import addition ##Must all be in the same folder location"
   ]
  },
  {
   "cell_type": "code",
   "execution_count": 7,
   "id": "7333e92d",
   "metadata": {},
   "outputs": [
    {
     "data": {
      "text/plain": [
       "5"
      ]
     },
     "execution_count": 7,
     "metadata": {},
     "output_type": "execute_result"
    }
   ],
   "source": [
    "addition(2,3)"
   ]
  },
  {
   "cell_type": "code",
   "execution_count": 15,
   "id": "48a6987d",
   "metadata": {},
   "outputs": [],
   "source": [
    "from Package.maths import *"
   ]
  },
  {
   "cell_type": "code",
   "execution_count": 17,
   "id": "924919d2",
   "metadata": {},
   "outputs": [
    {
     "data": {
      "text/plain": [
       "5"
      ]
     },
     "execution_count": 17,
     "metadata": {},
     "output_type": "execute_result"
    }
   ],
   "source": [
    "addition(2,3)"
   ]
  },
  {
   "cell_type": "code",
   "execution_count": 19,
   "id": "c62c0dee",
   "metadata": {},
   "outputs": [
    {
     "data": {
      "text/plain": [
       "<module 'Package.maths' from 'c:\\\\Users\\\\Safi\\\\Desktop\\\\UdemyGenAi\\\\Python\\\\4-Modules in Python\\\\Package\\\\maths.py'>"
      ]
     },
     "execution_count": 19,
     "metadata": {},
     "output_type": "execute_result"
    }
   ],
   "source": [
    "import importlib\n",
    "import Package.maths\n",
    "importlib.reload(Package.maths)"
   ]
  },
  {
   "cell_type": "code",
   "execution_count": 20,
   "id": "c1adcd9e",
   "metadata": {},
   "outputs": [
    {
     "data": {
      "text/plain": [
       "1"
      ]
     },
     "execution_count": 20,
     "metadata": {},
     "output_type": "execute_result"
    }
   ],
   "source": [
    "maths.sub(9,8)"
   ]
  },
  {
   "cell_type": "code",
   "execution_count": 24,
   "id": "10ea9edf",
   "metadata": {},
   "outputs": [
    {
     "data": {
      "text/plain": [
       "<module 'Package.maths' from 'c:\\\\Users\\\\Safi\\\\Desktop\\\\UdemyGenAi\\\\Python\\\\4-Modules in Python\\\\Package\\\\maths.py'>"
      ]
     },
     "execution_count": 24,
     "metadata": {},
     "output_type": "execute_result"
    }
   ],
   "source": [
    "import importlib\n",
    "import Package.maths\n",
    "importlib.reload(Package.maths)"
   ]
  },
  {
   "cell_type": "code",
   "execution_count": 26,
   "id": "20492b5e",
   "metadata": {},
   "outputs": [
    {
     "data": {
      "text/plain": [
       "3.0"
      ]
     },
     "execution_count": 26,
     "metadata": {},
     "output_type": "execute_result"
    }
   ],
   "source": [
    "maths.div(9,3)"
   ]
  },
  {
   "cell_type": "code",
   "execution_count": 47,
   "id": "1d4d15f2",
   "metadata": {},
   "outputs": [
    {
     "data": {
      "text/plain": [
       "<module 'Package.SubPackage' (namespace) from ['c:\\\\Users\\\\Safi\\\\Desktop\\\\UdemyGenAi\\\\Python\\\\4-Modules in Python\\\\Package\\\\SubPackage']>"
      ]
     },
     "execution_count": 47,
     "metadata": {},
     "output_type": "execute_result"
    }
   ],
   "source": [
    "import importlib\n",
    "import Package.SubPackage\n",
    "importlib.reload(Package.SubPackage)"
   ]
  },
  {
   "cell_type": "code",
   "execution_count": 49,
   "id": "812085f8",
   "metadata": {},
   "outputs": [],
   "source": [
    "from Package.SubPackage.multiplication import multiply"
   ]
  },
  {
   "cell_type": "code",
   "execution_count": 50,
   "id": "a6ab40e8",
   "metadata": {},
   "outputs": [
    {
     "data": {
      "text/plain": [
       "12"
      ]
     },
     "execution_count": 50,
     "metadata": {},
     "output_type": "execute_result"
    }
   ],
   "source": [
    "multiply(3,4)"
   ]
  }
 ],
 "metadata": {
  "kernelspec": {
   "display_name": "Python 3",
   "language": "python",
   "name": "python3"
  },
  "language_info": {
   "codemirror_mode": {
    "name": "ipython",
    "version": 3
   },
   "file_extension": ".py",
   "mimetype": "text/x-python",
   "name": "python",
   "nbconvert_exporter": "python",
   "pygments_lexer": "ipython3",
   "version": "3.12.0"
  }
 },
 "nbformat": 4,
 "nbformat_minor": 5
}
